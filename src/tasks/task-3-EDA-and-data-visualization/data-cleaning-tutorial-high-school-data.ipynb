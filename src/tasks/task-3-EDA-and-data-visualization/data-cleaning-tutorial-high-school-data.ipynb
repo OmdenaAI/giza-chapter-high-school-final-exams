{
 "cells": [
  {
   "cell_type": "markdown",
   "id": "0c68f56a",
   "metadata": {
    "execution": {
     "iopub.execute_input": "2022-11-29T06:49:31.602606Z",
     "iopub.status.busy": "2022-11-29T06:49:31.602135Z",
     "iopub.status.idle": "2022-11-29T06:49:32.150695Z",
     "shell.execute_reply": "2022-11-29T06:49:32.149375Z",
     "shell.execute_reply.started": "2022-11-29T06:49:31.602567Z"
    },
    "papermill": {
     "duration": 0.018372,
     "end_time": "2022-12-01T14:42:05.121017",
     "exception": false,
     "start_time": "2022-12-01T14:42:05.102645",
     "status": "completed"
    },
    "tags": []
   },
   "source": [
    "# Import Libraries"
   ]
  },
  {
   "cell_type": "code",
   "execution_count": 1,
   "id": "24675a58",
   "metadata": {
    "execution": {
     "iopub.execute_input": "2022-12-01T14:42:05.158965Z",
     "iopub.status.busy": "2022-12-01T14:42:05.158332Z",
     "iopub.status.idle": "2022-12-01T14:42:19.520965Z",
     "shell.execute_reply": "2022-12-01T14:42:19.519697Z"
    },
    "papermill": {
     "duration": 14.387793,
     "end_time": "2022-12-01T14:42:19.524123",
     "exception": false,
     "start_time": "2022-12-01T14:42:05.136330",
     "status": "completed"
    },
    "tags": []
   },
   "outputs": [
    {
     "name": "stdout",
     "output_type": "stream",
     "text": [
      "Collecting arabic_reshaper\r\n",
      "  Downloading arabic_reshaper-2.1.4-py3-none-any.whl (20 kB)\r\n",
      "Requirement already satisfied: future in /opt/conda/lib/python3.7/site-packages (from arabic_reshaper) (0.18.2)\r\n",
      "Installing collected packages: arabic_reshaper\r\n",
      "Successfully installed arabic_reshaper-2.1.4\r\n",
      "\u001b[33mWARNING: Running pip as the 'root' user can result in broken permissions and conflicting behaviour with the system package manager. It is recommended to use a virtual environment instead: https://pip.pypa.io/warnings/venv\u001b[0m\u001b[33m\r\n",
      "\u001b[0m"
     ]
    }
   ],
   "source": [
    "!pip install arabic_reshaper"
   ]
  },
  {
   "cell_type": "code",
   "execution_count": 2,
   "id": "c03d209e",
   "metadata": {
    "execution": {
     "iopub.execute_input": "2022-12-01T14:42:19.556306Z",
     "iopub.status.busy": "2022-12-01T14:42:19.555886Z",
     "iopub.status.idle": "2022-12-01T14:42:20.860971Z",
     "shell.execute_reply": "2022-12-01T14:42:20.859696Z"
    },
    "papermill": {
     "duration": 1.324315,
     "end_time": "2022-12-01T14:42:20.863787",
     "exception": false,
     "start_time": "2022-12-01T14:42:19.539472",
     "status": "completed"
    },
    "tags": []
   },
   "outputs": [],
   "source": [
    "import pandas as pd\n",
    "import numpy as np\n",
    "import matplotlib.pyplot as plt\n",
    "import seaborn as sns\n",
    "plt.style.use('ggplot')\n",
    "import arabic_reshaper\n",
    "from bidi.algorithm import get_display\n"
   ]
  },
  {
   "cell_type": "code",
   "execution_count": 3,
   "id": "b75c65dd",
   "metadata": {
    "execution": {
     "iopub.execute_input": "2022-12-01T14:42:20.894423Z",
     "iopub.status.busy": "2022-12-01T14:42:20.894025Z",
     "iopub.status.idle": "2022-12-01T14:42:31.303411Z",
     "shell.execute_reply": "2022-12-01T14:42:31.302083Z"
    },
    "papermill": {
     "duration": 10.428065,
     "end_time": "2022-12-01T14:42:31.306433",
     "exception": false,
     "start_time": "2022-12-01T14:42:20.878368",
     "status": "completed"
    },
    "tags": []
   },
   "outputs": [
    {
     "name": "stderr",
     "output_type": "stream",
     "text": [
      "/opt/conda/lib/python3.7/site-packages/IPython/core/interactiveshell.py:3552: DtypeWarning: Columns (1,2,3,4,5,6,7,8,9,10,11,12,13,14,15,16,17,18,19,20,21,23,24,25) have mixed types.Specify dtype option on import or set low_memory=False.\n",
      "  exec(code_obj, self.user_global_ns, self.user_ns)\n"
     ]
    },
    {
     "data": {
      "text/html": [
       "<div>\n",
       "<style scoped>\n",
       "    .dataframe tbody tr th:only-of-type {\n",
       "        vertical-align: middle;\n",
       "    }\n",
       "\n",
       "    .dataframe tbody tr th {\n",
       "        vertical-align: top;\n",
       "    }\n",
       "\n",
       "    .dataframe thead th {\n",
       "        text-align: right;\n",
       "    }\n",
       "</style>\n",
       "<table border=\"1\" class=\"dataframe\">\n",
       "  <thead>\n",
       "    <tr style=\"text-align: right;\">\n",
       "      <th></th>\n",
       "      <th>desk_no</th>\n",
       "      <th>name</th>\n",
       "      <th>school_name_arabic</th>\n",
       "      <th>administration</th>\n",
       "      <th>government_Arabic</th>\n",
       "      <th>branch</th>\n",
       "      <th>Percentage</th>\n",
       "      <th>student_type</th>\n",
       "      <th>status</th>\n",
       "      <th>arabic</th>\n",
       "      <th>...</th>\n",
       "      <th>chemistry</th>\n",
       "      <th>biology</th>\n",
       "      <th>geology</th>\n",
       "      <th>applied_math</th>\n",
       "      <th>physics</th>\n",
       "      <th>total</th>\n",
       "      <th>religion</th>\n",
       "      <th>altarbiat_alwatania</th>\n",
       "      <th>economics_statistics</th>\n",
       "      <th>gender</th>\n",
       "    </tr>\n",
       "  </thead>\n",
       "  <tbody>\n",
       "    <tr>\n",
       "      <th>0</th>\n",
       "      <td>102300.0</td>\n",
       "      <td>احمد محمد احمد محمود ابوالقاسم</td>\n",
       "      <td>مدارس النيل المصريه بنين</td>\n",
       "      <td>أكتوبر</td>\n",
       "      <td>الجيزة</td>\n",
       "      <td>غير محدد</td>\n",
       "      <td>0%</td>\n",
       "      <td>نوعيات أخرى</td>\n",
       "      <td>ناجح</td>\n",
       "      <td>غير مقرر</td>\n",
       "      <td>...</td>\n",
       "      <td>غير مقرر</td>\n",
       "      <td>غير مقرر</td>\n",
       "      <td>غير مقرر</td>\n",
       "      <td>غير مقرر</td>\n",
       "      <td>غير مقرر</td>\n",
       "      <td>0.0</td>\n",
       "      <td>23</td>\n",
       "      <td>20</td>\n",
       "      <td>غير مقرر</td>\n",
       "      <td>M</td>\n",
       "    </tr>\n",
       "    <tr>\n",
       "      <th>1</th>\n",
       "      <td>102301.0</td>\n",
       "      <td>احمد محمد عبدالصادق سلامه</td>\n",
       "      <td>مدارس النيل المصريه بنين</td>\n",
       "      <td>أكتوبر</td>\n",
       "      <td>الجيزة</td>\n",
       "      <td>غير محدد</td>\n",
       "      <td>0%</td>\n",
       "      <td>نوعيات أخرى</td>\n",
       "      <td>ناجح</td>\n",
       "      <td>غير مقرر</td>\n",
       "      <td>...</td>\n",
       "      <td>غير مقرر</td>\n",
       "      <td>غير مقرر</td>\n",
       "      <td>غير مقرر</td>\n",
       "      <td>غير مقرر</td>\n",
       "      <td>غير مقرر</td>\n",
       "      <td>0.0</td>\n",
       "      <td>23</td>\n",
       "      <td>23</td>\n",
       "      <td>غير مقرر</td>\n",
       "      <td>M</td>\n",
       "    </tr>\n",
       "    <tr>\n",
       "      <th>2</th>\n",
       "      <td>102302.0</td>\n",
       "      <td>ادهم اشرف عبدالهادي معاذ</td>\n",
       "      <td>مدارس النيل المصريه بنين</td>\n",
       "      <td>أكتوبر</td>\n",
       "      <td>الجيزة</td>\n",
       "      <td>غير محدد</td>\n",
       "      <td>0%</td>\n",
       "      <td>نوعيات أخرى</td>\n",
       "      <td>ناجح</td>\n",
       "      <td>غير مقرر</td>\n",
       "      <td>...</td>\n",
       "      <td>غير مقرر</td>\n",
       "      <td>غير مقرر</td>\n",
       "      <td>غير مقرر</td>\n",
       "      <td>غير مقرر</td>\n",
       "      <td>غير مقرر</td>\n",
       "      <td>0.0</td>\n",
       "      <td>17</td>\n",
       "      <td>14</td>\n",
       "      <td>غير مقرر</td>\n",
       "      <td>M</td>\n",
       "    </tr>\n",
       "    <tr>\n",
       "      <th>3</th>\n",
       "      <td>102303.0</td>\n",
       "      <td>بيير جون نبيل غالي سعد</td>\n",
       "      <td>مدارس النيل المصريه بنين</td>\n",
       "      <td>أكتوبر</td>\n",
       "      <td>الجيزة</td>\n",
       "      <td>غير محدد</td>\n",
       "      <td>0%</td>\n",
       "      <td>نوعيات أخرى</td>\n",
       "      <td>ناجح</td>\n",
       "      <td>غير مقرر</td>\n",
       "      <td>...</td>\n",
       "      <td>غير مقرر</td>\n",
       "      <td>غير مقرر</td>\n",
       "      <td>غير مقرر</td>\n",
       "      <td>غير مقرر</td>\n",
       "      <td>غير مقرر</td>\n",
       "      <td>0.0</td>\n",
       "      <td>21</td>\n",
       "      <td>22</td>\n",
       "      <td>غير مقرر</td>\n",
       "      <td>M</td>\n",
       "    </tr>\n",
       "    <tr>\n",
       "      <th>4</th>\n",
       "      <td>102304.0</td>\n",
       "      <td>رامي محمود عبدالمنعم شحاته</td>\n",
       "      <td>مدارس النيل المصريه بنين</td>\n",
       "      <td>أكتوبر</td>\n",
       "      <td>الجيزة</td>\n",
       "      <td>غير محدد</td>\n",
       "      <td>0%</td>\n",
       "      <td>نوعيات أخرى</td>\n",
       "      <td>ناجح</td>\n",
       "      <td>غير مقرر</td>\n",
       "      <td>...</td>\n",
       "      <td>غير مقرر</td>\n",
       "      <td>غير مقرر</td>\n",
       "      <td>غير مقرر</td>\n",
       "      <td>غير مقرر</td>\n",
       "      <td>غير مقرر</td>\n",
       "      <td>0.0</td>\n",
       "      <td>19</td>\n",
       "      <td>21</td>\n",
       "      <td>غير مقرر</td>\n",
       "      <td>M</td>\n",
       "    </tr>\n",
       "  </tbody>\n",
       "</table>\n",
       "<p>5 rows × 27 columns</p>\n",
       "</div>"
      ],
      "text/plain": [
       "    desk_no                            name        school_name_arabic  \\\n",
       "0  102300.0  احمد محمد احمد محمود ابوالقاسم  مدارس النيل المصريه بنين   \n",
       "1  102301.0       احمد محمد عبدالصادق سلامه  مدارس النيل المصريه بنين   \n",
       "2  102302.0        ادهم اشرف عبدالهادي معاذ  مدارس النيل المصريه بنين   \n",
       "3  102303.0          بيير جون نبيل غالي سعد  مدارس النيل المصريه بنين   \n",
       "4  102304.0      رامي محمود عبدالمنعم شحاته  مدارس النيل المصريه بنين   \n",
       "\n",
       "  administration government_Arabic    branch Percentage student_type status  \\\n",
       "0         أكتوبر            الجيزة  غير محدد         0%  نوعيات أخرى   ناجح   \n",
       "1         أكتوبر            الجيزة  غير محدد         0%  نوعيات أخرى   ناجح   \n",
       "2         أكتوبر            الجيزة  غير محدد         0%  نوعيات أخرى   ناجح   \n",
       "3         أكتوبر            الجيزة  غير محدد         0%  نوعيات أخرى   ناجح   \n",
       "4         أكتوبر            الجيزة  غير محدد         0%  نوعيات أخرى   ناجح   \n",
       "\n",
       "     arabic  ... chemistry   biology   geology applied_math   physics total  \\\n",
       "0  غير مقرر  ...  غير مقرر  غير مقرر  غير مقرر     غير مقرر  غير مقرر   0.0   \n",
       "1  غير مقرر  ...  غير مقرر  غير مقرر  غير مقرر     غير مقرر  غير مقرر   0.0   \n",
       "2  غير مقرر  ...  غير مقرر  غير مقرر  غير مقرر     غير مقرر  غير مقرر   0.0   \n",
       "3  غير مقرر  ...  غير مقرر  غير مقرر  غير مقرر     غير مقرر  غير مقرر   0.0   \n",
       "4  غير مقرر  ...  غير مقرر  غير مقرر  غير مقرر     غير مقرر  غير مقرر   0.0   \n",
       "\n",
       "  religion altarbiat_alwatania economics_statistics gender  \n",
       "0       23                  20             غير مقرر      M  \n",
       "1       23                  23             غير مقرر      M  \n",
       "2       17                  14             غير مقرر      M  \n",
       "3       21                  22             غير مقرر      M  \n",
       "4       19                  21             غير مقرر      M  \n",
       "\n",
       "[5 rows x 27 columns]"
      ]
     },
     "execution_count": 3,
     "metadata": {},
     "output_type": "execute_result"
    }
   ],
   "source": [
    "df1 = pd.read_csv(\"/kaggle/input/first-try-exam/dataset_first_attempt.csv\")\n",
    "df1.head()"
   ]
  },
  {
   "cell_type": "code",
   "execution_count": 4,
   "id": "0e988e61",
   "metadata": {
    "execution": {
     "iopub.execute_input": "2022-12-01T14:42:31.340158Z",
     "iopub.status.busy": "2022-12-01T14:42:31.339394Z",
     "iopub.status.idle": "2022-12-01T14:42:31.347397Z",
     "shell.execute_reply": "2022-12-01T14:42:31.346102Z"
    },
    "papermill": {
     "duration": 0.027807,
     "end_time": "2022-12-01T14:42:31.349969",
     "exception": false,
     "start_time": "2022-12-01T14:42:31.322162",
     "status": "completed"
    },
    "tags": []
   },
   "outputs": [
    {
     "data": {
      "text/plain": [
       "(1048575, 27)"
      ]
     },
     "execution_count": 4,
     "metadata": {},
     "output_type": "execute_result"
    }
   ],
   "source": [
    "df1.shape"
   ]
  },
  {
   "cell_type": "code",
   "execution_count": 5,
   "id": "80ac8779",
   "metadata": {
    "execution": {
     "iopub.execute_input": "2022-12-01T14:42:31.381945Z",
     "iopub.status.busy": "2022-12-01T14:42:31.381509Z",
     "iopub.status.idle": "2022-12-01T14:42:31.390011Z",
     "shell.execute_reply": "2022-12-01T14:42:31.388672Z"
    },
    "papermill": {
     "duration": 0.027708,
     "end_time": "2022-12-01T14:42:31.392647",
     "exception": false,
     "start_time": "2022-12-01T14:42:31.364939",
     "status": "completed"
    },
    "tags": []
   },
   "outputs": [
    {
     "data": {
      "text/plain": [
       "Index(['desk_no', 'name', 'school_name_arabic', 'administration',\n",
       "       'government_Arabic', 'branch', 'Percentage', 'student_type', 'status',\n",
       "       'arabic', 'first_foreign_lang', 'second_foreign_lang',\n",
       "       'pure_mathematics', 'history', 'geography', 'philosophy', 'psychology',\n",
       "       'chemistry', 'biology', 'geology', 'applied_math', 'physics', 'total',\n",
       "       'religion', 'altarbiat_alwatania', 'economics_statistics', 'gender'],\n",
       "      dtype='object')"
      ]
     },
     "execution_count": 5,
     "metadata": {},
     "output_type": "execute_result"
    }
   ],
   "source": [
    "df1.columns"
   ]
  },
  {
   "cell_type": "markdown",
   "id": "2cb575c5",
   "metadata": {
    "papermill": {
     "duration": 0.014724,
     "end_time": "2022-12-01T14:42:31.423060",
     "exception": false,
     "start_time": "2022-12-01T14:42:31.408336",
     "status": "completed"
    },
    "tags": []
   },
   "source": [
    "# Clean First Try"
   ]
  },
  {
   "cell_type": "code",
   "execution_count": 6,
   "id": "0b6f0aa3",
   "metadata": {
    "execution": {
     "iopub.execute_input": "2022-12-01T14:42:31.457260Z",
     "iopub.status.busy": "2022-12-01T14:42:31.456814Z",
     "iopub.status.idle": "2022-12-01T14:42:32.526787Z",
     "shell.execute_reply": "2022-12-01T14:42:32.525184Z"
    },
    "papermill": {
     "duration": 1.091847,
     "end_time": "2022-12-01T14:42:32.530952",
     "exception": false,
     "start_time": "2022-12-01T14:42:31.439105",
     "status": "completed"
    },
    "tags": []
   },
   "outputs": [
    {
     "name": "stdout",
     "output_type": "stream",
     "text": [
      "<class 'pandas.core.frame.DataFrame'>\n",
      "RangeIndex: 1048575 entries, 0 to 1048574\n",
      "Data columns (total 27 columns):\n",
      " #   Column                Non-Null Count    Dtype  \n",
      "---  ------                --------------    -----  \n",
      " 0   desk_no               698196 non-null   float64\n",
      " 1   name                  698195 non-null   object \n",
      " 2   school_name_arabic    698196 non-null   object \n",
      " 3   administration        698196 non-null   object \n",
      " 4   government_Arabic     698196 non-null   object \n",
      " 5   branch                698196 non-null   object \n",
      " 6   Percentage            698196 non-null   object \n",
      " 7   student_type          698196 non-null   object \n",
      " 8   status                698196 non-null   object \n",
      " 9   arabic                698196 non-null   object \n",
      " 10  first_foreign_lang    698196 non-null   object \n",
      " 11  second_foreign_lang   698196 non-null   object \n",
      " 12  pure_mathematics      698196 non-null   object \n",
      " 13  history               698196 non-null   object \n",
      " 14  geography             698196 non-null   object \n",
      " 15  philosophy            698196 non-null   object \n",
      " 16  psychology            698196 non-null   object \n",
      " 17  chemistry             698196 non-null   object \n",
      " 18  biology               698196 non-null   object \n",
      " 19  geology               698196 non-null   object \n",
      " 20  applied_math          698196 non-null   object \n",
      " 21  physics               698196 non-null   object \n",
      " 22  total                 698196 non-null   float64\n",
      " 23  religion              698196 non-null   object \n",
      " 24  altarbiat_alwatania   698196 non-null   object \n",
      " 25  economics_statistics  698196 non-null   object \n",
      " 26  gender                1048575 non-null  object \n",
      "dtypes: float64(2), object(25)\n",
      "memory usage: 216.0+ MB\n"
     ]
    }
   ],
   "source": [
    "df1.info()"
   ]
  },
  {
   "cell_type": "code",
   "execution_count": 7,
   "id": "d3470f6a",
   "metadata": {
    "execution": {
     "iopub.execute_input": "2022-12-01T14:42:32.565418Z",
     "iopub.status.busy": "2022-12-01T14:42:32.564983Z",
     "iopub.status.idle": "2022-12-01T14:42:33.603694Z",
     "shell.execute_reply": "2022-12-01T14:42:33.602252Z"
    },
    "papermill": {
     "duration": 1.059059,
     "end_time": "2022-12-01T14:42:33.606944",
     "exception": false,
     "start_time": "2022-12-01T14:42:32.547885",
     "status": "completed"
    },
    "tags": []
   },
   "outputs": [
    {
     "data": {
      "text/plain": [
       "desk_no                 350379\n",
       "name                    350380\n",
       "school_name_arabic      350379\n",
       "administration          350379\n",
       "government_Arabic       350379\n",
       "branch                  350379\n",
       "Percentage              350379\n",
       "student_type            350379\n",
       "status                  350379\n",
       "arabic                  350379\n",
       "first_foreign_lang      350379\n",
       "second_foreign_lang     350379\n",
       "pure_mathematics        350379\n",
       "history                 350379\n",
       "geography               350379\n",
       "philosophy              350379\n",
       "psychology              350379\n",
       "chemistry               350379\n",
       "biology                 350379\n",
       "geology                 350379\n",
       "applied_math            350379\n",
       "physics                 350379\n",
       "total                   350379\n",
       "religion                350379\n",
       "altarbiat_alwatania     350379\n",
       "economics_statistics    350379\n",
       "gender                       0\n",
       "dtype: int64"
      ]
     },
     "execution_count": 7,
     "metadata": {},
     "output_type": "execute_result"
    }
   ],
   "source": [
    "df1.isna().sum()"
   ]
  },
  {
   "cell_type": "code",
   "execution_count": 8,
   "id": "5797cf9c",
   "metadata": {
    "execution": {
     "iopub.execute_input": "2022-12-01T14:42:33.639368Z",
     "iopub.status.busy": "2022-12-01T14:42:33.638948Z",
     "iopub.status.idle": "2022-12-01T14:42:33.723046Z",
     "shell.execute_reply": "2022-12-01T14:42:33.721541Z"
    },
    "papermill": {
     "duration": 0.103514,
     "end_time": "2022-12-01T14:42:33.725790",
     "exception": false,
     "start_time": "2022-12-01T14:42:33.622276",
     "status": "completed"
    },
    "tags": []
   },
   "outputs": [
    {
     "data": {
      "text/plain": [
       "branch    \n",
       "علمي علوم     325644\n",
       "أدبي          259147\n",
       "علمي رياضة     97616\n",
       "غير محدد       15789\n",
       "dtype: int64"
      ]
     },
     "execution_count": 8,
     "metadata": {},
     "output_type": "execute_result"
    }
   ],
   "source": [
    "df1.value_counts(['branch'])"
   ]
  },
  {
   "cell_type": "code",
   "execution_count": 9,
   "id": "d3ace2f6",
   "metadata": {
    "execution": {
     "iopub.execute_input": "2022-12-01T14:42:33.760548Z",
     "iopub.status.busy": "2022-12-01T14:42:33.760158Z",
     "iopub.status.idle": "2022-12-01T14:42:33.869984Z",
     "shell.execute_reply": "2022-12-01T14:42:33.868806Z"
    },
    "papermill": {
     "duration": 0.130383,
     "end_time": "2022-12-01T14:42:33.872952",
     "exception": false,
     "start_time": "2022-12-01T14:42:33.742569",
     "status": "completed"
    },
    "tags": []
   },
   "outputs": [
    {
     "data": {
      "text/html": [
       "<div>\n",
       "<style scoped>\n",
       "    .dataframe tbody tr th:only-of-type {\n",
       "        vertical-align: middle;\n",
       "    }\n",
       "\n",
       "    .dataframe tbody tr th {\n",
       "        vertical-align: top;\n",
       "    }\n",
       "\n",
       "    .dataframe thead th {\n",
       "        text-align: right;\n",
       "    }\n",
       "</style>\n",
       "<table border=\"1\" class=\"dataframe\">\n",
       "  <thead>\n",
       "    <tr style=\"text-align: right;\">\n",
       "      <th></th>\n",
       "      <th>desk_no</th>\n",
       "      <th>name</th>\n",
       "      <th>school_name_arabic</th>\n",
       "      <th>administration</th>\n",
       "      <th>government_Arabic</th>\n",
       "      <th>branch</th>\n",
       "      <th>Percentage</th>\n",
       "      <th>student_type</th>\n",
       "      <th>status</th>\n",
       "      <th>arabic</th>\n",
       "      <th>...</th>\n",
       "      <th>chemistry</th>\n",
       "      <th>biology</th>\n",
       "      <th>geology</th>\n",
       "      <th>applied_math</th>\n",
       "      <th>physics</th>\n",
       "      <th>total</th>\n",
       "      <th>religion</th>\n",
       "      <th>altarbiat_alwatania</th>\n",
       "      <th>economics_statistics</th>\n",
       "      <th>gender</th>\n",
       "    </tr>\n",
       "  </thead>\n",
       "  <tbody>\n",
       "    <tr>\n",
       "      <th>0</th>\n",
       "      <td>102300.0</td>\n",
       "      <td>احمد محمد احمد محمود ابوالقاسم</td>\n",
       "      <td>مدارس النيل المصريه بنين</td>\n",
       "      <td>أكتوبر</td>\n",
       "      <td>الجيزة</td>\n",
       "      <td>غير محدد</td>\n",
       "      <td>0%</td>\n",
       "      <td>نوعيات أخرى</td>\n",
       "      <td>ناجح</td>\n",
       "      <td>غير مقرر</td>\n",
       "      <td>...</td>\n",
       "      <td>غير مقرر</td>\n",
       "      <td>غير مقرر</td>\n",
       "      <td>غير مقرر</td>\n",
       "      <td>غير مقرر</td>\n",
       "      <td>غير مقرر</td>\n",
       "      <td>0.0</td>\n",
       "      <td>23</td>\n",
       "      <td>20</td>\n",
       "      <td>غير مقرر</td>\n",
       "      <td>M</td>\n",
       "    </tr>\n",
       "    <tr>\n",
       "      <th>1</th>\n",
       "      <td>102301.0</td>\n",
       "      <td>احمد محمد عبدالصادق سلامه</td>\n",
       "      <td>مدارس النيل المصريه بنين</td>\n",
       "      <td>أكتوبر</td>\n",
       "      <td>الجيزة</td>\n",
       "      <td>غير محدد</td>\n",
       "      <td>0%</td>\n",
       "      <td>نوعيات أخرى</td>\n",
       "      <td>ناجح</td>\n",
       "      <td>غير مقرر</td>\n",
       "      <td>...</td>\n",
       "      <td>غير مقرر</td>\n",
       "      <td>غير مقرر</td>\n",
       "      <td>غير مقرر</td>\n",
       "      <td>غير مقرر</td>\n",
       "      <td>غير مقرر</td>\n",
       "      <td>0.0</td>\n",
       "      <td>23</td>\n",
       "      <td>23</td>\n",
       "      <td>غير مقرر</td>\n",
       "      <td>M</td>\n",
       "    </tr>\n",
       "    <tr>\n",
       "      <th>2</th>\n",
       "      <td>102302.0</td>\n",
       "      <td>ادهم اشرف عبدالهادي معاذ</td>\n",
       "      <td>مدارس النيل المصريه بنين</td>\n",
       "      <td>أكتوبر</td>\n",
       "      <td>الجيزة</td>\n",
       "      <td>غير محدد</td>\n",
       "      <td>0%</td>\n",
       "      <td>نوعيات أخرى</td>\n",
       "      <td>ناجح</td>\n",
       "      <td>غير مقرر</td>\n",
       "      <td>...</td>\n",
       "      <td>غير مقرر</td>\n",
       "      <td>غير مقرر</td>\n",
       "      <td>غير مقرر</td>\n",
       "      <td>غير مقرر</td>\n",
       "      <td>غير مقرر</td>\n",
       "      <td>0.0</td>\n",
       "      <td>17</td>\n",
       "      <td>14</td>\n",
       "      <td>غير مقرر</td>\n",
       "      <td>M</td>\n",
       "    </tr>\n",
       "    <tr>\n",
       "      <th>3</th>\n",
       "      <td>102303.0</td>\n",
       "      <td>بيير جون نبيل غالي سعد</td>\n",
       "      <td>مدارس النيل المصريه بنين</td>\n",
       "      <td>أكتوبر</td>\n",
       "      <td>الجيزة</td>\n",
       "      <td>غير محدد</td>\n",
       "      <td>0%</td>\n",
       "      <td>نوعيات أخرى</td>\n",
       "      <td>ناجح</td>\n",
       "      <td>غير مقرر</td>\n",
       "      <td>...</td>\n",
       "      <td>غير مقرر</td>\n",
       "      <td>غير مقرر</td>\n",
       "      <td>غير مقرر</td>\n",
       "      <td>غير مقرر</td>\n",
       "      <td>غير مقرر</td>\n",
       "      <td>0.0</td>\n",
       "      <td>21</td>\n",
       "      <td>22</td>\n",
       "      <td>غير مقرر</td>\n",
       "      <td>M</td>\n",
       "    </tr>\n",
       "    <tr>\n",
       "      <th>4</th>\n",
       "      <td>102304.0</td>\n",
       "      <td>رامي محمود عبدالمنعم شحاته</td>\n",
       "      <td>مدارس النيل المصريه بنين</td>\n",
       "      <td>أكتوبر</td>\n",
       "      <td>الجيزة</td>\n",
       "      <td>غير محدد</td>\n",
       "      <td>0%</td>\n",
       "      <td>نوعيات أخرى</td>\n",
       "      <td>ناجح</td>\n",
       "      <td>غير مقرر</td>\n",
       "      <td>...</td>\n",
       "      <td>غير مقرر</td>\n",
       "      <td>غير مقرر</td>\n",
       "      <td>غير مقرر</td>\n",
       "      <td>غير مقرر</td>\n",
       "      <td>غير مقرر</td>\n",
       "      <td>0.0</td>\n",
       "      <td>19</td>\n",
       "      <td>21</td>\n",
       "      <td>غير مقرر</td>\n",
       "      <td>M</td>\n",
       "    </tr>\n",
       "    <tr>\n",
       "      <th>...</th>\n",
       "      <td>...</td>\n",
       "      <td>...</td>\n",
       "      <td>...</td>\n",
       "      <td>...</td>\n",
       "      <td>...</td>\n",
       "      <td>...</td>\n",
       "      <td>...</td>\n",
       "      <td>...</td>\n",
       "      <td>...</td>\n",
       "      <td>...</td>\n",
       "      <td>...</td>\n",
       "      <td>...</td>\n",
       "      <td>...</td>\n",
       "      <td>...</td>\n",
       "      <td>...</td>\n",
       "      <td>...</td>\n",
       "      <td>...</td>\n",
       "      <td>...</td>\n",
       "      <td>...</td>\n",
       "      <td>...</td>\n",
       "      <td>...</td>\n",
       "    </tr>\n",
       "    <tr>\n",
       "      <th>647055</th>\n",
       "      <td>880700.0</td>\n",
       "      <td>وعد اسامة احمد عثمان</td>\n",
       "      <td>ايليت سكولزالدوليه قسم امريكى</td>\n",
       "      <td>سوهاج</td>\n",
       "      <td>سوهاج</td>\n",
       "      <td>غير محدد</td>\n",
       "      <td>24.15%</td>\n",
       "      <td>نوعيات أخرى</td>\n",
       "      <td>ناجح</td>\n",
       "      <td>41</td>\n",
       "      <td>...</td>\n",
       "      <td>غير مقرر</td>\n",
       "      <td>غير مقرر</td>\n",
       "      <td>غير مقرر</td>\n",
       "      <td>غير مقرر</td>\n",
       "      <td>غير مقرر</td>\n",
       "      <td>99.0</td>\n",
       "      <td>19</td>\n",
       "      <td>19</td>\n",
       "      <td>غير مقرر</td>\n",
       "      <td>M</td>\n",
       "    </tr>\n",
       "    <tr>\n",
       "      <th>647056</th>\n",
       "      <td>880701.0</td>\n",
       "      <td>محمد فوزى محفوظ خلاف</td>\n",
       "      <td>جيل المستقبل الدولية ث</td>\n",
       "      <td>اخميم</td>\n",
       "      <td>سوهاج</td>\n",
       "      <td>غير محدد</td>\n",
       "      <td>24.15%</td>\n",
       "      <td>نوعيات أخرى</td>\n",
       "      <td>دور ثاني</td>\n",
       "      <td>31</td>\n",
       "      <td>...</td>\n",
       "      <td>غير مقرر</td>\n",
       "      <td>غير مقرر</td>\n",
       "      <td>غير مقرر</td>\n",
       "      <td>غير مقرر</td>\n",
       "      <td>غير مقرر</td>\n",
       "      <td>99.0</td>\n",
       "      <td>إجتياز</td>\n",
       "      <td>إجتياز</td>\n",
       "      <td>غير مقرر</td>\n",
       "      <td>M</td>\n",
       "    </tr>\n",
       "    <tr>\n",
       "      <th>647057</th>\n",
       "      <td>880702.0</td>\n",
       "      <td>عبدالرحمن محمد ابوالمجد سالم</td>\n",
       "      <td>جيل المستقبل الدولية ث</td>\n",
       "      <td>اخميم</td>\n",
       "      <td>سوهاج</td>\n",
       "      <td>غير محدد</td>\n",
       "      <td>24.15%</td>\n",
       "      <td>نوعيات أخرى</td>\n",
       "      <td>دور ثاني</td>\n",
       "      <td>40</td>\n",
       "      <td>...</td>\n",
       "      <td>غير مقرر</td>\n",
       "      <td>غير مقرر</td>\n",
       "      <td>غير مقرر</td>\n",
       "      <td>غير مقرر</td>\n",
       "      <td>غير مقرر</td>\n",
       "      <td>99.0</td>\n",
       "      <td>إجتياز</td>\n",
       "      <td>إجتياز</td>\n",
       "      <td>غير مقرر</td>\n",
       "      <td>M</td>\n",
       "    </tr>\n",
       "    <tr>\n",
       "      <th>647058</th>\n",
       "      <td>880703.0</td>\n",
       "      <td>جولى اشرف سناده حنين</td>\n",
       "      <td>جيل المستقبل الدولية ث</td>\n",
       "      <td>اخميم</td>\n",
       "      <td>سوهاج</td>\n",
       "      <td>غير محدد</td>\n",
       "      <td>24.15%</td>\n",
       "      <td>نوعيات أخرى</td>\n",
       "      <td>دور ثاني</td>\n",
       "      <td>40</td>\n",
       "      <td>...</td>\n",
       "      <td>غير مقرر</td>\n",
       "      <td>غير مقرر</td>\n",
       "      <td>غير مقرر</td>\n",
       "      <td>غير مقرر</td>\n",
       "      <td>غير مقرر</td>\n",
       "      <td>99.0</td>\n",
       "      <td>إجتياز</td>\n",
       "      <td>إجتياز</td>\n",
       "      <td>غير مقرر</td>\n",
       "      <td>F</td>\n",
       "    </tr>\n",
       "    <tr>\n",
       "      <th>647059</th>\n",
       "      <td>880704.0</td>\n",
       "      <td>شهد ابوحطب احمد احمد</td>\n",
       "      <td>جيل المستقبل الدولية ث</td>\n",
       "      <td>اخميم</td>\n",
       "      <td>سوهاج</td>\n",
       "      <td>غير محدد</td>\n",
       "      <td>24.15%</td>\n",
       "      <td>نوعيات أخرى</td>\n",
       "      <td>دور ثاني</td>\n",
       "      <td>46</td>\n",
       "      <td>...</td>\n",
       "      <td>غير مقرر</td>\n",
       "      <td>غير مقرر</td>\n",
       "      <td>غير مقرر</td>\n",
       "      <td>غير مقرر</td>\n",
       "      <td>غير مقرر</td>\n",
       "      <td>99.0</td>\n",
       "      <td>إجتياز</td>\n",
       "      <td>إجتياز</td>\n",
       "      <td>غير مقرر</td>\n",
       "      <td>M</td>\n",
       "    </tr>\n",
       "  </tbody>\n",
       "</table>\n",
       "<p>15789 rows × 27 columns</p>\n",
       "</div>"
      ],
      "text/plain": [
       "         desk_no                            name  \\\n",
       "0       102300.0  احمد محمد احمد محمود ابوالقاسم   \n",
       "1       102301.0       احمد محمد عبدالصادق سلامه   \n",
       "2       102302.0        ادهم اشرف عبدالهادي معاذ   \n",
       "3       102303.0          بيير جون نبيل غالي سعد   \n",
       "4       102304.0      رامي محمود عبدالمنعم شحاته   \n",
       "...          ...                             ...   \n",
       "647055  880700.0            وعد اسامة احمد عثمان   \n",
       "647056  880701.0            محمد فوزى محفوظ خلاف   \n",
       "647057  880702.0    عبدالرحمن محمد ابوالمجد سالم   \n",
       "647058  880703.0            جولى اشرف سناده حنين   \n",
       "647059  880704.0            شهد ابوحطب احمد احمد   \n",
       "\n",
       "                   school_name_arabic administration government_Arabic  \\\n",
       "0            مدارس النيل المصريه بنين         أكتوبر            الجيزة   \n",
       "1            مدارس النيل المصريه بنين         أكتوبر            الجيزة   \n",
       "2            مدارس النيل المصريه بنين         أكتوبر            الجيزة   \n",
       "3            مدارس النيل المصريه بنين         أكتوبر            الجيزة   \n",
       "4            مدارس النيل المصريه بنين         أكتوبر            الجيزة   \n",
       "...                               ...            ...               ...   \n",
       "647055  ايليت سكولزالدوليه قسم امريكى          سوهاج             سوهاج   \n",
       "647056         جيل المستقبل الدولية ث          اخميم             سوهاج   \n",
       "647057         جيل المستقبل الدولية ث          اخميم             سوهاج   \n",
       "647058         جيل المستقبل الدولية ث          اخميم             سوهاج   \n",
       "647059         جيل المستقبل الدولية ث          اخميم             سوهاج   \n",
       "\n",
       "          branch Percentage student_type    status    arabic  ... chemistry  \\\n",
       "0       غير محدد         0%  نوعيات أخرى      ناجح  غير مقرر  ...  غير مقرر   \n",
       "1       غير محدد         0%  نوعيات أخرى      ناجح  غير مقرر  ...  غير مقرر   \n",
       "2       غير محدد         0%  نوعيات أخرى      ناجح  غير مقرر  ...  غير مقرر   \n",
       "3       غير محدد         0%  نوعيات أخرى      ناجح  غير مقرر  ...  غير مقرر   \n",
       "4       غير محدد         0%  نوعيات أخرى      ناجح  غير مقرر  ...  غير مقرر   \n",
       "...          ...        ...          ...       ...       ...  ...       ...   \n",
       "647055  غير محدد     24.15%  نوعيات أخرى      ناجح        41  ...  غير مقرر   \n",
       "647056  غير محدد     24.15%  نوعيات أخرى  دور ثاني        31  ...  غير مقرر   \n",
       "647057  غير محدد     24.15%  نوعيات أخرى  دور ثاني        40  ...  غير مقرر   \n",
       "647058  غير محدد     24.15%  نوعيات أخرى  دور ثاني        40  ...  غير مقرر   \n",
       "647059  غير محدد     24.15%  نوعيات أخرى  دور ثاني        46  ...  غير مقرر   \n",
       "\n",
       "         biology   geology applied_math   physics total religion  \\\n",
       "0       غير مقرر  غير مقرر     غير مقرر  غير مقرر   0.0       23   \n",
       "1       غير مقرر  غير مقرر     غير مقرر  غير مقرر   0.0       23   \n",
       "2       غير مقرر  غير مقرر     غير مقرر  غير مقرر   0.0       17   \n",
       "3       غير مقرر  غير مقرر     غير مقرر  غير مقرر   0.0       21   \n",
       "4       غير مقرر  غير مقرر     غير مقرر  غير مقرر   0.0       19   \n",
       "...          ...       ...          ...       ...   ...      ...   \n",
       "647055  غير مقرر  غير مقرر     غير مقرر  غير مقرر  99.0       19   \n",
       "647056  غير مقرر  غير مقرر     غير مقرر  غير مقرر  99.0   إجتياز   \n",
       "647057  غير مقرر  غير مقرر     غير مقرر  غير مقرر  99.0   إجتياز   \n",
       "647058  غير مقرر  غير مقرر     غير مقرر  غير مقرر  99.0   إجتياز   \n",
       "647059  غير مقرر  غير مقرر     غير مقرر  غير مقرر  99.0   إجتياز   \n",
       "\n",
       "       altarbiat_alwatania economics_statistics gender  \n",
       "0                       20             غير مقرر      M  \n",
       "1                       23             غير مقرر      M  \n",
       "2                       14             غير مقرر      M  \n",
       "3                       22             غير مقرر      M  \n",
       "4                       21             غير مقرر      M  \n",
       "...                    ...                  ...    ...  \n",
       "647055                  19             غير مقرر      M  \n",
       "647056              إجتياز             غير مقرر      M  \n",
       "647057              إجتياز             غير مقرر      M  \n",
       "647058              إجتياز             غير مقرر      F  \n",
       "647059              إجتياز             غير مقرر      M  \n",
       "\n",
       "[15789 rows x 27 columns]"
      ]
     },
     "execution_count": 9,
     "metadata": {},
     "output_type": "execute_result"
    }
   ],
   "source": [
    "df1[df1['branch']==\"غير محدد\"]"
   ]
  },
  {
   "cell_type": "code",
   "execution_count": 10,
   "id": "f65c94b3",
   "metadata": {
    "execution": {
     "iopub.execute_input": "2022-12-01T14:42:33.907695Z",
     "iopub.status.busy": "2022-12-01T14:42:33.906970Z",
     "iopub.status.idle": "2022-12-01T14:42:33.992272Z",
     "shell.execute_reply": "2022-12-01T14:42:33.990784Z"
    },
    "papermill": {
     "duration": 0.105644,
     "end_time": "2022-12-01T14:42:33.994898",
     "exception": false,
     "start_time": "2022-12-01T14:42:33.889254",
     "status": "completed"
    },
    "tags": []
   },
   "outputs": [
    {
     "data": {
      "text/plain": [
       "student_type\n",
       "طلاب            682358\n",
       "نوعيات أخرى      15838\n",
       "dtype: int64"
      ]
     },
     "execution_count": 10,
     "metadata": {},
     "output_type": "execute_result"
    }
   ],
   "source": [
    "df1.value_counts(['student_type'])"
   ]
  },
  {
   "cell_type": "markdown",
   "id": "a2fc0e33",
   "metadata": {
    "papermill": {
     "duration": 0.016505,
     "end_time": "2022-12-01T14:42:34.027622",
     "exception": false,
     "start_time": "2022-12-01T14:42:34.011117",
     "status": "completed"
    },
    "tags": []
   },
   "source": [
    "># We can Remove student_type نوعيات أخرى as We don't use them we only deal with Thanawya amaa for(ادبي -علمي رياضه -علمي علوم)"
   ]
  },
  {
   "cell_type": "code",
   "execution_count": 11,
   "id": "359fbea1",
   "metadata": {
    "execution": {
     "iopub.execute_input": "2022-12-01T14:42:34.062399Z",
     "iopub.status.busy": "2022-12-01T14:42:34.061668Z",
     "iopub.status.idle": "2022-12-01T14:42:35.195530Z",
     "shell.execute_reply": "2022-12-01T14:42:35.194443Z"
    },
    "papermill": {
     "duration": 1.154378,
     "end_time": "2022-12-01T14:42:35.198305",
     "exception": false,
     "start_time": "2022-12-01T14:42:34.043927",
     "status": "completed"
    },
    "tags": []
   },
   "outputs": [],
   "source": [
    "df1.drop(df1[df1['branch'] == 'غير محدد'].index, axis=0, inplace=True)\n",
    "df1.drop(df1[df1['student_type'] == 'نوعيات أخرى'].index, axis=0, inplace=True)"
   ]
  },
  {
   "cell_type": "code",
   "execution_count": 12,
   "id": "386ec340",
   "metadata": {
    "execution": {
     "iopub.execute_input": "2022-12-01T14:42:35.235154Z",
     "iopub.status.busy": "2022-12-01T14:42:35.233980Z",
     "iopub.status.idle": "2022-12-01T14:42:37.477195Z",
     "shell.execute_reply": "2022-12-01T14:42:37.476004Z"
    },
    "papermill": {
     "duration": 2.264437,
     "end_time": "2022-12-01T14:42:37.479599",
     "exception": false,
     "start_time": "2022-12-01T14:42:35.215162",
     "status": "completed"
    },
    "tags": []
   },
   "outputs": [
    {
     "data": {
      "text/plain": [
       "desk_no                 0\n",
       "name                    0\n",
       "school_name_arabic      0\n",
       "administration          0\n",
       "government_Arabic       0\n",
       "branch                  0\n",
       "Percentage              0\n",
       "student_type            0\n",
       "status                  0\n",
       "arabic                  0\n",
       "first_foreign_lang      0\n",
       "second_foreign_lang     0\n",
       "pure_mathematics        0\n",
       "history                 0\n",
       "geography               0\n",
       "philosophy              0\n",
       "psychology              0\n",
       "chemistry               0\n",
       "biology                 0\n",
       "geology                 0\n",
       "applied_math            0\n",
       "physics                 0\n",
       "total                   0\n",
       "religion                0\n",
       "altarbiat_alwatania     0\n",
       "economics_statistics    0\n",
       "gender                  0\n",
       "dtype: int64"
      ]
     },
     "execution_count": 12,
     "metadata": {},
     "output_type": "execute_result"
    }
   ],
   "source": [
    "df1 = df1.dropna(axis = 0)\n",
    "df1.isna().sum()"
   ]
  },
  {
   "cell_type": "markdown",
   "id": "8d4921e5",
   "metadata": {
    "papermill": {
     "duration": 0.016993,
     "end_time": "2022-12-01T14:42:37.513849",
     "exception": false,
     "start_time": "2022-12-01T14:42:37.496856",
     "status": "completed"
    },
    "tags": []
   },
   "source": [
    "># student type column is not helpful to us so if we remove it it will be bad "
   ]
  },
  {
   "cell_type": "code",
   "execution_count": 13,
   "id": "0b3b900e",
   "metadata": {
    "execution": {
     "iopub.execute_input": "2022-12-01T14:42:37.550603Z",
     "iopub.status.busy": "2022-12-01T14:42:37.549223Z",
     "iopub.status.idle": "2022-12-01T14:42:37.832839Z",
     "shell.execute_reply": "2022-12-01T14:42:37.831599Z"
    },
    "papermill": {
     "duration": 0.304274,
     "end_time": "2022-12-01T14:42:37.835362",
     "exception": false,
     "start_time": "2022-12-01T14:42:37.531088",
     "status": "completed"
    },
    "tags": []
   },
   "outputs": [
    {
     "data": {
      "text/plain": [
       "Index(['desk_no', 'name', 'school_name_arabic', 'administration',\n",
       "       'government_Arabic', 'branch', 'Percentage', 'status', 'arabic',\n",
       "       'first_foreign_lang', 'second_foreign_lang', 'pure_mathematics',\n",
       "       'history', 'geography', 'philosophy', 'psychology', 'chemistry',\n",
       "       'biology', 'geology', 'applied_math', 'physics', 'total', 'religion',\n",
       "       'altarbiat_alwatania', 'economics_statistics', 'gender'],\n",
       "      dtype='object')"
      ]
     },
     "execution_count": 13,
     "metadata": {},
     "output_type": "execute_result"
    }
   ],
   "source": [
    "df1 = df1.drop(['student_type'],axis = 1)\n",
    "df1.columns"
   ]
  },
  {
   "cell_type": "code",
   "execution_count": 14,
   "id": "7b5fdd7a",
   "metadata": {
    "execution": {
     "iopub.execute_input": "2022-12-01T14:42:37.870437Z",
     "iopub.status.busy": "2022-12-01T14:42:37.869955Z",
     "iopub.status.idle": "2022-12-01T14:42:37.942857Z",
     "shell.execute_reply": "2022-12-01T14:42:37.941325Z"
    },
    "papermill": {
     "duration": 0.093501,
     "end_time": "2022-12-01T14:42:37.945479",
     "exception": false,
     "start_time": "2022-12-01T14:42:37.851978",
     "status": "completed"
    },
    "tags": []
   },
   "outputs": [
    {
     "data": {
      "text/plain": [
       "status  \n",
       "ناجح        450945\n",
       "دور ثاني    154939\n",
       "راسب         76463\n",
       "dtype: int64"
      ]
     },
     "execution_count": 14,
     "metadata": {},
     "output_type": "execute_result"
    }
   ],
   "source": [
    "df1.value_counts(['status'])"
   ]
  },
  {
   "cell_type": "markdown",
   "id": "c3d10ab7",
   "metadata": {
    "papermill": {
     "duration": 0.016229,
     "end_time": "2022-12-01T14:42:37.978852",
     "exception": false,
     "start_time": "2022-12-01T14:42:37.962623",
     "status": "completed"
    },
    "tags": []
   },
   "source": [
    "># We Have Three Category  دور تاني - راسب- ناجح"
   ]
  },
  {
   "cell_type": "code",
   "execution_count": 15,
   "id": "f4c174a3",
   "metadata": {
    "execution": {
     "iopub.execute_input": "2022-12-01T14:42:38.014613Z",
     "iopub.status.busy": "2022-12-01T14:42:38.013902Z",
     "iopub.status.idle": "2022-12-01T14:42:38.565777Z",
     "shell.execute_reply": "2022-12-01T14:42:38.564121Z"
    },
    "papermill": {
     "duration": 0.572862,
     "end_time": "2022-12-01T14:42:38.568630",
     "exception": false,
     "start_time": "2022-12-01T14:42:37.995768",
     "status": "completed"
    },
    "tags": []
   },
   "outputs": [],
   "source": [
    "df1['status'] = df1['status'].replace({'راسب':0,'دور ثاني':-1,'ناجح':1})"
   ]
  },
  {
   "cell_type": "code",
   "execution_count": 16,
   "id": "7654145e",
   "metadata": {
    "execution": {
     "iopub.execute_input": "2022-12-01T14:42:38.604317Z",
     "iopub.status.busy": "2022-12-01T14:42:38.603878Z",
     "iopub.status.idle": "2022-12-01T14:42:38.627054Z",
     "shell.execute_reply": "2022-12-01T14:42:38.625735Z"
    },
    "papermill": {
     "duration": 0.044552,
     "end_time": "2022-12-01T14:42:38.629986",
     "exception": false,
     "start_time": "2022-12-01T14:42:38.585434",
     "status": "completed"
    },
    "tags": []
   },
   "outputs": [
    {
     "data": {
      "text/plain": [
       "status\n",
       " 1        450945\n",
       "-1        154939\n",
       " 0         76463\n",
       "dtype: int64"
      ]
     },
     "execution_count": 16,
     "metadata": {},
     "output_type": "execute_result"
    }
   ],
   "source": [
    "df1.value_counts(['status'])"
   ]
  },
  {
   "cell_type": "code",
   "execution_count": 17,
   "id": "d04f6d1c",
   "metadata": {
    "execution": {
     "iopub.execute_input": "2022-12-01T14:42:38.665899Z",
     "iopub.status.busy": "2022-12-01T14:42:38.665087Z",
     "iopub.status.idle": "2022-12-01T14:42:39.024137Z",
     "shell.execute_reply": "2022-12-01T14:42:39.022602Z"
    },
    "papermill": {
     "duration": 0.380597,
     "end_time": "2022-12-01T14:42:39.027448",
     "exception": false,
     "start_time": "2022-12-01T14:42:38.646851",
     "status": "completed"
    },
    "tags": []
   },
   "outputs": [],
   "source": [
    "df1['branch'] = df1['branch'].astype('category')\n",
    "df1['status'] = df1['status'].astype('category')\n"
   ]
  },
  {
   "cell_type": "code",
   "execution_count": 18,
   "id": "eb05c4d9",
   "metadata": {
    "execution": {
     "iopub.execute_input": "2022-12-01T14:42:39.062614Z",
     "iopub.status.busy": "2022-12-01T14:42:39.062188Z",
     "iopub.status.idle": "2022-12-01T14:42:40.544447Z",
     "shell.execute_reply": "2022-12-01T14:42:40.543126Z"
    },
    "papermill": {
     "duration": 1.503238,
     "end_time": "2022-12-01T14:42:40.547383",
     "exception": false,
     "start_time": "2022-12-01T14:42:39.044145",
     "status": "completed"
    },
    "tags": []
   },
   "outputs": [],
   "source": [
    "df1['Percentage'] = df1['Percentage'].replace(r'%',value = \" \",regex=True).astype('float')\n",
    "#df1['Percentage'].astype('float')"
   ]
  },
  {
   "cell_type": "code",
   "execution_count": 19,
   "id": "17594650",
   "metadata": {
    "execution": {
     "iopub.execute_input": "2022-12-01T14:42:40.582689Z",
     "iopub.status.busy": "2022-12-01T14:42:40.582267Z",
     "iopub.status.idle": "2022-12-01T14:42:40.592154Z",
     "shell.execute_reply": "2022-12-01T14:42:40.590802Z"
    },
    "papermill": {
     "duration": 0.030385,
     "end_time": "2022-12-01T14:42:40.594545",
     "exception": false,
     "start_time": "2022-12-01T14:42:40.564160",
     "status": "completed"
    },
    "tags": []
   },
   "outputs": [
    {
     "data": {
      "text/plain": [
       "3022      87.80\n",
       "3024      57.32\n",
       "3025      83.41\n",
       "3026      53.17\n",
       "3027      51.46\n",
       "          ...  \n",
       "698192    54.15\n",
       "698193    62.93\n",
       "698194    70.98\n",
       "698195    85.49\n",
       "698196    69.27\n",
       "Name: Percentage, Length: 682347, dtype: float64"
      ]
     },
     "execution_count": 19,
     "metadata": {},
     "output_type": "execute_result"
    }
   ],
   "source": [
    "df1['Percentage']"
   ]
  },
  {
   "cell_type": "code",
   "execution_count": 20,
   "id": "7ade3e27",
   "metadata": {
    "execution": {
     "iopub.execute_input": "2022-12-01T14:42:40.631093Z",
     "iopub.status.busy": "2022-12-01T14:42:40.630643Z",
     "iopub.status.idle": "2022-12-01T14:42:40.706026Z",
     "shell.execute_reply": "2022-12-01T14:42:40.704802Z"
    },
    "papermill": {
     "duration": 0.096636,
     "end_time": "2022-12-01T14:42:40.708480",
     "exception": false,
     "start_time": "2022-12-01T14:42:40.611844",
     "status": "completed"
    },
    "tags": []
   },
   "outputs": [
    {
     "data": {
      "text/plain": [
       "administration\n",
       "المنتزه           14877\n",
       "شرق الاسكندريه    10941\n",
       "العمرانية         10325\n",
       "المنيا             9457\n",
       "وسط الاسكندريه     7480\n",
       "                  ...  \n",
       "أبورديس              39\n",
       "مرسى علم             31\n",
       "شلاتيــن             26\n",
       "نخـــل               22\n",
       "سانت كاتريـــن       19\n",
       "Length: 287, dtype: int64"
      ]
     },
     "execution_count": 20,
     "metadata": {},
     "output_type": "execute_result"
    }
   ],
   "source": [
    "df1.value_counts(['administration'])"
   ]
  },
  {
   "cell_type": "markdown",
   "id": "e08cbfc8",
   "metadata": {
    "papermill": {
     "duration": 0.016701,
     "end_time": "2022-12-01T14:42:40.742094",
     "exception": false,
     "start_time": "2022-12-01T14:42:40.725393",
     "status": "completed"
    },
    "tags": []
   },
   "source": [
    "># We have 287 administration in all the Government "
   ]
  },
  {
   "cell_type": "code",
   "execution_count": 21,
   "id": "dcc590c0",
   "metadata": {
    "execution": {
     "iopub.execute_input": "2022-12-01T14:42:40.779402Z",
     "iopub.status.busy": "2022-12-01T14:42:40.779017Z",
     "iopub.status.idle": "2022-12-01T14:42:40.849858Z",
     "shell.execute_reply": "2022-12-01T14:42:40.848338Z"
    },
    "papermill": {
     "duration": 0.093571,
     "end_time": "2022-12-01T14:42:40.852547",
     "exception": false,
     "start_time": "2022-12-01T14:42:40.758976",
     "status": "completed"
    },
    "tags": []
   },
   "outputs": [
    {
     "data": {
      "text/plain": [
       "(government_Arabic\n",
       " القاهرة              102445\n",
       " الجيزة                79598\n",
       " الشرقية               49496\n",
       " الدقهلية              47777\n",
       " الاسكندرية            47219\n",
       " القليوبية             42734\n",
       " المنيا                38253\n",
       " الغربية               35393\n",
       " المنوفية              33989\n",
       " البحيرة               33129\n",
       " اسيوط                 25947\n",
       " كفر الشيخ             21273\n",
       " سوهاج                 20990\n",
       " بني سويف              17821\n",
       " الفيوم                16460\n",
       " قنا                   16092\n",
       " دمياط                 11640\n",
       " الإسماعيلية            9269\n",
       " اسوان                  6950\n",
       " الاقصر                 6655\n",
       " بورسعيد                4715\n",
       " السويس                 3930\n",
       " شمال سيناء             3170\n",
       " البحر الأحمر           2571\n",
       " مطروح                  2192\n",
       " الوادي الجديد          1784\n",
       " جنوب سيناء              855\n",
       " dtype: int64,\n",
       " 27)"
      ]
     },
     "execution_count": 21,
     "metadata": {},
     "output_type": "execute_result"
    }
   ],
   "source": [
    "Government_Names = df1.value_counts(['government_Arabic'])\n",
    "Government_Names,len(Government_Names)"
   ]
  },
  {
   "cell_type": "markdown",
   "id": "57d5d44c",
   "metadata": {
    "papermill": {
     "duration": 0.01662,
     "end_time": "2022-12-01T14:42:40.886298",
     "exception": false,
     "start_time": "2022-12-01T14:42:40.869678",
     "status": "completed"
    },
    "tags": []
   },
   "source": [
    "># We have 27 Government"
   ]
  },
  {
   "cell_type": "markdown",
   "id": "8c9e880b",
   "metadata": {
    "papermill": {
     "duration": 0.017125,
     "end_time": "2022-12-01T14:42:40.920555",
     "exception": false,
     "start_time": "2022-12-01T14:42:40.903430",
     "status": "completed"
    },
    "tags": []
   },
   "source": [
    "# Add Gender To first try dataframe"
   ]
  },
  {
   "cell_type": "code",
   "execution_count": 22,
   "id": "cc16dd66",
   "metadata": {
    "execution": {
     "iopub.execute_input": "2022-12-01T14:42:40.957850Z",
     "iopub.status.busy": "2022-12-01T14:42:40.957388Z",
     "iopub.status.idle": "2022-12-01T14:42:49.617632Z",
     "shell.execute_reply": "2022-12-01T14:42:49.616013Z"
    },
    "papermill": {
     "duration": 8.682686,
     "end_time": "2022-12-01T14:42:49.620547",
     "exception": false,
     "start_time": "2022-12-01T14:42:40.937861",
     "status": "completed"
    },
    "tags": []
   },
   "outputs": [
    {
     "data": {
      "text/html": [
       "<div>\n",
       "<style scoped>\n",
       "    .dataframe tbody tr th:only-of-type {\n",
       "        vertical-align: middle;\n",
       "    }\n",
       "\n",
       "    .dataframe tbody tr th {\n",
       "        vertical-align: top;\n",
       "    }\n",
       "\n",
       "    .dataframe thead th {\n",
       "        text-align: right;\n",
       "    }\n",
       "</style>\n",
       "<table border=\"1\" class=\"dataframe\">\n",
       "  <thead>\n",
       "    <tr style=\"text-align: right;\">\n",
       "      <th></th>\n",
       "      <th>desk_no</th>\n",
       "      <th>name</th>\n",
       "      <th>school_name_arabic</th>\n",
       "      <th>administration</th>\n",
       "      <th>government_Arabic</th>\n",
       "      <th>branch</th>\n",
       "      <th>Percentage</th>\n",
       "      <th>student_type</th>\n",
       "      <th>status</th>\n",
       "      <th>arabic</th>\n",
       "      <th>...</th>\n",
       "      <th>chemistry</th>\n",
       "      <th>biology</th>\n",
       "      <th>geology</th>\n",
       "      <th>applied_math</th>\n",
       "      <th>physics</th>\n",
       "      <th>total</th>\n",
       "      <th>religion</th>\n",
       "      <th>altarbiat_alwatania</th>\n",
       "      <th>economics_statistics</th>\n",
       "      <th>gender</th>\n",
       "    </tr>\n",
       "  </thead>\n",
       "  <tbody>\n",
       "    <tr>\n",
       "      <th>0</th>\n",
       "      <td>102300.0</td>\n",
       "      <td>احمد محمد احمد محمود ابوالقاسم</td>\n",
       "      <td>مدارس النيل المصريه بنين</td>\n",
       "      <td>أكتوبر</td>\n",
       "      <td>الجيزة</td>\n",
       "      <td>غير محدد</td>\n",
       "      <td>0%</td>\n",
       "      <td>نوعيات أخرى</td>\n",
       "      <td>ناجح</td>\n",
       "      <td>غير مقرر</td>\n",
       "      <td>...</td>\n",
       "      <td>غير مقرر</td>\n",
       "      <td>غير مقرر</td>\n",
       "      <td>غير مقرر</td>\n",
       "      <td>غير مقرر</td>\n",
       "      <td>غير مقرر</td>\n",
       "      <td>0.0</td>\n",
       "      <td>23</td>\n",
       "      <td>20</td>\n",
       "      <td>غير مقرر</td>\n",
       "      <td>M</td>\n",
       "    </tr>\n",
       "    <tr>\n",
       "      <th>1</th>\n",
       "      <td>102301.0</td>\n",
       "      <td>احمد محمد عبدالصادق سلامه</td>\n",
       "      <td>مدارس النيل المصريه بنين</td>\n",
       "      <td>أكتوبر</td>\n",
       "      <td>الجيزة</td>\n",
       "      <td>غير محدد</td>\n",
       "      <td>0%</td>\n",
       "      <td>نوعيات أخرى</td>\n",
       "      <td>ناجح</td>\n",
       "      <td>غير مقرر</td>\n",
       "      <td>...</td>\n",
       "      <td>غير مقرر</td>\n",
       "      <td>غير مقرر</td>\n",
       "      <td>غير مقرر</td>\n",
       "      <td>غير مقرر</td>\n",
       "      <td>غير مقرر</td>\n",
       "      <td>0.0</td>\n",
       "      <td>23</td>\n",
       "      <td>23</td>\n",
       "      <td>غير مقرر</td>\n",
       "      <td>M</td>\n",
       "    </tr>\n",
       "    <tr>\n",
       "      <th>2</th>\n",
       "      <td>102302.0</td>\n",
       "      <td>ادهم اشرف عبدالهادي معاذ</td>\n",
       "      <td>مدارس النيل المصريه بنين</td>\n",
       "      <td>أكتوبر</td>\n",
       "      <td>الجيزة</td>\n",
       "      <td>غير محدد</td>\n",
       "      <td>0%</td>\n",
       "      <td>نوعيات أخرى</td>\n",
       "      <td>ناجح</td>\n",
       "      <td>غير مقرر</td>\n",
       "      <td>...</td>\n",
       "      <td>غير مقرر</td>\n",
       "      <td>غير مقرر</td>\n",
       "      <td>غير مقرر</td>\n",
       "      <td>غير مقرر</td>\n",
       "      <td>غير مقرر</td>\n",
       "      <td>0.0</td>\n",
       "      <td>17</td>\n",
       "      <td>14</td>\n",
       "      <td>غير مقرر</td>\n",
       "      <td>M</td>\n",
       "    </tr>\n",
       "    <tr>\n",
       "      <th>3</th>\n",
       "      <td>102303.0</td>\n",
       "      <td>بيير جون نبيل غالي سعد</td>\n",
       "      <td>مدارس النيل المصريه بنين</td>\n",
       "      <td>أكتوبر</td>\n",
       "      <td>الجيزة</td>\n",
       "      <td>غير محدد</td>\n",
       "      <td>0%</td>\n",
       "      <td>نوعيات أخرى</td>\n",
       "      <td>ناجح</td>\n",
       "      <td>غير مقرر</td>\n",
       "      <td>...</td>\n",
       "      <td>غير مقرر</td>\n",
       "      <td>غير مقرر</td>\n",
       "      <td>غير مقرر</td>\n",
       "      <td>غير مقرر</td>\n",
       "      <td>غير مقرر</td>\n",
       "      <td>0.0</td>\n",
       "      <td>21</td>\n",
       "      <td>22</td>\n",
       "      <td>غير مقرر</td>\n",
       "      <td>M</td>\n",
       "    </tr>\n",
       "    <tr>\n",
       "      <th>4</th>\n",
       "      <td>102304.0</td>\n",
       "      <td>رامي محمود عبدالمنعم شحاته</td>\n",
       "      <td>مدارس النيل المصريه بنين</td>\n",
       "      <td>أكتوبر</td>\n",
       "      <td>الجيزة</td>\n",
       "      <td>غير محدد</td>\n",
       "      <td>0%</td>\n",
       "      <td>نوعيات أخرى</td>\n",
       "      <td>ناجح</td>\n",
       "      <td>غير مقرر</td>\n",
       "      <td>...</td>\n",
       "      <td>غير مقرر</td>\n",
       "      <td>غير مقرر</td>\n",
       "      <td>غير مقرر</td>\n",
       "      <td>غير مقرر</td>\n",
       "      <td>غير مقرر</td>\n",
       "      <td>0.0</td>\n",
       "      <td>19</td>\n",
       "      <td>21</td>\n",
       "      <td>غير مقرر</td>\n",
       "      <td>M</td>\n",
       "    </tr>\n",
       "  </tbody>\n",
       "</table>\n",
       "<p>5 rows × 27 columns</p>\n",
       "</div>"
      ],
      "text/plain": [
       "    desk_no                            name        school_name_arabic  \\\n",
       "0  102300.0  احمد محمد احمد محمود ابوالقاسم  مدارس النيل المصريه بنين   \n",
       "1  102301.0       احمد محمد عبدالصادق سلامه  مدارس النيل المصريه بنين   \n",
       "2  102302.0        ادهم اشرف عبدالهادي معاذ  مدارس النيل المصريه بنين   \n",
       "3  102303.0          بيير جون نبيل غالي سعد  مدارس النيل المصريه بنين   \n",
       "4  102304.0      رامي محمود عبدالمنعم شحاته  مدارس النيل المصريه بنين   \n",
       "\n",
       "  administration government_Arabic    branch Percentage student_type status  \\\n",
       "0         أكتوبر            الجيزة  غير محدد         0%  نوعيات أخرى   ناجح   \n",
       "1         أكتوبر            الجيزة  غير محدد         0%  نوعيات أخرى   ناجح   \n",
       "2         أكتوبر            الجيزة  غير محدد         0%  نوعيات أخرى   ناجح   \n",
       "3         أكتوبر            الجيزة  غير محدد         0%  نوعيات أخرى   ناجح   \n",
       "4         أكتوبر            الجيزة  غير محدد         0%  نوعيات أخرى   ناجح   \n",
       "\n",
       "     arabic  ... chemistry   biology   geology applied_math   physics total  \\\n",
       "0  غير مقرر  ...  غير مقرر  غير مقرر  غير مقرر     غير مقرر  غير مقرر   0.0   \n",
       "1  غير مقرر  ...  غير مقرر  غير مقرر  غير مقرر     غير مقرر  غير مقرر   0.0   \n",
       "2  غير مقرر  ...  غير مقرر  غير مقرر  غير مقرر     غير مقرر  غير مقرر   0.0   \n",
       "3  غير مقرر  ...  غير مقرر  غير مقرر  غير مقرر     غير مقرر  غير مقرر   0.0   \n",
       "4  غير مقرر  ...  غير مقرر  غير مقرر  غير مقرر     غير مقرر  غير مقرر   0.0   \n",
       "\n",
       "  religion altarbiat_alwatania economics_statistics gender  \n",
       "0       23                  20             غير مقرر      M  \n",
       "1       23                  23             غير مقرر      M  \n",
       "2       17                  14             غير مقرر      M  \n",
       "3       21                  22             غير مقرر      M  \n",
       "4       19                  21             غير مقرر      M  \n",
       "\n",
       "[5 rows x 27 columns]"
      ]
     },
     "execution_count": 22,
     "metadata": {},
     "output_type": "execute_result"
    }
   ],
   "source": [
    "dfGender  = pd.read_csv('/kaggle/input/first-try-exam/01_firstExam_data_arabic_extra_gender_feature_v1 (1).csv')\n",
    "dfGender.head()"
   ]
  },
  {
   "cell_type": "code",
   "execution_count": 23,
   "id": "61bbf4b9",
   "metadata": {
    "execution": {
     "iopub.execute_input": "2022-12-01T14:42:49.660327Z",
     "iopub.status.busy": "2022-12-01T14:42:49.659914Z",
     "iopub.status.idle": "2022-12-01T14:42:49.947206Z",
     "shell.execute_reply": "2022-12-01T14:42:49.945822Z"
    },
    "papermill": {
     "duration": 0.31072,
     "end_time": "2022-12-01T14:42:49.950118",
     "exception": false,
     "start_time": "2022-12-01T14:42:49.639398",
     "status": "completed"
    },
    "tags": []
   },
   "outputs": [
    {
     "data": {
      "text/html": [
       "<div>\n",
       "<style scoped>\n",
       "    .dataframe tbody tr th:only-of-type {\n",
       "        vertical-align: middle;\n",
       "    }\n",
       "\n",
       "    .dataframe tbody tr th {\n",
       "        vertical-align: top;\n",
       "    }\n",
       "\n",
       "    .dataframe thead th {\n",
       "        text-align: right;\n",
       "    }\n",
       "</style>\n",
       "<table border=\"1\" class=\"dataframe\">\n",
       "  <thead>\n",
       "    <tr style=\"text-align: right;\">\n",
       "      <th></th>\n",
       "      <th>desk_no</th>\n",
       "      <th>name</th>\n",
       "      <th>school_name_arabic</th>\n",
       "      <th>administration</th>\n",
       "      <th>government_Arabic</th>\n",
       "      <th>branch</th>\n",
       "      <th>Percentage</th>\n",
       "      <th>status</th>\n",
       "      <th>arabic</th>\n",
       "      <th>first_foreign_lang</th>\n",
       "      <th>...</th>\n",
       "      <th>psychology</th>\n",
       "      <th>chemistry</th>\n",
       "      <th>biology</th>\n",
       "      <th>geology</th>\n",
       "      <th>applied_math</th>\n",
       "      <th>physics</th>\n",
       "      <th>total</th>\n",
       "      <th>religion</th>\n",
       "      <th>altarbiat_alwatania</th>\n",
       "      <th>economics_statistics</th>\n",
       "    </tr>\n",
       "  </thead>\n",
       "  <tbody>\n",
       "    <tr>\n",
       "      <th>3022</th>\n",
       "      <td>105410.0</td>\n",
       "      <td>احمد محمد احمد محمد</td>\n",
       "      <td>الاورمان الرسمية لغات بنين</td>\n",
       "      <td>الدقى</td>\n",
       "      <td>الجيزة</td>\n",
       "      <td>أدبي</td>\n",
       "      <td>87.80</td>\n",
       "      <td>1</td>\n",
       "      <td>61</td>\n",
       "      <td>27</td>\n",
       "      <td>...</td>\n",
       "      <td>60</td>\n",
       "      <td>غير مقرر</td>\n",
       "      <td>غير مقرر</td>\n",
       "      <td>غير مقرر</td>\n",
       "      <td>غير مقرر</td>\n",
       "      <td>غير مقرر</td>\n",
       "      <td>360.0</td>\n",
       "      <td>17</td>\n",
       "      <td>25</td>\n",
       "      <td>37</td>\n",
       "    </tr>\n",
       "    <tr>\n",
       "      <th>3024</th>\n",
       "      <td>105412.0</td>\n",
       "      <td>مريهان رمضان نجم الدين محمد</td>\n",
       "      <td>جمال عبد الناصرالرسمية لغات بنات</td>\n",
       "      <td>الدقى</td>\n",
       "      <td>الجيزة</td>\n",
       "      <td>علمي علوم</td>\n",
       "      <td>57.32</td>\n",
       "      <td>1</td>\n",
       "      <td>47</td>\n",
       "      <td>25</td>\n",
       "      <td>...</td>\n",
       "      <td>غير مقرر</td>\n",
       "      <td>30</td>\n",
       "      <td>30</td>\n",
       "      <td>44</td>\n",
       "      <td>غير مقرر</td>\n",
       "      <td>33</td>\n",
       "      <td>235.0</td>\n",
       "      <td>18</td>\n",
       "      <td>20</td>\n",
       "      <td>27</td>\n",
       "    </tr>\n",
       "    <tr>\n",
       "      <th>3025</th>\n",
       "      <td>105413.0</td>\n",
       "      <td>ابانوب خالد مرتجي يسي</td>\n",
       "      <td>هضبة الاهرام ث التجريبية لغات بنين</td>\n",
       "      <td>الهرم</td>\n",
       "      <td>الجيزة</td>\n",
       "      <td>أدبي</td>\n",
       "      <td>83.41</td>\n",
       "      <td>1</td>\n",
       "      <td>70</td>\n",
       "      <td>38</td>\n",
       "      <td>...</td>\n",
       "      <td>54</td>\n",
       "      <td>غير مقرر</td>\n",
       "      <td>غير مقرر</td>\n",
       "      <td>غير مقرر</td>\n",
       "      <td>غير مقرر</td>\n",
       "      <td>غير مقرر</td>\n",
       "      <td>342.0</td>\n",
       "      <td>25</td>\n",
       "      <td>25</td>\n",
       "      <td>35</td>\n",
       "    </tr>\n",
       "    <tr>\n",
       "      <th>3026</th>\n",
       "      <td>105415.0</td>\n",
       "      <td>محمود صابر علي علي خالد</td>\n",
       "      <td>التحرير الرسمية لغات بنين</td>\n",
       "      <td>أكتوبر</td>\n",
       "      <td>الجيزة</td>\n",
       "      <td>أدبي</td>\n",
       "      <td>53.17</td>\n",
       "      <td>1</td>\n",
       "      <td>57</td>\n",
       "      <td>27</td>\n",
       "      <td>...</td>\n",
       "      <td>30</td>\n",
       "      <td>غير مقرر</td>\n",
       "      <td>غير مقرر</td>\n",
       "      <td>غير مقرر</td>\n",
       "      <td>غير مقرر</td>\n",
       "      <td>غير مقرر</td>\n",
       "      <td>218.0</td>\n",
       "      <td>20</td>\n",
       "      <td>17.5</td>\n",
       "      <td>27</td>\n",
       "    </tr>\n",
       "    <tr>\n",
       "      <th>3027</th>\n",
       "      <td>105416.0</td>\n",
       "      <td>حاتم عصام محمد عمادالدين عبدالحميد</td>\n",
       "      <td>التحرير الرسمية لغات بنين</td>\n",
       "      <td>أكتوبر</td>\n",
       "      <td>الجيزة</td>\n",
       "      <td>علمي رياضة</td>\n",
       "      <td>51.46</td>\n",
       "      <td>-1</td>\n",
       "      <td>56</td>\n",
       "      <td>25</td>\n",
       "      <td>...</td>\n",
       "      <td>غير مقرر</td>\n",
       "      <td>30</td>\n",
       "      <td>غير مقرر</td>\n",
       "      <td>غير مقرر</td>\n",
       "      <td>33</td>\n",
       "      <td>31</td>\n",
       "      <td>211.0</td>\n",
       "      <td>18</td>\n",
       "      <td>20</td>\n",
       "      <td>31</td>\n",
       "    </tr>\n",
       "  </tbody>\n",
       "</table>\n",
       "<p>5 rows × 25 columns</p>\n",
       "</div>"
      ],
      "text/plain": [
       "       desk_no                                name  \\\n",
       "3022  105410.0                 احمد محمد احمد محمد   \n",
       "3024  105412.0         مريهان رمضان نجم الدين محمد   \n",
       "3025  105413.0               ابانوب خالد مرتجي يسي   \n",
       "3026  105415.0             محمود صابر علي علي خالد   \n",
       "3027  105416.0  حاتم عصام محمد عمادالدين عبدالحميد   \n",
       "\n",
       "                      school_name_arabic administration government_Arabic  \\\n",
       "3022          الاورمان الرسمية لغات بنين          الدقى            الجيزة   \n",
       "3024    جمال عبد الناصرالرسمية لغات بنات          الدقى            الجيزة   \n",
       "3025  هضبة الاهرام ث التجريبية لغات بنين          الهرم            الجيزة   \n",
       "3026           التحرير الرسمية لغات بنين         أكتوبر            الجيزة   \n",
       "3027           التحرير الرسمية لغات بنين         أكتوبر            الجيزة   \n",
       "\n",
       "          branch  Percentage status arabic first_foreign_lang  ... psychology  \\\n",
       "3022        أدبي       87.80      1     61                 27  ...         60   \n",
       "3024   علمي علوم       57.32      1     47                 25  ...   غير مقرر   \n",
       "3025        أدبي       83.41      1     70                 38  ...         54   \n",
       "3026        أدبي       53.17      1     57                 27  ...         30   \n",
       "3027  علمي رياضة       51.46     -1     56                 25  ...   غير مقرر   \n",
       "\n",
       "     chemistry   biology   geology applied_math   physics  total religion  \\\n",
       "3022  غير مقرر  غير مقرر  غير مقرر     غير مقرر  غير مقرر  360.0       17   \n",
       "3024        30        30        44     غير مقرر        33  235.0       18   \n",
       "3025  غير مقرر  غير مقرر  غير مقرر     غير مقرر  غير مقرر  342.0       25   \n",
       "3026  غير مقرر  غير مقرر  غير مقرر     غير مقرر  غير مقرر  218.0       20   \n",
       "3027        30  غير مقرر  غير مقرر           33        31  211.0       18   \n",
       "\n",
       "     altarbiat_alwatania economics_statistics  \n",
       "3022                  25                   37  \n",
       "3024                  20                   27  \n",
       "3025                  25                   35  \n",
       "3026                17.5                   27  \n",
       "3027                  20                   31  \n",
       "\n",
       "[5 rows x 25 columns]"
      ]
     },
     "execution_count": 23,
     "metadata": {},
     "output_type": "execute_result"
    }
   ],
   "source": [
    "df1 = df1.drop(['gender'],axis=1)\n",
    "df1.head()"
   ]
  },
  {
   "cell_type": "code",
   "execution_count": 24,
   "id": "2c2a1777",
   "metadata": {
    "execution": {
     "iopub.execute_input": "2022-12-01T14:42:49.988632Z",
     "iopub.status.busy": "2022-12-01T14:42:49.988213Z",
     "iopub.status.idle": "2022-12-01T14:42:51.467117Z",
     "shell.execute_reply": "2022-12-01T14:42:51.465966Z"
    },
    "papermill": {
     "duration": 1.501208,
     "end_time": "2022-12-01T14:42:51.470041",
     "exception": false,
     "start_time": "2022-12-01T14:42:49.968833",
     "status": "completed"
    },
    "tags": []
   },
   "outputs": [],
   "source": [
    "FirstTry = pd.merge(df1,dfGender[['desk_no', 'gender']],on = 'desk_no',how = 'left')"
   ]
  },
  {
   "cell_type": "code",
   "execution_count": 25,
   "id": "5e5c797a",
   "metadata": {
    "execution": {
     "iopub.execute_input": "2022-12-01T14:42:51.507604Z",
     "iopub.status.busy": "2022-12-01T14:42:51.507208Z",
     "iopub.status.idle": "2022-12-01T14:42:52.167921Z",
     "shell.execute_reply": "2022-12-01T14:42:52.166491Z"
    },
    "papermill": {
     "duration": 0.682963,
     "end_time": "2022-12-01T14:42:52.170663",
     "exception": false,
     "start_time": "2022-12-01T14:42:51.487700",
     "status": "completed"
    },
    "tags": []
   },
   "outputs": [
    {
     "data": {
      "text/html": [
       "<div>\n",
       "<style scoped>\n",
       "    .dataframe tbody tr th:only-of-type {\n",
       "        vertical-align: middle;\n",
       "    }\n",
       "\n",
       "    .dataframe tbody tr th {\n",
       "        vertical-align: top;\n",
       "    }\n",
       "\n",
       "    .dataframe thead th {\n",
       "        text-align: right;\n",
       "    }\n",
       "</style>\n",
       "<table border=\"1\" class=\"dataframe\">\n",
       "  <thead>\n",
       "    <tr style=\"text-align: right;\">\n",
       "      <th></th>\n",
       "      <th>desk_no</th>\n",
       "      <th>name</th>\n",
       "      <th>school_name_arabic</th>\n",
       "      <th>administration</th>\n",
       "      <th>government_Arabic</th>\n",
       "      <th>branch</th>\n",
       "      <th>Percentage</th>\n",
       "      <th>status</th>\n",
       "      <th>arabic</th>\n",
       "      <th>first_foreign_lang</th>\n",
       "      <th>...</th>\n",
       "      <th>chemistry</th>\n",
       "      <th>biology</th>\n",
       "      <th>geology</th>\n",
       "      <th>applied_math</th>\n",
       "      <th>physics</th>\n",
       "      <th>total</th>\n",
       "      <th>religion</th>\n",
       "      <th>altarbiat_alwatania</th>\n",
       "      <th>economics_statistics</th>\n",
       "      <th>gender</th>\n",
       "    </tr>\n",
       "  </thead>\n",
       "  <tbody>\n",
       "    <tr>\n",
       "      <th>247947</th>\n",
       "      <td>400191.0</td>\n",
       "      <td>منه الله محمد سعيد محمد</td>\n",
       "      <td>البطل الشهيد رقيب شرطة/عماد الدين عبد العزيز</td>\n",
       "      <td>المرج</td>\n",
       "      <td>القاهرة</td>\n",
       "      <td>أدبي</td>\n",
       "      <td>74.88</td>\n",
       "      <td>1</td>\n",
       "      <td>60</td>\n",
       "      <td>37</td>\n",
       "      <td>...</td>\n",
       "      <td>غير مقرر</td>\n",
       "      <td>غير مقرر</td>\n",
       "      <td>غير مقرر</td>\n",
       "      <td>غير مقرر</td>\n",
       "      <td>غير مقرر</td>\n",
       "      <td>307.0</td>\n",
       "      <td>19</td>\n",
       "      <td>20</td>\n",
       "      <td>28</td>\n",
       "      <td>F</td>\n",
       "    </tr>\n",
       "    <tr>\n",
       "      <th>68386</th>\n",
       "      <td>175311.0</td>\n",
       "      <td>عبدالله خليفه سالم بسيس</td>\n",
       "      <td>خدمات الشهيد احمد عبد العاطى ث بنين</td>\n",
       "      <td>سنورس</td>\n",
       "      <td>الفيوم</td>\n",
       "      <td>أدبي</td>\n",
       "      <td>47.80</td>\n",
       "      <td>-1</td>\n",
       "      <td>40</td>\n",
       "      <td>14</td>\n",
       "      <td>...</td>\n",
       "      <td>غير مقرر</td>\n",
       "      <td>غير مقرر</td>\n",
       "      <td>غير مقرر</td>\n",
       "      <td>غير مقرر</td>\n",
       "      <td>غير مقرر</td>\n",
       "      <td>196.0</td>\n",
       "      <td>14</td>\n",
       "      <td>16</td>\n",
       "      <td>25</td>\n",
       "      <td>M</td>\n",
       "    </tr>\n",
       "    <tr>\n",
       "      <th>286901</th>\n",
       "      <td>439989.0</td>\n",
       "      <td>بسمة صلاح احمد محمد</td>\n",
       "      <td>المجمع التعليمى ثانوى عربى</td>\n",
       "      <td>شمال الاسماعيلية</td>\n",
       "      <td>الإسماعيلية</td>\n",
       "      <td>علمي علوم</td>\n",
       "      <td>78.29</td>\n",
       "      <td>1</td>\n",
       "      <td>61</td>\n",
       "      <td>34</td>\n",
       "      <td>...</td>\n",
       "      <td>49</td>\n",
       "      <td>52</td>\n",
       "      <td>57</td>\n",
       "      <td>غير مقرر</td>\n",
       "      <td>33</td>\n",
       "      <td>321.0</td>\n",
       "      <td>16</td>\n",
       "      <td>20</td>\n",
       "      <td>35</td>\n",
       "      <td>F</td>\n",
       "    </tr>\n",
       "    <tr>\n",
       "      <th>105057</th>\n",
       "      <td>230646.0</td>\n",
       "      <td>يوسف محمود رمضان محمد</td>\n",
       "      <td>المبتديان الثانوية الخاصة المشتركة</td>\n",
       "      <td>السيدة زينب</td>\n",
       "      <td>القاهرة</td>\n",
       "      <td>أدبي</td>\n",
       "      <td>32.93</td>\n",
       "      <td>0</td>\n",
       "      <td>29</td>\n",
       "      <td>15</td>\n",
       "      <td>...</td>\n",
       "      <td>غير مقرر</td>\n",
       "      <td>غير مقرر</td>\n",
       "      <td>غير مقرر</td>\n",
       "      <td>غير مقرر</td>\n",
       "      <td>غير مقرر</td>\n",
       "      <td>135.0</td>\n",
       "      <td>14</td>\n",
       "      <td>13</td>\n",
       "      <td>14</td>\n",
       "      <td>M</td>\n",
       "    </tr>\n",
       "    <tr>\n",
       "      <th>488604</th>\n",
       "      <td>696285.0</td>\n",
       "      <td>محمد محمود محمد مسعد ابراهيم</td>\n",
       "      <td>الشهيدعودة ث بنين</td>\n",
       "      <td>شربين</td>\n",
       "      <td>الدقهلية</td>\n",
       "      <td>علمي علوم</td>\n",
       "      <td>76.59</td>\n",
       "      <td>1</td>\n",
       "      <td>66</td>\n",
       "      <td>35</td>\n",
       "      <td>...</td>\n",
       "      <td>45</td>\n",
       "      <td>42</td>\n",
       "      <td>53</td>\n",
       "      <td>غير مقرر</td>\n",
       "      <td>41</td>\n",
       "      <td>314.0</td>\n",
       "      <td>20</td>\n",
       "      <td>16</td>\n",
       "      <td>29</td>\n",
       "      <td>M</td>\n",
       "    </tr>\n",
       "    <tr>\n",
       "      <th>478355</th>\n",
       "      <td>686007.0</td>\n",
       "      <td>عبد الرحمن محمد عبد الرحمن احمد عبد السلام</td>\n",
       "      <td>النقيب اشرف ابراهيم محمد ابراهيم جاد</td>\n",
       "      <td>شرق المنصورة</td>\n",
       "      <td>الدقهلية</td>\n",
       "      <td>علمي علوم</td>\n",
       "      <td>87.07</td>\n",
       "      <td>1</td>\n",
       "      <td>65</td>\n",
       "      <td>44</td>\n",
       "      <td>...</td>\n",
       "      <td>58</td>\n",
       "      <td>49</td>\n",
       "      <td>56</td>\n",
       "      <td>غير مقرر</td>\n",
       "      <td>48</td>\n",
       "      <td>357.0</td>\n",
       "      <td>24</td>\n",
       "      <td>19</td>\n",
       "      <td>37</td>\n",
       "      <td>M</td>\n",
       "    </tr>\n",
       "    <tr>\n",
       "      <th>429232</th>\n",
       "      <td>618258.0</td>\n",
       "      <td>احمد عبد الناصر عبد الحميد عويس</td>\n",
       "      <td>طلعت حرب الثانوية العسكرية</td>\n",
       "      <td>غرب المحلة</td>\n",
       "      <td>الغربية</td>\n",
       "      <td>علمي رياضة</td>\n",
       "      <td>82.93</td>\n",
       "      <td>1</td>\n",
       "      <td>64</td>\n",
       "      <td>47</td>\n",
       "      <td>...</td>\n",
       "      <td>40</td>\n",
       "      <td>غير مقرر</td>\n",
       "      <td>غير مقرر</td>\n",
       "      <td>47</td>\n",
       "      <td>55</td>\n",
       "      <td>340.0</td>\n",
       "      <td>17</td>\n",
       "      <td>20</td>\n",
       "      <td>28</td>\n",
       "      <td>M</td>\n",
       "    </tr>\n",
       "    <tr>\n",
       "      <th>655912</th>\n",
       "      <td>907764.0</td>\n",
       "      <td>دينا حمادة فوزى امين</td>\n",
       "      <td>المحاسنة الثانوية المشتركة</td>\n",
       "      <td>جرجا</td>\n",
       "      <td>سوهاج</td>\n",
       "      <td>أدبي</td>\n",
       "      <td>41.22</td>\n",
       "      <td>0</td>\n",
       "      <td>29</td>\n",
       "      <td>25</td>\n",
       "      <td>...</td>\n",
       "      <td>غير مقرر</td>\n",
       "      <td>غير مقرر</td>\n",
       "      <td>غير مقرر</td>\n",
       "      <td>غير مقرر</td>\n",
       "      <td>غير مقرر</td>\n",
       "      <td>169.0</td>\n",
       "      <td>18</td>\n",
       "      <td>14</td>\n",
       "      <td>25</td>\n",
       "      <td>F</td>\n",
       "    </tr>\n",
       "    <tr>\n",
       "      <th>316888</th>\n",
       "      <td>479493.0</td>\n",
       "      <td>محمود أحمد حسنى على حمزه</td>\n",
       "      <td>ش/ محمد هاني لاشين الثانوية</td>\n",
       "      <td>كفر الزيات</td>\n",
       "      <td>الغربية</td>\n",
       "      <td>علمي علوم</td>\n",
       "      <td>81.71</td>\n",
       "      <td>1</td>\n",
       "      <td>58</td>\n",
       "      <td>43</td>\n",
       "      <td>...</td>\n",
       "      <td>40</td>\n",
       "      <td>48</td>\n",
       "      <td>55</td>\n",
       "      <td>غير مقرر</td>\n",
       "      <td>52</td>\n",
       "      <td>335.0</td>\n",
       "      <td>20</td>\n",
       "      <td>23</td>\n",
       "      <td>41</td>\n",
       "      <td>M</td>\n",
       "    </tr>\n",
       "    <tr>\n",
       "      <th>8389</th>\n",
       "      <td>114204.0</td>\n",
       "      <td>عمر شاذلي عمران زوام</td>\n",
       "      <td>الاورمان ث بنين</td>\n",
       "      <td>الدقى</td>\n",
       "      <td>الجيزة</td>\n",
       "      <td>أدبي</td>\n",
       "      <td>70.00</td>\n",
       "      <td>1</td>\n",
       "      <td>54</td>\n",
       "      <td>36</td>\n",
       "      <td>...</td>\n",
       "      <td>غير مقرر</td>\n",
       "      <td>غير مقرر</td>\n",
       "      <td>غير مقرر</td>\n",
       "      <td>غير مقرر</td>\n",
       "      <td>غير مقرر</td>\n",
       "      <td>287.0</td>\n",
       "      <td>21</td>\n",
       "      <td>18</td>\n",
       "      <td>32</td>\n",
       "      <td>M</td>\n",
       "    </tr>\n",
       "  </tbody>\n",
       "</table>\n",
       "<p>10 rows × 26 columns</p>\n",
       "</div>"
      ],
      "text/plain": [
       "         desk_no                                        name  \\\n",
       "247947  400191.0                     منه الله محمد سعيد محمد   \n",
       "68386   175311.0                     عبدالله خليفه سالم بسيس   \n",
       "286901  439989.0                         بسمة صلاح احمد محمد   \n",
       "105057  230646.0                       يوسف محمود رمضان محمد   \n",
       "488604  696285.0                محمد محمود محمد مسعد ابراهيم   \n",
       "478355  686007.0  عبد الرحمن محمد عبد الرحمن احمد عبد السلام   \n",
       "429232  618258.0             احمد عبد الناصر عبد الحميد عويس   \n",
       "655912  907764.0                        دينا حمادة فوزى امين   \n",
       "316888  479493.0                    محمود أحمد حسنى على حمزه   \n",
       "8389    114204.0                        عمر شاذلي عمران زوام   \n",
       "\n",
       "                                  school_name_arabic    administration  \\\n",
       "247947  البطل الشهيد رقيب شرطة/عماد الدين عبد العزيز             المرج   \n",
       "68386            خدمات الشهيد احمد عبد العاطى ث بنين             سنورس   \n",
       "286901                    المجمع التعليمى ثانوى عربى  شمال الاسماعيلية   \n",
       "105057            المبتديان الثانوية الخاصة المشتركة       السيدة زينب   \n",
       "488604                             الشهيدعودة ث بنين             شربين   \n",
       "478355          النقيب اشرف ابراهيم محمد ابراهيم جاد      شرق المنصورة   \n",
       "429232                    طلعت حرب الثانوية العسكرية        غرب المحلة   \n",
       "655912                    المحاسنة الثانوية المشتركة              جرجا   \n",
       "316888                   ش/ محمد هاني لاشين الثانوية        كفر الزيات   \n",
       "8389                                 الاورمان ث بنين             الدقى   \n",
       "\n",
       "       government_Arabic      branch  Percentage status arabic  \\\n",
       "247947           القاهرة        أدبي       74.88      1     60   \n",
       "68386             الفيوم        أدبي       47.80     -1     40   \n",
       "286901       الإسماعيلية   علمي علوم       78.29      1     61   \n",
       "105057           القاهرة        أدبي       32.93      0     29   \n",
       "488604          الدقهلية   علمي علوم       76.59      1     66   \n",
       "478355          الدقهلية   علمي علوم       87.07      1     65   \n",
       "429232           الغربية  علمي رياضة       82.93      1     64   \n",
       "655912             سوهاج        أدبي       41.22      0     29   \n",
       "316888           الغربية   علمي علوم       81.71      1     58   \n",
       "8389              الجيزة        أدبي       70.00      1     54   \n",
       "\n",
       "       first_foreign_lang  ... chemistry   biology   geology applied_math  \\\n",
       "247947                 37  ...  غير مقرر  غير مقرر  غير مقرر     غير مقرر   \n",
       "68386                  14  ...  غير مقرر  غير مقرر  غير مقرر     غير مقرر   \n",
       "286901                 34  ...        49        52        57     غير مقرر   \n",
       "105057                 15  ...  غير مقرر  غير مقرر  غير مقرر     غير مقرر   \n",
       "488604                 35  ...        45        42        53     غير مقرر   \n",
       "478355                 44  ...        58        49        56     غير مقرر   \n",
       "429232                 47  ...        40  غير مقرر  غير مقرر           47   \n",
       "655912                 25  ...  غير مقرر  غير مقرر  غير مقرر     غير مقرر   \n",
       "316888                 43  ...        40        48        55     غير مقرر   \n",
       "8389                   36  ...  غير مقرر  غير مقرر  غير مقرر     غير مقرر   \n",
       "\n",
       "         physics  total religion altarbiat_alwatania economics_statistics  \\\n",
       "247947  غير مقرر  307.0       19                  20                   28   \n",
       "68386   غير مقرر  196.0       14                  16                   25   \n",
       "286901        33  321.0       16                  20                   35   \n",
       "105057  غير مقرر  135.0       14                  13                   14   \n",
       "488604        41  314.0       20                  16                   29   \n",
       "478355        48  357.0       24                  19                   37   \n",
       "429232        55  340.0       17                  20                   28   \n",
       "655912  غير مقرر  169.0       18                  14                   25   \n",
       "316888        52  335.0       20                  23                   41   \n",
       "8389    غير مقرر  287.0       21                  18                   32   \n",
       "\n",
       "       gender  \n",
       "247947      F  \n",
       "68386       M  \n",
       "286901      F  \n",
       "105057      M  \n",
       "488604      M  \n",
       "478355      M  \n",
       "429232      M  \n",
       "655912      F  \n",
       "316888      M  \n",
       "8389        M  \n",
       "\n",
       "[10 rows x 26 columns]"
      ]
     },
     "execution_count": 25,
     "metadata": {},
     "output_type": "execute_result"
    }
   ],
   "source": [
    "FirstTry.sample(10)"
   ]
  },
  {
   "cell_type": "code",
   "execution_count": 26,
   "id": "76ddcec1",
   "metadata": {
    "execution": {
     "iopub.execute_input": "2022-12-01T14:42:52.209272Z",
     "iopub.status.busy": "2022-12-01T14:42:52.208873Z",
     "iopub.status.idle": "2022-12-01T14:42:52.825683Z",
     "shell.execute_reply": "2022-12-01T14:42:52.824362Z"
    },
    "papermill": {
     "duration": 0.639474,
     "end_time": "2022-12-01T14:42:52.828467",
     "exception": false,
     "start_time": "2022-12-01T14:42:52.188993",
     "status": "completed"
    },
    "tags": []
   },
   "outputs": [
    {
     "data": {
      "text/plain": [
       "desk_no                 0\n",
       "name                    0\n",
       "school_name_arabic      0\n",
       "administration          0\n",
       "government_Arabic       0\n",
       "branch                  0\n",
       "Percentage              0\n",
       "status                  0\n",
       "arabic                  0\n",
       "first_foreign_lang      0\n",
       "second_foreign_lang     0\n",
       "pure_mathematics        0\n",
       "history                 0\n",
       "geography               0\n",
       "philosophy              0\n",
       "psychology              0\n",
       "chemistry               0\n",
       "biology                 0\n",
       "geology                 0\n",
       "applied_math            0\n",
       "physics                 0\n",
       "total                   0\n",
       "religion                0\n",
       "altarbiat_alwatania     0\n",
       "economics_statistics    0\n",
       "gender                  3\n",
       "dtype: int64"
      ]
     },
     "execution_count": 26,
     "metadata": {},
     "output_type": "execute_result"
    }
   ],
   "source": [
    "FirstTry.isna().sum()"
   ]
  },
  {
   "cell_type": "code",
   "execution_count": 27,
   "id": "aedc3c61",
   "metadata": {
    "execution": {
     "iopub.execute_input": "2022-12-01T14:42:52.869520Z",
     "iopub.status.busy": "2022-12-01T14:42:52.869128Z",
     "iopub.status.idle": "2022-12-01T14:42:52.928046Z",
     "shell.execute_reply": "2022-12-01T14:42:52.926340Z"
    },
    "papermill": {
     "duration": 0.083011,
     "end_time": "2022-12-01T14:42:52.930921",
     "exception": false,
     "start_time": "2022-12-01T14:42:52.847910",
     "status": "completed"
    },
    "tags": []
   },
   "outputs": [
    {
     "data": {
      "text/html": [
       "<div>\n",
       "<style scoped>\n",
       "    .dataframe tbody tr th:only-of-type {\n",
       "        vertical-align: middle;\n",
       "    }\n",
       "\n",
       "    .dataframe tbody tr th {\n",
       "        vertical-align: top;\n",
       "    }\n",
       "\n",
       "    .dataframe thead th {\n",
       "        text-align: right;\n",
       "    }\n",
       "</style>\n",
       "<table border=\"1\" class=\"dataframe\">\n",
       "  <thead>\n",
       "    <tr style=\"text-align: right;\">\n",
       "      <th></th>\n",
       "      <th>desk_no</th>\n",
       "      <th>name</th>\n",
       "      <th>school_name_arabic</th>\n",
       "      <th>administration</th>\n",
       "      <th>government_Arabic</th>\n",
       "      <th>branch</th>\n",
       "      <th>Percentage</th>\n",
       "      <th>status</th>\n",
       "      <th>arabic</th>\n",
       "      <th>first_foreign_lang</th>\n",
       "      <th>...</th>\n",
       "      <th>chemistry</th>\n",
       "      <th>biology</th>\n",
       "      <th>geology</th>\n",
       "      <th>applied_math</th>\n",
       "      <th>physics</th>\n",
       "      <th>total</th>\n",
       "      <th>religion</th>\n",
       "      <th>altarbiat_alwatania</th>\n",
       "      <th>economics_statistics</th>\n",
       "      <th>gender</th>\n",
       "    </tr>\n",
       "  </thead>\n",
       "  <tbody>\n",
       "    <tr>\n",
       "      <th>345741</th>\n",
       "      <td>510262.0</td>\n",
       "      <td>روكسان شريف الشحات عبدالونيس صقر</td>\n",
       "      <td>الرياض الرسمية للغات الثانوية</td>\n",
       "      <td>الرياض</td>\n",
       "      <td>كفر الشيخ</td>\n",
       "      <td>علمي علوم</td>\n",
       "      <td>86.83</td>\n",
       "      <td>1</td>\n",
       "      <td>68</td>\n",
       "      <td>47</td>\n",
       "      <td>...</td>\n",
       "      <td>53</td>\n",
       "      <td>45</td>\n",
       "      <td>55</td>\n",
       "      <td>غير مقرر</td>\n",
       "      <td>48</td>\n",
       "      <td>356.0</td>\n",
       "      <td>23</td>\n",
       "      <td>21</td>\n",
       "      <td>25</td>\n",
       "      <td>NaN</td>\n",
       "    </tr>\n",
       "    <tr>\n",
       "      <th>587607</th>\n",
       "      <td>827312.0</td>\n",
       "      <td>نجاه رضا عبدالرحيم محمد</td>\n",
       "      <td>منازل ابناؤنا فى الخارج إدارة ملوى</td>\n",
       "      <td>ملوى</td>\n",
       "      <td>المنيا</td>\n",
       "      <td>أدبي</td>\n",
       "      <td>67.56</td>\n",
       "      <td>1</td>\n",
       "      <td>59</td>\n",
       "      <td>36</td>\n",
       "      <td>...</td>\n",
       "      <td>غير مقرر</td>\n",
       "      <td>غير مقرر</td>\n",
       "      <td>غير مقرر</td>\n",
       "      <td>غير مقرر</td>\n",
       "      <td>غير مقرر</td>\n",
       "      <td>277.0</td>\n",
       "      <td>16</td>\n",
       "      <td>20</td>\n",
       "      <td>28</td>\n",
       "      <td>NaN</td>\n",
       "    </tr>\n",
       "    <tr>\n",
       "      <th>623160</th>\n",
       "      <td>864755.0</td>\n",
       "      <td>شنوده شحاته رسمى جاد الله</td>\n",
       "      <td>منازل ابناؤنا فى الخارج إدارة دير مواس</td>\n",
       "      <td>دير مواس</td>\n",
       "      <td>المنيا</td>\n",
       "      <td>أدبي</td>\n",
       "      <td>44.15</td>\n",
       "      <td>0</td>\n",
       "      <td>21</td>\n",
       "      <td>38</td>\n",
       "      <td>...</td>\n",
       "      <td>غير مقرر</td>\n",
       "      <td>غير مقرر</td>\n",
       "      <td>غير مقرر</td>\n",
       "      <td>غير مقرر</td>\n",
       "      <td>غير مقرر</td>\n",
       "      <td>181.0</td>\n",
       "      <td>إجتياز</td>\n",
       "      <td>إجتياز</td>\n",
       "      <td>إجتياز</td>\n",
       "      <td>NaN</td>\n",
       "    </tr>\n",
       "  </tbody>\n",
       "</table>\n",
       "<p>3 rows × 26 columns</p>\n",
       "</div>"
      ],
      "text/plain": [
       "         desk_no                              name  \\\n",
       "345741  510262.0  روكسان شريف الشحات عبدالونيس صقر   \n",
       "587607  827312.0           نجاه رضا عبدالرحيم محمد   \n",
       "623160  864755.0         شنوده شحاته رسمى جاد الله   \n",
       "\n",
       "                            school_name_arabic administration  \\\n",
       "345741           الرياض الرسمية للغات الثانوية         الرياض   \n",
       "587607      منازل ابناؤنا فى الخارج إدارة ملوى           ملوى   \n",
       "623160  منازل ابناؤنا فى الخارج إدارة دير مواس       دير مواس   \n",
       "\n",
       "       government_Arabic     branch  Percentage status arabic  \\\n",
       "345741         كفر الشيخ  علمي علوم       86.83      1     68   \n",
       "587607            المنيا       أدبي       67.56      1     59   \n",
       "623160            المنيا       أدبي       44.15      0     21   \n",
       "\n",
       "       first_foreign_lang  ... chemistry   biology   geology applied_math  \\\n",
       "345741                 47  ...        53        45        55     غير مقرر   \n",
       "587607                 36  ...  غير مقرر  غير مقرر  غير مقرر     غير مقرر   \n",
       "623160                 38  ...  غير مقرر  غير مقرر  غير مقرر     غير مقرر   \n",
       "\n",
       "         physics  total religion altarbiat_alwatania economics_statistics  \\\n",
       "345741        48  356.0       23                  21                   25   \n",
       "587607  غير مقرر  277.0       16                  20                   28   \n",
       "623160  غير مقرر  181.0   إجتياز              إجتياز               إجتياز   \n",
       "\n",
       "       gender  \n",
       "345741    NaN  \n",
       "587607    NaN  \n",
       "623160    NaN  \n",
       "\n",
       "[3 rows x 26 columns]"
      ]
     },
     "execution_count": 27,
     "metadata": {},
     "output_type": "execute_result"
    }
   ],
   "source": [
    "FirstTry[FirstTry['gender'].isna()]"
   ]
  },
  {
   "cell_type": "code",
   "execution_count": 28,
   "id": "7a72f2e0",
   "metadata": {
    "execution": {
     "iopub.execute_input": "2022-12-01T14:42:52.971557Z",
     "iopub.status.busy": "2022-12-01T14:42:52.971145Z",
     "iopub.status.idle": "2022-12-01T14:42:52.976768Z",
     "shell.execute_reply": "2022-12-01T14:42:52.975207Z"
    },
    "papermill": {
     "duration": 0.028883,
     "end_time": "2022-12-01T14:42:52.979127",
     "exception": false,
     "start_time": "2022-12-01T14:42:52.950244",
     "status": "completed"
    },
    "tags": []
   },
   "outputs": [],
   "source": [
    "additional_Names = {\n",
    "    'روكسان':'M',\n",
    "     \"نجاه\":'F',\n",
    "    \"شنوده\":\"M\"\n",
    "                   }"
   ]
  },
  {
   "cell_type": "code",
   "execution_count": 29,
   "id": "e82e8fa7",
   "metadata": {
    "execution": {
     "iopub.execute_input": "2022-12-01T14:42:53.019691Z",
     "iopub.status.busy": "2022-12-01T14:42:53.019299Z",
     "iopub.status.idle": "2022-12-01T14:42:53.155037Z",
     "shell.execute_reply": "2022-12-01T14:42:53.153380Z"
    },
    "papermill": {
     "duration": 0.160159,
     "end_time": "2022-12-01T14:42:53.158082",
     "exception": false,
     "start_time": "2022-12-01T14:42:52.997923",
     "status": "completed"
    },
    "tags": []
   },
   "outputs": [],
   "source": [
    "for name,value in additional_Names.items():\n",
    "    FirstTry['gender'] =  FirstTry['gender'].fillna(value)\n",
    "    \n"
   ]
  },
  {
   "cell_type": "code",
   "execution_count": 30,
   "id": "d73b9bb3",
   "metadata": {
    "execution": {
     "iopub.execute_input": "2022-12-01T14:42:53.198153Z",
     "iopub.status.busy": "2022-12-01T14:42:53.197700Z",
     "iopub.status.idle": "2022-12-01T14:42:53.234543Z",
     "shell.execute_reply": "2022-12-01T14:42:53.233334Z"
    },
    "papermill": {
     "duration": 0.05959,
     "end_time": "2022-12-01T14:42:53.237021",
     "exception": false,
     "start_time": "2022-12-01T14:42:53.177431",
     "status": "completed"
    },
    "tags": []
   },
   "outputs": [
    {
     "data": {
      "text/plain": [
       "0"
      ]
     },
     "execution_count": 30,
     "metadata": {},
     "output_type": "execute_result"
    }
   ],
   "source": [
    "FirstTry['gender'].isna().sum()"
   ]
  },
  {
   "cell_type": "code",
   "execution_count": 31,
   "id": "67cd3eb9",
   "metadata": {
    "execution": {
     "iopub.execute_input": "2022-12-01T14:42:53.278238Z",
     "iopub.status.busy": "2022-12-01T14:42:53.277832Z",
     "iopub.status.idle": "2022-12-01T14:42:53.306322Z",
     "shell.execute_reply": "2022-12-01T14:42:53.305064Z"
    },
    "papermill": {
     "duration": 0.052782,
     "end_time": "2022-12-01T14:42:53.309237",
     "exception": false,
     "start_time": "2022-12-01T14:42:53.256455",
     "status": "completed"
    },
    "tags": []
   },
   "outputs": [
    {
     "data": {
      "text/html": [
       "<div>\n",
       "<style scoped>\n",
       "    .dataframe tbody tr th:only-of-type {\n",
       "        vertical-align: middle;\n",
       "    }\n",
       "\n",
       "    .dataframe tbody tr th {\n",
       "        vertical-align: top;\n",
       "    }\n",
       "\n",
       "    .dataframe thead th {\n",
       "        text-align: right;\n",
       "    }\n",
       "</style>\n",
       "<table border=\"1\" class=\"dataframe\">\n",
       "  <thead>\n",
       "    <tr style=\"text-align: right;\">\n",
       "      <th></th>\n",
       "      <th>desk_no</th>\n",
       "      <th>name</th>\n",
       "      <th>school_name_arabic</th>\n",
       "      <th>administration</th>\n",
       "      <th>government_Arabic</th>\n",
       "      <th>branch</th>\n",
       "      <th>Percentage</th>\n",
       "      <th>status</th>\n",
       "      <th>arabic</th>\n",
       "      <th>first_foreign_lang</th>\n",
       "      <th>...</th>\n",
       "      <th>chemistry</th>\n",
       "      <th>biology</th>\n",
       "      <th>geology</th>\n",
       "      <th>applied_math</th>\n",
       "      <th>physics</th>\n",
       "      <th>total</th>\n",
       "      <th>religion</th>\n",
       "      <th>altarbiat_alwatania</th>\n",
       "      <th>economics_statistics</th>\n",
       "      <th>gender</th>\n",
       "    </tr>\n",
       "  </thead>\n",
       "  <tbody>\n",
       "    <tr>\n",
       "      <th>345741</th>\n",
       "      <td>510262.0</td>\n",
       "      <td>روكسان شريف الشحات عبدالونيس صقر</td>\n",
       "      <td>الرياض الرسمية للغات الثانوية</td>\n",
       "      <td>الرياض</td>\n",
       "      <td>كفر الشيخ</td>\n",
       "      <td>علمي علوم</td>\n",
       "      <td>86.83</td>\n",
       "      <td>1</td>\n",
       "      <td>68</td>\n",
       "      <td>47</td>\n",
       "      <td>...</td>\n",
       "      <td>53</td>\n",
       "      <td>45</td>\n",
       "      <td>55</td>\n",
       "      <td>غير مقرر</td>\n",
       "      <td>48</td>\n",
       "      <td>356.0</td>\n",
       "      <td>23</td>\n",
       "      <td>21</td>\n",
       "      <td>25</td>\n",
       "      <td>M</td>\n",
       "    </tr>\n",
       "  </tbody>\n",
       "</table>\n",
       "<p>1 rows × 26 columns</p>\n",
       "</div>"
      ],
      "text/plain": [
       "         desk_no                              name  \\\n",
       "345741  510262.0  روكسان شريف الشحات عبدالونيس صقر   \n",
       "\n",
       "                   school_name_arabic administration government_Arabic  \\\n",
       "345741  الرياض الرسمية للغات الثانوية         الرياض         كفر الشيخ   \n",
       "\n",
       "           branch  Percentage status arabic first_foreign_lang  ... chemistry  \\\n",
       "345741  علمي علوم       86.83      1     68                 47  ...        53   \n",
       "\n",
       "       biology geology applied_math physics  total religion  \\\n",
       "345741      45      55     غير مقرر      48  356.0       23   \n",
       "\n",
       "       altarbiat_alwatania economics_statistics gender  \n",
       "345741                  21                   25      M  \n",
       "\n",
       "[1 rows x 26 columns]"
      ]
     },
     "execution_count": 31,
     "metadata": {},
     "output_type": "execute_result"
    }
   ],
   "source": [
    "FirstTry[FirstTry['desk_no']==510262.0]"
   ]
  },
  {
   "cell_type": "markdown",
   "id": "21bb3ace",
   "metadata": {
    "papermill": {
     "duration": 0.019319,
     "end_time": "2022-12-01T14:42:53.347664",
     "exception": false,
     "start_time": "2022-12-01T14:42:53.328345",
     "status": "completed"
    },
    "tags": []
   },
   "source": [
    "# Working On cleaning Second Exam"
   ]
  },
  {
   "cell_type": "code",
   "execution_count": 32,
   "id": "3a96430d",
   "metadata": {
    "execution": {
     "iopub.execute_input": "2022-12-01T14:42:53.388468Z",
     "iopub.status.busy": "2022-12-01T14:42:53.388078Z",
     "iopub.status.idle": "2022-12-01T14:42:58.251072Z",
     "shell.execute_reply": "2022-12-01T14:42:58.249662Z"
    },
    "papermill": {
     "duration": 4.88637,
     "end_time": "2022-12-01T14:42:58.253955",
     "exception": false,
     "start_time": "2022-12-01T14:42:53.367585",
     "status": "completed"
    },
    "tags": []
   },
   "outputs": [
    {
     "name": "stderr",
     "output_type": "stream",
     "text": [
      "/opt/conda/lib/python3.7/site-packages/IPython/core/interactiveshell.py:3552: DtypeWarning: Columns (1,2,3,4,5,6,7,8,9,10,11,12,13,14,15,16,17,18,19,20,21,23,24,25) have mixed types.Specify dtype option on import or set low_memory=False.\n",
      "  exec(code_obj, self.user_global_ns, self.user_ns)\n"
     ]
    },
    {
     "data": {
      "text/html": [
       "<div>\n",
       "<style scoped>\n",
       "    .dataframe tbody tr th:only-of-type {\n",
       "        vertical-align: middle;\n",
       "    }\n",
       "\n",
       "    .dataframe tbody tr th {\n",
       "        vertical-align: top;\n",
       "    }\n",
       "\n",
       "    .dataframe thead th {\n",
       "        text-align: right;\n",
       "    }\n",
       "</style>\n",
       "<table border=\"1\" class=\"dataframe\">\n",
       "  <thead>\n",
       "    <tr style=\"text-align: right;\">\n",
       "      <th></th>\n",
       "      <th>desk_no</th>\n",
       "      <th>name</th>\n",
       "      <th>school_name_arabic</th>\n",
       "      <th>administration</th>\n",
       "      <th>government_Arabic</th>\n",
       "      <th>branch</th>\n",
       "      <th>Percentage</th>\n",
       "      <th>student_type</th>\n",
       "      <th>status</th>\n",
       "      <th>arabic</th>\n",
       "      <th>...</th>\n",
       "      <th>chemistry</th>\n",
       "      <th>biology</th>\n",
       "      <th>geology</th>\n",
       "      <th>applied_math</th>\n",
       "      <th>physics</th>\n",
       "      <th>total</th>\n",
       "      <th>religion</th>\n",
       "      <th>altarbiat_alwatania</th>\n",
       "      <th>economics_statistics</th>\n",
       "      <th>gender</th>\n",
       "    </tr>\n",
       "  </thead>\n",
       "  <tbody>\n",
       "    <tr>\n",
       "      <th>0</th>\n",
       "      <td>102353.0</td>\n",
       "      <td>اسماعيل احمد خلف محمد الحسيني</td>\n",
       "      <td>الالمانية الانجيلية خ بنين (ابيتور)</td>\n",
       "      <td>الدقى</td>\n",
       "      <td>الجيزة</td>\n",
       "      <td>غير محدد</td>\n",
       "      <td>9.76%</td>\n",
       "      <td>نوعيات أخرى</td>\n",
       "      <td>ناجح</td>\n",
       "      <td>40</td>\n",
       "      <td>...</td>\n",
       "      <td>غير مقرر</td>\n",
       "      <td>غير مقرر</td>\n",
       "      <td>غير مقرر</td>\n",
       "      <td>غير مقرر</td>\n",
       "      <td>غير مقرر</td>\n",
       "      <td>40.0</td>\n",
       "      <td>16</td>\n",
       "      <td>16</td>\n",
       "      <td>غير مقرر</td>\n",
       "      <td>M</td>\n",
       "    </tr>\n",
       "    <tr>\n",
       "      <th>1</th>\n",
       "      <td>102361.0</td>\n",
       "      <td>حسن خالد عبدالفتاح جوهري</td>\n",
       "      <td>الالمانية الانجيلية خ بنين (ابيتور)</td>\n",
       "      <td>الدقى</td>\n",
       "      <td>الجيزة</td>\n",
       "      <td>غير محدد</td>\n",
       "      <td>9.76%</td>\n",
       "      <td>نوعيات أخرى</td>\n",
       "      <td>ناجح</td>\n",
       "      <td>40</td>\n",
       "      <td>...</td>\n",
       "      <td>غير مقرر</td>\n",
       "      <td>غير مقرر</td>\n",
       "      <td>غير مقرر</td>\n",
       "      <td>غير مقرر</td>\n",
       "      <td>غير مقرر</td>\n",
       "      <td>40.0</td>\n",
       "      <td>21</td>\n",
       "      <td>18</td>\n",
       "      <td>غير مقرر</td>\n",
       "      <td>M</td>\n",
       "    </tr>\n",
       "    <tr>\n",
       "      <th>2</th>\n",
       "      <td>102367.0</td>\n",
       "      <td>سامي احمد سامي محمد بدوي</td>\n",
       "      <td>الالمانية الانجيلية خ بنين (ابيتور)</td>\n",
       "      <td>الدقى</td>\n",
       "      <td>الجيزة</td>\n",
       "      <td>غير محدد</td>\n",
       "      <td>0.00%</td>\n",
       "      <td>نوعيات أخرى</td>\n",
       "      <td>راسب</td>\n",
       "      <td>غائب</td>\n",
       "      <td>...</td>\n",
       "      <td>غير مقرر</td>\n",
       "      <td>غير مقرر</td>\n",
       "      <td>غير مقرر</td>\n",
       "      <td>غير مقرر</td>\n",
       "      <td>غير مقرر</td>\n",
       "      <td>0.0</td>\n",
       "      <td>20</td>\n",
       "      <td>18</td>\n",
       "      <td>غير مقرر</td>\n",
       "      <td>M</td>\n",
       "    </tr>\n",
       "    <tr>\n",
       "      <th>3</th>\n",
       "      <td>102390.0</td>\n",
       "      <td>تايا نادر رؤوف الهامي</td>\n",
       "      <td>الالمانية الانجيلية خ بنات (ابيتور)</td>\n",
       "      <td>الدقى</td>\n",
       "      <td>الجيزة</td>\n",
       "      <td>غير محدد</td>\n",
       "      <td>9.76%</td>\n",
       "      <td>نوعيات أخرى</td>\n",
       "      <td>ناجح</td>\n",
       "      <td>40</td>\n",
       "      <td>...</td>\n",
       "      <td>غير مقرر</td>\n",
       "      <td>غير مقرر</td>\n",
       "      <td>غير مقرر</td>\n",
       "      <td>غير مقرر</td>\n",
       "      <td>غير مقرر</td>\n",
       "      <td>40.0</td>\n",
       "      <td>13</td>\n",
       "      <td>19</td>\n",
       "      <td>غير مقرر</td>\n",
       "      <td>F</td>\n",
       "    </tr>\n",
       "    <tr>\n",
       "      <th>4</th>\n",
       "      <td>102405.0</td>\n",
       "      <td>فريده ناير علوي فؤاد</td>\n",
       "      <td>الالمانية الانجيلية خ بنات (ابيتور)</td>\n",
       "      <td>الدقى</td>\n",
       "      <td>الجيزة</td>\n",
       "      <td>غير محدد</td>\n",
       "      <td>9.76%</td>\n",
       "      <td>نوعيات أخرى</td>\n",
       "      <td>ناجح</td>\n",
       "      <td>40</td>\n",
       "      <td>...</td>\n",
       "      <td>غير مقرر</td>\n",
       "      <td>غير مقرر</td>\n",
       "      <td>غير مقرر</td>\n",
       "      <td>غير مقرر</td>\n",
       "      <td>غير مقرر</td>\n",
       "      <td>40.0</td>\n",
       "      <td>13</td>\n",
       "      <td>13</td>\n",
       "      <td>غير مقرر</td>\n",
       "      <td>F</td>\n",
       "    </tr>\n",
       "  </tbody>\n",
       "</table>\n",
       "<p>5 rows × 27 columns</p>\n",
       "</div>"
      ],
      "text/plain": [
       "    desk_no                           name  \\\n",
       "0  102353.0  اسماعيل احمد خلف محمد الحسيني   \n",
       "1  102361.0       حسن خالد عبدالفتاح جوهري   \n",
       "2  102367.0       سامي احمد سامي محمد بدوي   \n",
       "3  102390.0          تايا نادر رؤوف الهامي   \n",
       "4  102405.0           فريده ناير علوي فؤاد   \n",
       "\n",
       "                    school_name_arabic administration government_Arabic  \\\n",
       "0  الالمانية الانجيلية خ بنين (ابيتور)          الدقى            الجيزة   \n",
       "1  الالمانية الانجيلية خ بنين (ابيتور)          الدقى            الجيزة   \n",
       "2  الالمانية الانجيلية خ بنين (ابيتور)          الدقى            الجيزة   \n",
       "3  الالمانية الانجيلية خ بنات (ابيتور)          الدقى            الجيزة   \n",
       "4  الالمانية الانجيلية خ بنات (ابيتور)          الدقى            الجيزة   \n",
       "\n",
       "     branch Percentage student_type status arabic  ... chemistry   biology  \\\n",
       "0  غير محدد      9.76%  نوعيات أخرى   ناجح     40  ...  غير مقرر  غير مقرر   \n",
       "1  غير محدد      9.76%  نوعيات أخرى   ناجح     40  ...  غير مقرر  غير مقرر   \n",
       "2  غير محدد      0.00%  نوعيات أخرى   راسب   غائب  ...  غير مقرر  غير مقرر   \n",
       "3  غير محدد      9.76%  نوعيات أخرى   ناجح     40  ...  غير مقرر  غير مقرر   \n",
       "4  غير محدد      9.76%  نوعيات أخرى   ناجح     40  ...  غير مقرر  غير مقرر   \n",
       "\n",
       "    geology applied_math   physics total religion altarbiat_alwatania  \\\n",
       "0  غير مقرر     غير مقرر  غير مقرر  40.0       16                  16   \n",
       "1  غير مقرر     غير مقرر  غير مقرر  40.0       21                  18   \n",
       "2  غير مقرر     غير مقرر  غير مقرر   0.0       20                  18   \n",
       "3  غير مقرر     غير مقرر  غير مقرر  40.0       13                  19   \n",
       "4  غير مقرر     غير مقرر  غير مقرر  40.0       13                  13   \n",
       "\n",
       "  economics_statistics gender  \n",
       "0             غير مقرر      M  \n",
       "1             غير مقرر      M  \n",
       "2             غير مقرر      M  \n",
       "3             غير مقرر      F  \n",
       "4             غير مقرر      F  \n",
       "\n",
       "[5 rows x 27 columns]"
      ]
     },
     "execution_count": 32,
     "metadata": {},
     "output_type": "execute_result"
    }
   ],
   "source": [
    "second = pd.read_csv('/kaggle/input/second-try/dataset_second_attempt.csv')\n",
    "second.head()"
   ]
  },
  {
   "cell_type": "code",
   "execution_count": 33,
   "id": "0fd0f4ca",
   "metadata": {
    "execution": {
     "iopub.execute_input": "2022-12-01T14:42:58.296921Z",
     "iopub.status.busy": "2022-12-01T14:42:58.295571Z",
     "iopub.status.idle": "2022-12-01T14:42:58.362009Z",
     "shell.execute_reply": "2022-12-01T14:42:58.360805Z"
    },
    "papermill": {
     "duration": 0.090817,
     "end_time": "2022-12-01T14:42:58.364647",
     "exception": false,
     "start_time": "2022-12-01T14:42:58.273830",
     "status": "completed"
    },
    "tags": []
   },
   "outputs": [
    {
     "data": {
      "text/plain": [
       "branch    \n",
       "أدبي          72909\n",
       "علمي علوم     63769\n",
       "علمي رياضة    17171\n",
       "غير محدد       1680\n",
       "dtype: int64"
      ]
     },
     "execution_count": 33,
     "metadata": {},
     "output_type": "execute_result"
    }
   ],
   "source": [
    "second.value_counts(['branch'])"
   ]
  },
  {
   "cell_type": "code",
   "execution_count": 34,
   "id": "53508f1a",
   "metadata": {
    "execution": {
     "iopub.execute_input": "2022-12-01T14:42:58.406540Z",
     "iopub.status.busy": "2022-12-01T14:42:58.406116Z",
     "iopub.status.idle": "2022-12-01T14:42:59.500473Z",
     "shell.execute_reply": "2022-12-01T14:42:59.499272Z"
    },
    "papermill": {
     "duration": 1.118293,
     "end_time": "2022-12-01T14:42:59.503287",
     "exception": false,
     "start_time": "2022-12-01T14:42:58.384994",
     "status": "completed"
    },
    "tags": []
   },
   "outputs": [],
   "source": [
    "second.drop(second[second['branch'] == 'غير محدد'].index, axis=0, inplace=True)\n",
    "second.drop(second[second['student_type'] == 'نوعيات أخرى'].index, axis=0, inplace=True)"
   ]
  },
  {
   "cell_type": "code",
   "execution_count": 35,
   "id": "f13ec5d8",
   "metadata": {
    "execution": {
     "iopub.execute_input": "2022-12-01T14:42:59.544176Z",
     "iopub.status.busy": "2022-12-01T14:42:59.543801Z",
     "iopub.status.idle": "2022-12-01T14:42:59.550859Z",
     "shell.execute_reply": "2022-12-01T14:42:59.549509Z"
    },
    "papermill": {
     "duration": 0.030224,
     "end_time": "2022-12-01T14:42:59.553235",
     "exception": false,
     "start_time": "2022-12-01T14:42:59.523011",
     "status": "completed"
    },
    "tags": []
   },
   "outputs": [
    {
     "data": {
      "text/plain": [
       "(1046879, 27)"
      ]
     },
     "execution_count": 35,
     "metadata": {},
     "output_type": "execute_result"
    }
   ],
   "source": [
    "second.shape"
   ]
  },
  {
   "cell_type": "code",
   "execution_count": 36,
   "id": "50a679e5",
   "metadata": {
    "execution": {
     "iopub.execute_input": "2022-12-01T14:42:59.595511Z",
     "iopub.status.busy": "2022-12-01T14:42:59.595113Z",
     "iopub.status.idle": "2022-12-01T14:43:00.484381Z",
     "shell.execute_reply": "2022-12-01T14:43:00.483225Z"
    },
    "papermill": {
     "duration": 0.913308,
     "end_time": "2022-12-01T14:43:00.487140",
     "exception": false,
     "start_time": "2022-12-01T14:42:59.573832",
     "status": "completed"
    },
    "tags": []
   },
   "outputs": [
    {
     "data": {
      "text/plain": [
       "desk_no                 893046\n",
       "name                    893046\n",
       "school_name_arabic      893046\n",
       "administration          893046\n",
       "government_Arabic       893046\n",
       "branch                  893046\n",
       "Percentage              893046\n",
       "student_type            893046\n",
       "status                  893046\n",
       "arabic                  893046\n",
       "first_foreign_lang      893046\n",
       "second_foreign_lang     893046\n",
       "pure_mathematics        893046\n",
       "history                 893046\n",
       "geography               893046\n",
       "philosophy              893046\n",
       "psychology              893046\n",
       "chemistry               893046\n",
       "biology                 893046\n",
       "geology                 893046\n",
       "applied_math            893046\n",
       "physics                 893046\n",
       "total                   893046\n",
       "religion                893046\n",
       "altarbiat_alwatania     893046\n",
       "economics_statistics    893046\n",
       "gender                       0\n",
       "dtype: int64"
      ]
     },
     "execution_count": 36,
     "metadata": {},
     "output_type": "execute_result"
    }
   ],
   "source": [
    "second.isna().sum()"
   ]
  },
  {
   "cell_type": "code",
   "execution_count": 37,
   "id": "892c76cb",
   "metadata": {
    "execution": {
     "iopub.execute_input": "2022-12-01T14:43:00.534549Z",
     "iopub.status.busy": "2022-12-01T14:43:00.534163Z",
     "iopub.status.idle": "2022-12-01T14:43:01.563884Z",
     "shell.execute_reply": "2022-12-01T14:43:01.562006Z"
    },
    "papermill": {
     "duration": 1.059941,
     "end_time": "2022-12-01T14:43:01.566988",
     "exception": false,
     "start_time": "2022-12-01T14:43:00.507047",
     "status": "completed"
    },
    "tags": []
   },
   "outputs": [],
   "source": [
    "secondTry = second.dropna(axis = 0)\n"
   ]
  },
  {
   "cell_type": "code",
   "execution_count": 38,
   "id": "f1b68d0c",
   "metadata": {
    "execution": {
     "iopub.execute_input": "2022-12-01T14:43:01.610251Z",
     "iopub.status.busy": "2022-12-01T14:43:01.609816Z",
     "iopub.status.idle": "2022-12-01T14:43:01.948024Z",
     "shell.execute_reply": "2022-12-01T14:43:01.946484Z"
    },
    "papermill": {
     "duration": 0.36455,
     "end_time": "2022-12-01T14:43:01.952112",
     "exception": false,
     "start_time": "2022-12-01T14:43:01.587562",
     "status": "completed"
    },
    "tags": []
   },
   "outputs": [
    {
     "name": "stderr",
     "output_type": "stream",
     "text": [
      "/opt/conda/lib/python3.7/site-packages/ipykernel_launcher.py:1: SettingWithCopyWarning: \n",
      "A value is trying to be set on a copy of a slice from a DataFrame.\n",
      "Try using .loc[row_indexer,col_indexer] = value instead\n",
      "\n",
      "See the caveats in the documentation: https://pandas.pydata.org/pandas-docs/stable/user_guide/indexing.html#returning-a-view-versus-a-copy\n",
      "  \"\"\"Entry point for launching an IPython kernel.\n"
     ]
    },
    {
     "data": {
      "text/plain": [
       "400       54.88\n",
       "401       74.88\n",
       "402       45.73\n",
       "403       55.85\n",
       "404       62.93\n",
       "          ...  \n",
       "155524    47.80\n",
       "155525    58.41\n",
       "155526    60.85\n",
       "155527    58.05\n",
       "155528    65.85\n",
       "Name: Percentage, Length: 153833, dtype: float64"
      ]
     },
     "execution_count": 38,
     "metadata": {},
     "output_type": "execute_result"
    }
   ],
   "source": [
    "secondTry['Percentage'] = secondTry['Percentage'].replace(r'%',value = \" \",regex=True).astype('float')\n",
    "secondTry['Percentage']"
   ]
  },
  {
   "cell_type": "code",
   "execution_count": 39,
   "id": "d36fef04",
   "metadata": {
    "execution": {
     "iopub.execute_input": "2022-12-01T14:43:01.997589Z",
     "iopub.status.busy": "2022-12-01T14:43:01.996760Z",
     "iopub.status.idle": "2022-12-01T14:43:02.005991Z",
     "shell.execute_reply": "2022-12-01T14:43:02.004263Z"
    },
    "papermill": {
     "duration": 0.035787,
     "end_time": "2022-12-01T14:43:02.008829",
     "exception": false,
     "start_time": "2022-12-01T14:43:01.973042",
     "status": "completed"
    },
    "tags": []
   },
   "outputs": [
    {
     "data": {
      "text/plain": [
       "Index(['desk_no', 'name', 'school_name_arabic', 'administration',\n",
       "       'government_Arabic', 'branch', 'Percentage', 'student_type', 'status',\n",
       "       'arabic', 'first_foreign_lang', 'second_foreign_lang',\n",
       "       'pure_mathematics', 'history', 'geography', 'philosophy', 'psychology',\n",
       "       'chemistry', 'biology', 'geology', 'applied_math', 'physics', 'total',\n",
       "       'religion', 'altarbiat_alwatania', 'economics_statistics', 'gender'],\n",
       "      dtype='object')"
      ]
     },
     "execution_count": 39,
     "metadata": {},
     "output_type": "execute_result"
    }
   ],
   "source": [
    "secondTry.columns"
   ]
  },
  {
   "cell_type": "code",
   "execution_count": 40,
   "id": "7dacf83a",
   "metadata": {
    "execution": {
     "iopub.execute_input": "2022-12-01T14:43:02.052020Z",
     "iopub.status.busy": "2022-12-01T14:43:02.051595Z",
     "iopub.status.idle": "2022-12-01T14:43:02.107924Z",
     "shell.execute_reply": "2022-12-01T14:43:02.106736Z"
    },
    "papermill": {
     "duration": 0.081058,
     "end_time": "2022-12-01T14:43:02.110404",
     "exception": false,
     "start_time": "2022-12-01T14:43:02.029346",
     "status": "completed"
    },
    "tags": []
   },
   "outputs": [
    {
     "data": {
      "text/plain": [
       "Index(['desk_no', 'name', 'school_name_arabic', 'administration',\n",
       "       'government_Arabic', 'branch', 'Percentage', 'status', 'arabic',\n",
       "       'first_foreign_lang', 'second_foreign_lang', 'pure_mathematics',\n",
       "       'history', 'geography', 'philosophy', 'psychology', 'chemistry',\n",
       "       'biology', 'geology', 'applied_math', 'physics', 'total', 'religion',\n",
       "       'altarbiat_alwatania', 'economics_statistics', 'gender'],\n",
       "      dtype='object')"
      ]
     },
     "execution_count": 40,
     "metadata": {},
     "output_type": "execute_result"
    }
   ],
   "source": [
    "secondTry = secondTry.drop(['student_type'],axis=1)\n",
    "secondTry.columns\n"
   ]
  },
  {
   "cell_type": "code",
   "execution_count": 41,
   "id": "78dda24d",
   "metadata": {
    "execution": {
     "iopub.execute_input": "2022-12-01T14:43:02.155112Z",
     "iopub.status.busy": "2022-12-01T14:43:02.154676Z",
     "iopub.status.idle": "2022-12-01T14:43:02.286134Z",
     "shell.execute_reply": "2022-12-01T14:43:02.284631Z"
    },
    "papermill": {
     "duration": 0.157703,
     "end_time": "2022-12-01T14:43:02.288937",
     "exception": false,
     "start_time": "2022-12-01T14:43:02.131234",
     "status": "completed"
    },
    "tags": []
   },
   "outputs": [],
   "source": [
    "secondTry['branch'] = secondTry['branch'].astype('category')\n",
    "secondTry['status'] = secondTry['status'].astype('category')\n",
    "secondTry['status'] = secondTry['status'].replace({'راسب':0,'دور ثاني':-1,'ناجح':1})"
   ]
  },
  {
   "cell_type": "code",
   "execution_count": 42,
   "id": "a9b93dde",
   "metadata": {
    "execution": {
     "iopub.execute_input": "2022-12-01T14:43:02.333963Z",
     "iopub.status.busy": "2022-12-01T14:43:02.333510Z",
     "iopub.status.idle": "2022-12-01T14:43:02.343171Z",
     "shell.execute_reply": "2022-12-01T14:43:02.341530Z"
    },
    "papermill": {
     "duration": 0.03607,
     "end_time": "2022-12-01T14:43:02.345689",
     "exception": false,
     "start_time": "2022-12-01T14:43:02.309619",
     "status": "completed"
    },
    "tags": []
   },
   "outputs": [
    {
     "data": {
      "text/plain": [
       "400       1\n",
       "401       1\n",
       "402       1\n",
       "403       1\n",
       "404       1\n",
       "         ..\n",
       "155524    0\n",
       "155525    1\n",
       "155526    1\n",
       "155527    1\n",
       "155528    1\n",
       "Name: status, Length: 153833, dtype: int64"
      ]
     },
     "execution_count": 42,
     "metadata": {},
     "output_type": "execute_result"
    }
   ],
   "source": [
    "secondTry['status']"
   ]
  },
  {
   "cell_type": "code",
   "execution_count": 43,
   "id": "96f19d56",
   "metadata": {
    "execution": {
     "iopub.execute_input": "2022-12-01T14:43:02.390807Z",
     "iopub.status.busy": "2022-12-01T14:43:02.390356Z",
     "iopub.status.idle": "2022-12-01T14:43:02.437208Z",
     "shell.execute_reply": "2022-12-01T14:43:02.435859Z"
    },
    "papermill": {
     "duration": 0.073271,
     "end_time": "2022-12-01T14:43:02.440277",
     "exception": false,
     "start_time": "2022-12-01T14:43:02.367006",
     "status": "completed"
    },
    "tags": []
   },
   "outputs": [],
   "source": [
    "secondTry.drop('gender', axis=1, inplace=True,)\n",
    "\n"
   ]
  },
  {
   "cell_type": "code",
   "execution_count": 44,
   "id": "02505e86",
   "metadata": {
    "execution": {
     "iopub.execute_input": "2022-12-01T14:43:02.484691Z",
     "iopub.status.busy": "2022-12-01T14:43:02.484295Z",
     "iopub.status.idle": "2022-12-01T14:43:03.092051Z",
     "shell.execute_reply": "2022-12-01T14:43:03.090986Z"
    },
    "papermill": {
     "duration": 0.632277,
     "end_time": "2022-12-01T14:43:03.094691",
     "exception": false,
     "start_time": "2022-12-01T14:43:02.462414",
     "status": "completed"
    },
    "tags": []
   },
   "outputs": [
    {
     "data": {
      "text/html": [
       "<div>\n",
       "<style scoped>\n",
       "    .dataframe tbody tr th:only-of-type {\n",
       "        vertical-align: middle;\n",
       "    }\n",
       "\n",
       "    .dataframe tbody tr th {\n",
       "        vertical-align: top;\n",
       "    }\n",
       "\n",
       "    .dataframe thead th {\n",
       "        text-align: right;\n",
       "    }\n",
       "</style>\n",
       "<table border=\"1\" class=\"dataframe\">\n",
       "  <thead>\n",
       "    <tr style=\"text-align: right;\">\n",
       "      <th></th>\n",
       "      <th>desk_no</th>\n",
       "      <th>name</th>\n",
       "      <th>school_name_arabic</th>\n",
       "      <th>administration</th>\n",
       "      <th>government_Arabic</th>\n",
       "      <th>branch</th>\n",
       "      <th>Percentage</th>\n",
       "      <th>status</th>\n",
       "      <th>arabic</th>\n",
       "      <th>first_foreign_lang</th>\n",
       "      <th>...</th>\n",
       "      <th>chemistry</th>\n",
       "      <th>biology</th>\n",
       "      <th>geology</th>\n",
       "      <th>applied_math</th>\n",
       "      <th>physics</th>\n",
       "      <th>total</th>\n",
       "      <th>religion</th>\n",
       "      <th>altarbiat_alwatania</th>\n",
       "      <th>economics_statistics</th>\n",
       "      <th>gender</th>\n",
       "    </tr>\n",
       "  </thead>\n",
       "  <tbody>\n",
       "    <tr>\n",
       "      <th>0</th>\n",
       "      <td>105416.0</td>\n",
       "      <td>حاتم عصام محمد عمادالدين عبدالحميد</td>\n",
       "      <td>التحرير الرسمية لغات بنين</td>\n",
       "      <td>أكتوبر</td>\n",
       "      <td>الجيزة</td>\n",
       "      <td>علمي رياضة</td>\n",
       "      <td>54.88</td>\n",
       "      <td>1</td>\n",
       "      <td>56</td>\n",
       "      <td>25</td>\n",
       "      <td>...</td>\n",
       "      <td>30</td>\n",
       "      <td>غير مقرر</td>\n",
       "      <td>غير مقرر</td>\n",
       "      <td>33</td>\n",
       "      <td>31</td>\n",
       "      <td>225.0</td>\n",
       "      <td>18</td>\n",
       "      <td>20</td>\n",
       "      <td>31</td>\n",
       "      <td>M</td>\n",
       "    </tr>\n",
       "    <tr>\n",
       "      <th>1</th>\n",
       "      <td>105463.0</td>\n",
       "      <td>دنيا محمد فوزي عبدالله</td>\n",
       "      <td>العجوزة ث بنات</td>\n",
       "      <td>العجوزة</td>\n",
       "      <td>الجيزة</td>\n",
       "      <td>أدبي</td>\n",
       "      <td>74.88</td>\n",
       "      <td>1</td>\n",
       "      <td>76</td>\n",
       "      <td>26</td>\n",
       "      <td>...</td>\n",
       "      <td>غير مقرر</td>\n",
       "      <td>غير مقرر</td>\n",
       "      <td>غير مقرر</td>\n",
       "      <td>غير مقرر</td>\n",
       "      <td>غير مقرر</td>\n",
       "      <td>307.0</td>\n",
       "      <td>16</td>\n",
       "      <td>12.5</td>\n",
       "      <td>28.5</td>\n",
       "      <td>F</td>\n",
       "    </tr>\n",
       "    <tr>\n",
       "      <th>2</th>\n",
       "      <td>105477.0</td>\n",
       "      <td>ندي محمد مصطفي حسين</td>\n",
       "      <td>د/محمود عمر ث بنات</td>\n",
       "      <td>الهرم</td>\n",
       "      <td>الجيزة</td>\n",
       "      <td>أدبي</td>\n",
       "      <td>45.73</td>\n",
       "      <td>1</td>\n",
       "      <td>40</td>\n",
       "      <td>25.5</td>\n",
       "      <td>...</td>\n",
       "      <td>غير مقرر</td>\n",
       "      <td>غير مقرر</td>\n",
       "      <td>غير مقرر</td>\n",
       "      <td>غير مقرر</td>\n",
       "      <td>غير مقرر</td>\n",
       "      <td>187.5</td>\n",
       "      <td>16</td>\n",
       "      <td>12.5</td>\n",
       "      <td>33</td>\n",
       "      <td>F</td>\n",
       "    </tr>\n",
       "    <tr>\n",
       "      <th>3</th>\n",
       "      <td>105478.0</td>\n",
       "      <td>عمر حسين محمود ابراهيم محمود</td>\n",
       "      <td>6 اكتوبر الحى السادس ث بنين</td>\n",
       "      <td>أكتوبر</td>\n",
       "      <td>الجيزة</td>\n",
       "      <td>أدبي</td>\n",
       "      <td>55.85</td>\n",
       "      <td>1</td>\n",
       "      <td>42</td>\n",
       "      <td>33</td>\n",
       "      <td>...</td>\n",
       "      <td>غير مقرر</td>\n",
       "      <td>غير مقرر</td>\n",
       "      <td>غير مقرر</td>\n",
       "      <td>غير مقرر</td>\n",
       "      <td>غير مقرر</td>\n",
       "      <td>229.0</td>\n",
       "      <td>21</td>\n",
       "      <td>12.5</td>\n",
       "      <td>25</td>\n",
       "      <td>M</td>\n",
       "    </tr>\n",
       "    <tr>\n",
       "      <th>4</th>\n",
       "      <td>105485.0</td>\n",
       "      <td>ابراهيم جمال السيد احمد هريدي</td>\n",
       "      <td>6 اكتوبر الحى السادس ث بنين</td>\n",
       "      <td>أكتوبر</td>\n",
       "      <td>الجيزة</td>\n",
       "      <td>علمي علوم</td>\n",
       "      <td>62.93</td>\n",
       "      <td>1</td>\n",
       "      <td>73</td>\n",
       "      <td>44</td>\n",
       "      <td>...</td>\n",
       "      <td>31</td>\n",
       "      <td>30</td>\n",
       "      <td>30</td>\n",
       "      <td>غير مقرر</td>\n",
       "      <td>30</td>\n",
       "      <td>258.0</td>\n",
       "      <td>18</td>\n",
       "      <td>25</td>\n",
       "      <td>28</td>\n",
       "      <td>M</td>\n",
       "    </tr>\n",
       "    <tr>\n",
       "      <th>...</th>\n",
       "      <td>...</td>\n",
       "      <td>...</td>\n",
       "      <td>...</td>\n",
       "      <td>...</td>\n",
       "      <td>...</td>\n",
       "      <td>...</td>\n",
       "      <td>...</td>\n",
       "      <td>...</td>\n",
       "      <td>...</td>\n",
       "      <td>...</td>\n",
       "      <td>...</td>\n",
       "      <td>...</td>\n",
       "      <td>...</td>\n",
       "      <td>...</td>\n",
       "      <td>...</td>\n",
       "      <td>...</td>\n",
       "      <td>...</td>\n",
       "      <td>...</td>\n",
       "      <td>...</td>\n",
       "      <td>...</td>\n",
       "      <td>...</td>\n",
       "    </tr>\n",
       "    <tr>\n",
       "      <th>153828</th>\n",
       "      <td>937400.0</td>\n",
       "      <td>محمد رفعت محمد فراج</td>\n",
       "      <td>منازل إدارة جهينة</td>\n",
       "      <td>جهينة</td>\n",
       "      <td>سوهاج</td>\n",
       "      <td>علمي علوم</td>\n",
       "      <td>47.80</td>\n",
       "      <td>0</td>\n",
       "      <td>غائب</td>\n",
       "      <td>37</td>\n",
       "      <td>...</td>\n",
       "      <td>30</td>\n",
       "      <td>37</td>\n",
       "      <td>56</td>\n",
       "      <td>غير مقرر</td>\n",
       "      <td>36</td>\n",
       "      <td>196.0</td>\n",
       "      <td>إجتياز</td>\n",
       "      <td>إجتياز</td>\n",
       "      <td>إجتياز</td>\n",
       "      <td>M</td>\n",
       "    </tr>\n",
       "    <tr>\n",
       "      <th>153829</th>\n",
       "      <td>937403.0</td>\n",
       "      <td>اسراء عبدالراضى محمد عبدالرحيم</td>\n",
       "      <td>منازل إدارة جهينة</td>\n",
       "      <td>جهينة</td>\n",
       "      <td>سوهاج</td>\n",
       "      <td>علمي علوم</td>\n",
       "      <td>58.41</td>\n",
       "      <td>1</td>\n",
       "      <td>53.5</td>\n",
       "      <td>29</td>\n",
       "      <td>...</td>\n",
       "      <td>30</td>\n",
       "      <td>30</td>\n",
       "      <td>34</td>\n",
       "      <td>غير مقرر</td>\n",
       "      <td>30</td>\n",
       "      <td>239.5</td>\n",
       "      <td>إجتياز</td>\n",
       "      <td>إجتياز</td>\n",
       "      <td>إجتياز</td>\n",
       "      <td>F</td>\n",
       "    </tr>\n",
       "    <tr>\n",
       "      <th>153830</th>\n",
       "      <td>937404.0</td>\n",
       "      <td>هدير ماهر كامل محمد</td>\n",
       "      <td>منازل إدارة جهينة</td>\n",
       "      <td>جهينة</td>\n",
       "      <td>سوهاج</td>\n",
       "      <td>أدبي</td>\n",
       "      <td>60.85</td>\n",
       "      <td>1</td>\n",
       "      <td>40.5</td>\n",
       "      <td>38</td>\n",
       "      <td>...</td>\n",
       "      <td>غير مقرر</td>\n",
       "      <td>غير مقرر</td>\n",
       "      <td>غير مقرر</td>\n",
       "      <td>غير مقرر</td>\n",
       "      <td>غير مقرر</td>\n",
       "      <td>249.5</td>\n",
       "      <td>إجتياز</td>\n",
       "      <td>إجتياز</td>\n",
       "      <td>إجتياز</td>\n",
       "      <td>F</td>\n",
       "    </tr>\n",
       "    <tr>\n",
       "      <th>153831</th>\n",
       "      <td>937408.0</td>\n",
       "      <td>خلود حسن عبد الستار محمد</td>\n",
       "      <td>منازل إدارة جهينة</td>\n",
       "      <td>جهينة</td>\n",
       "      <td>سوهاج</td>\n",
       "      <td>أدبي</td>\n",
       "      <td>58.05</td>\n",
       "      <td>1</td>\n",
       "      <td>40</td>\n",
       "      <td>39</td>\n",
       "      <td>...</td>\n",
       "      <td>غير مقرر</td>\n",
       "      <td>غير مقرر</td>\n",
       "      <td>غير مقرر</td>\n",
       "      <td>غير مقرر</td>\n",
       "      <td>غير مقرر</td>\n",
       "      <td>238.0</td>\n",
       "      <td>إجتياز</td>\n",
       "      <td>إجتياز</td>\n",
       "      <td>إجتياز</td>\n",
       "      <td>F</td>\n",
       "    </tr>\n",
       "    <tr>\n",
       "      <th>153832</th>\n",
       "      <td>937409.0</td>\n",
       "      <td>دنيا احمد عبد العظيم عبد الوهاب</td>\n",
       "      <td>منازل إدارة جهينة</td>\n",
       "      <td>جهينة</td>\n",
       "      <td>سوهاج</td>\n",
       "      <td>أدبي</td>\n",
       "      <td>65.85</td>\n",
       "      <td>1</td>\n",
       "      <td>42</td>\n",
       "      <td>35</td>\n",
       "      <td>...</td>\n",
       "      <td>غير مقرر</td>\n",
       "      <td>غير مقرر</td>\n",
       "      <td>غير مقرر</td>\n",
       "      <td>غير مقرر</td>\n",
       "      <td>غير مقرر</td>\n",
       "      <td>270.0</td>\n",
       "      <td>إجتياز</td>\n",
       "      <td>إجتياز</td>\n",
       "      <td>إجتياز</td>\n",
       "      <td>F</td>\n",
       "    </tr>\n",
       "  </tbody>\n",
       "</table>\n",
       "<p>153833 rows × 26 columns</p>\n",
       "</div>"
      ],
      "text/plain": [
       "         desk_no                                name  \\\n",
       "0       105416.0  حاتم عصام محمد عمادالدين عبدالحميد   \n",
       "1       105463.0              دنيا محمد فوزي عبدالله   \n",
       "2       105477.0                 ندي محمد مصطفي حسين   \n",
       "3       105478.0        عمر حسين محمود ابراهيم محمود   \n",
       "4       105485.0       ابراهيم جمال السيد احمد هريدي   \n",
       "...          ...                                 ...   \n",
       "153828  937400.0                 محمد رفعت محمد فراج   \n",
       "153829  937403.0      اسراء عبدالراضى محمد عبدالرحيم   \n",
       "153830  937404.0                 هدير ماهر كامل محمد   \n",
       "153831  937408.0            خلود حسن عبد الستار محمد   \n",
       "153832  937409.0     دنيا احمد عبد العظيم عبد الوهاب   \n",
       "\n",
       "                 school_name_arabic administration government_Arabic  \\\n",
       "0         التحرير الرسمية لغات بنين         أكتوبر            الجيزة   \n",
       "1                    العجوزة ث بنات        العجوزة            الجيزة   \n",
       "2                د/محمود عمر ث بنات          الهرم            الجيزة   \n",
       "3       6 اكتوبر الحى السادس ث بنين         أكتوبر            الجيزة   \n",
       "4       6 اكتوبر الحى السادس ث بنين         أكتوبر            الجيزة   \n",
       "...                             ...            ...               ...   \n",
       "153828            منازل إدارة جهينة          جهينة             سوهاج   \n",
       "153829            منازل إدارة جهينة          جهينة             سوهاج   \n",
       "153830            منازل إدارة جهينة          جهينة             سوهاج   \n",
       "153831            منازل إدارة جهينة          جهينة             سوهاج   \n",
       "153832            منازل إدارة جهينة          جهينة             سوهاج   \n",
       "\n",
       "            branch  Percentage  status arabic first_foreign_lang  ...  \\\n",
       "0       علمي رياضة       54.88       1     56                 25  ...   \n",
       "1             أدبي       74.88       1     76                 26  ...   \n",
       "2             أدبي       45.73       1     40               25.5  ...   \n",
       "3             أدبي       55.85       1     42                 33  ...   \n",
       "4        علمي علوم       62.93       1     73                 44  ...   \n",
       "...            ...         ...     ...    ...                ...  ...   \n",
       "153828   علمي علوم       47.80       0   غائب                 37  ...   \n",
       "153829   علمي علوم       58.41       1   53.5                 29  ...   \n",
       "153830        أدبي       60.85       1   40.5                 38  ...   \n",
       "153831        أدبي       58.05       1     40                 39  ...   \n",
       "153832        أدبي       65.85       1     42                 35  ...   \n",
       "\n",
       "       chemistry   biology   geology applied_math   physics  total religion  \\\n",
       "0             30  غير مقرر  غير مقرر           33        31  225.0       18   \n",
       "1       غير مقرر  غير مقرر  غير مقرر     غير مقرر  غير مقرر  307.0       16   \n",
       "2       غير مقرر  غير مقرر  غير مقرر     غير مقرر  غير مقرر  187.5       16   \n",
       "3       غير مقرر  غير مقرر  غير مقرر     غير مقرر  غير مقرر  229.0       21   \n",
       "4             31        30        30     غير مقرر        30  258.0       18   \n",
       "...          ...       ...       ...          ...       ...    ...      ...   \n",
       "153828        30        37        56     غير مقرر        36  196.0   إجتياز   \n",
       "153829        30        30        34     غير مقرر        30  239.5   إجتياز   \n",
       "153830  غير مقرر  غير مقرر  غير مقرر     غير مقرر  غير مقرر  249.5   إجتياز   \n",
       "153831  غير مقرر  غير مقرر  غير مقرر     غير مقرر  غير مقرر  238.0   إجتياز   \n",
       "153832  غير مقرر  غير مقرر  غير مقرر     غير مقرر  غير مقرر  270.0   إجتياز   \n",
       "\n",
       "       altarbiat_alwatania economics_statistics gender  \n",
       "0                       20                   31      M  \n",
       "1                     12.5                 28.5      F  \n",
       "2                     12.5                   33      F  \n",
       "3                     12.5                   25      M  \n",
       "4                       25                   28      M  \n",
       "...                    ...                  ...    ...  \n",
       "153828              إجتياز               إجتياز      M  \n",
       "153829              إجتياز               إجتياز      F  \n",
       "153830              إجتياز               إجتياز      F  \n",
       "153831              إجتياز               إجتياز      F  \n",
       "153832              إجتياز               إجتياز      F  \n",
       "\n",
       "[153833 rows x 26 columns]"
      ]
     },
     "execution_count": 44,
     "metadata": {},
     "output_type": "execute_result"
    }
   ],
   "source": [
    "secondwithGender = pd.merge(secondTry,dfGender[['desk_no', 'gender']],on = 'desk_no',how = 'left')\n",
    "secondwithGender"
   ]
  },
  {
   "cell_type": "code",
   "execution_count": 45,
   "id": "aac331a5",
   "metadata": {
    "execution": {
     "iopub.execute_input": "2022-12-01T14:43:03.139697Z",
     "iopub.status.busy": "2022-12-01T14:43:03.138589Z",
     "iopub.status.idle": "2022-12-01T14:43:03.153191Z",
     "shell.execute_reply": "2022-12-01T14:43:03.152229Z"
    },
    "papermill": {
     "duration": 0.039576,
     "end_time": "2022-12-01T14:43:03.155673",
     "exception": false,
     "start_time": "2022-12-01T14:43:03.116097",
     "status": "completed"
    },
    "tags": []
   },
   "outputs": [
    {
     "data": {
      "text/plain": [
       "784"
      ]
     },
     "execution_count": 45,
     "metadata": {},
     "output_type": "execute_result"
    }
   ],
   "source": [
    "secondwithGender['gender'].isna().sum()"
   ]
  },
  {
   "cell_type": "markdown",
   "id": "2a566273",
   "metadata": {
    "papermill": {
     "duration": 0.021198,
     "end_time": "2022-12-01T14:43:03.198526",
     "exception": false,
     "start_time": "2022-12-01T14:43:03.177328",
     "status": "completed"
    },
    "tags": []
   },
   "source": [
    "# merge first Exam and Second Exam"
   ]
  },
  {
   "cell_type": "code",
   "execution_count": 46,
   "id": "fa844821",
   "metadata": {
    "execution": {
     "iopub.execute_input": "2022-12-01T14:43:03.243338Z",
     "iopub.status.busy": "2022-12-01T14:43:03.242334Z",
     "iopub.status.idle": "2022-12-01T14:43:08.188087Z",
     "shell.execute_reply": "2022-12-01T14:43:08.186593Z"
    },
    "papermill": {
     "duration": 4.9711,
     "end_time": "2022-12-01T14:43:08.190911",
     "exception": false,
     "start_time": "2022-12-01T14:43:03.219811",
     "status": "completed"
    },
    "tags": []
   },
   "outputs": [],
   "source": [
    "df = pd.merge(FirstTry,secondwithGender, how='outer', on=['desk_no', 'name', 'school_name_arabic', 'administration','branch', 'gender','government_Arabic'],suffixes=(None,'_2nd'), indicator=True)"
   ]
  },
  {
   "cell_type": "code",
   "execution_count": 47,
   "id": "3c6549c1",
   "metadata": {
    "execution": {
     "iopub.execute_input": "2022-12-01T14:43:08.236569Z",
     "iopub.status.busy": "2022-12-01T14:43:08.236159Z",
     "iopub.status.idle": "2022-12-01T14:43:08.243586Z",
     "shell.execute_reply": "2022-12-01T14:43:08.242375Z"
    },
    "papermill": {
     "duration": 0.033725,
     "end_time": "2022-12-01T14:43:08.246280",
     "exception": false,
     "start_time": "2022-12-01T14:43:08.212555",
     "status": "completed"
    },
    "tags": []
   },
   "outputs": [
    {
     "data": {
      "text/plain": [
       "(683286, 46)"
      ]
     },
     "execution_count": 47,
     "metadata": {},
     "output_type": "execute_result"
    }
   ],
   "source": [
    "df.shape"
   ]
  },
  {
   "cell_type": "code",
   "execution_count": 48,
   "id": "866dd969",
   "metadata": {
    "execution": {
     "iopub.execute_input": "2022-12-01T14:43:08.304466Z",
     "iopub.status.busy": "2022-12-01T14:43:08.304065Z",
     "iopub.status.idle": "2022-12-01T14:43:09.437870Z",
     "shell.execute_reply": "2022-12-01T14:43:09.435277Z"
    },
    "papermill": {
     "duration": 1.168681,
     "end_time": "2022-12-01T14:43:09.440775",
     "exception": false,
     "start_time": "2022-12-01T14:43:08.272094",
     "status": "completed"
    },
    "tags": []
   },
   "outputs": [
    {
     "name": "stdout",
     "output_type": "stream",
     "text": [
      "<class 'pandas.core.frame.DataFrame'>\n",
      "Int64Index: 683286 entries, 0 to 683285\n",
      "Data columns (total 46 columns):\n",
      " #   Column                    Non-Null Count   Dtype   \n",
      "---  ------                    --------------   -----   \n",
      " 0   desk_no                   683286 non-null  float64 \n",
      " 1   name                      683286 non-null  object  \n",
      " 2   school_name_arabic        683286 non-null  object  \n",
      " 3   administration            683286 non-null  object  \n",
      " 4   government_Arabic         683286 non-null  object  \n",
      " 5   branch                    683286 non-null  category\n",
      " 6   Percentage                682347 non-null  float64 \n",
      " 7   status                    682347 non-null  category\n",
      " 8   arabic                    682347 non-null  object  \n",
      " 9   first_foreign_lang        682347 non-null  object  \n",
      " 10  second_foreign_lang       682347 non-null  object  \n",
      " 11  pure_mathematics          682347 non-null  object  \n",
      " 12  history                   682347 non-null  object  \n",
      " 13  geography                 682347 non-null  object  \n",
      " 14  philosophy                682347 non-null  object  \n",
      " 15  psychology                682347 non-null  object  \n",
      " 16  chemistry                 682347 non-null  object  \n",
      " 17  biology                   682347 non-null  object  \n",
      " 18  geology                   682347 non-null  object  \n",
      " 19  applied_math              682347 non-null  object  \n",
      " 20  physics                   682347 non-null  object  \n",
      " 21  total                     682347 non-null  float64 \n",
      " 22  religion                  682347 non-null  object  \n",
      " 23  altarbiat_alwatania       682347 non-null  object  \n",
      " 24  economics_statistics      682347 non-null  object  \n",
      " 25  gender                    682502 non-null  object  \n",
      " 26  Percentage_2nd            153833 non-null  float64 \n",
      " 27  status_2nd                153833 non-null  float64 \n",
      " 28  arabic_2nd                153833 non-null  object  \n",
      " 29  first_foreign_lang_2nd    153833 non-null  object  \n",
      " 30  second_foreign_lang_2nd   153833 non-null  object  \n",
      " 31  pure_mathematics_2nd      153833 non-null  object  \n",
      " 32  history_2nd               153833 non-null  object  \n",
      " 33  geography_2nd             153833 non-null  object  \n",
      " 34  philosophy_2nd            153833 non-null  object  \n",
      " 35  psychology_2nd            153833 non-null  object  \n",
      " 36  chemistry_2nd             153833 non-null  object  \n",
      " 37  biology_2nd               153833 non-null  object  \n",
      " 38  geology_2nd               153833 non-null  object  \n",
      " 39  applied_math_2nd          153833 non-null  object  \n",
      " 40  physics_2nd               153833 non-null  object  \n",
      " 41  total_2nd                 153833 non-null  float64 \n",
      " 42  religion_2nd              153833 non-null  object  \n",
      " 43  altarbiat_alwatania_2nd   153833 non-null  object  \n",
      " 44  economics_statistics_2nd  153833 non-null  object  \n",
      " 45  _merge                    683286 non-null  category\n",
      "dtypes: category(3), float64(6), object(37)\n",
      "memory usage: 231.3+ MB\n"
     ]
    }
   ],
   "source": [
    "df.info()"
   ]
  },
  {
   "cell_type": "code",
   "execution_count": 49,
   "id": "d544cc5e",
   "metadata": {
    "execution": {
     "iopub.execute_input": "2022-12-01T14:43:09.487527Z",
     "iopub.status.busy": "2022-12-01T14:43:09.487110Z",
     "iopub.status.idle": "2022-12-01T14:46:17.527440Z",
     "shell.execute_reply": "2022-12-01T14:46:17.525969Z"
    },
    "papermill": {
     "duration": 188.067342,
     "end_time": "2022-12-01T14:46:17.530806",
     "exception": false,
     "start_time": "2022-12-01T14:43:09.463464",
     "status": "completed"
    },
    "tags": []
   },
   "outputs": [
    {
     "name": "stderr",
     "output_type": "stream",
     "text": [
      "100%|██████████| 17/17 [03:07<00:00, 11.06s/it]\n",
      "100%|██████████| 17/17 [00:00<00:00, 361.86it/s]\n"
     ]
    }
   ],
   "source": [
    "from tqdm import tqdm\n",
    "\n",
    "for i in tqdm(range(8, 25)):\n",
    "    df.iloc[:,i]= df.iloc[:,i].apply(pd.to_numeric, errors='coerce')\n",
    "for i in tqdm(range(8, 25)):\n",
    "    df.iloc[:,i]= df.iloc[:,i].astype('float32')"
   ]
  },
  {
   "cell_type": "code",
   "execution_count": 50,
   "id": "393bcc89",
   "metadata": {
    "execution": {
     "iopub.execute_input": "2022-12-01T14:46:17.607502Z",
     "iopub.status.busy": "2022-12-01T14:46:17.606771Z",
     "iopub.status.idle": "2022-12-01T14:47:24.605127Z",
     "shell.execute_reply": "2022-12-01T14:47:24.603234Z"
    },
    "papermill": {
     "duration": 67.040437,
     "end_time": "2022-12-01T14:47:24.610067",
     "exception": false,
     "start_time": "2022-12-01T14:46:17.569630",
     "status": "completed"
    },
    "tags": []
   },
   "outputs": [
    {
     "name": "stderr",
     "output_type": "stream",
     "text": [
      "100%|██████████| 16/16 [01:06<00:00,  4.18s/it]\n",
      "100%|██████████| 16/16 [00:00<00:00, 409.58it/s]\n"
     ]
    }
   ],
   "source": [
    "from tqdm import tqdm\n",
    "\n",
    "for i in tqdm(range(28, 44)):\n",
    "    df.iloc[:,i]= df.iloc[:,i].apply(pd.to_numeric, errors='coerce')\n",
    "for i in tqdm(range(28, 44)):\n",
    "    df.iloc[:,i]= df.iloc[:,i].astype('float32')"
   ]
  },
  {
   "cell_type": "code",
   "execution_count": 51,
   "id": "a35d279a",
   "metadata": {
    "execution": {
     "iopub.execute_input": "2022-12-01T14:47:24.664897Z",
     "iopub.status.busy": "2022-12-01T14:47:24.664210Z",
     "iopub.status.idle": "2022-12-01T14:47:24.924598Z",
     "shell.execute_reply": "2022-12-01T14:47:24.923373Z"
    },
    "papermill": {
     "duration": 0.291654,
     "end_time": "2022-12-01T14:47:24.927767",
     "exception": false,
     "start_time": "2022-12-01T14:47:24.636113",
     "status": "completed"
    },
    "tags": []
   },
   "outputs": [
    {
     "name": "stdout",
     "output_type": "stream",
     "text": [
      "<class 'pandas.core.frame.DataFrame'>\n",
      "Int64Index: 683286 entries, 0 to 683285\n",
      "Data columns (total 46 columns):\n",
      " #   Column                    Non-Null Count   Dtype   \n",
      "---  ------                    --------------   -----   \n",
      " 0   desk_no                   683286 non-null  float64 \n",
      " 1   name                      683286 non-null  object  \n",
      " 2   school_name_arabic        683286 non-null  object  \n",
      " 3   administration            683286 non-null  object  \n",
      " 4   government_Arabic         683286 non-null  object  \n",
      " 5   branch                    683286 non-null  category\n",
      " 6   Percentage                682347 non-null  float64 \n",
      " 7   status                    682347 non-null  category\n",
      " 8   arabic                    678555 non-null  float32 \n",
      " 9   first_foreign_lang        677238 non-null  float32 \n",
      " 10  second_foreign_lang       676657 non-null  float32 \n",
      " 11  pure_mathematics          96729 non-null   float32 \n",
      " 12  history                   258155 non-null  float32 \n",
      " 13  geography                 258427 non-null  float32 \n",
      " 14  philosophy                258334 non-null  float32 \n",
      " 15  psychology                258297 non-null  float32 \n",
      " 16  chemistry                 418352 non-null  float32 \n",
      " 17  biology                   322434 non-null  float32 \n",
      " 18  geology                   322775 non-null  float32 \n",
      " 19  applied_math              96805 non-null   float32 \n",
      " 20  physics                   417887 non-null  float32 \n",
      " 21  total                     682347 non-null  float32 \n",
      " 22  religion                  610548 non-null  float32 \n",
      " 23  altarbiat_alwatania       610740 non-null  float32 \n",
      " 24  economics_statistics      610129 non-null  float32 \n",
      " 25  gender                    682502 non-null  object  \n",
      " 26  Percentage_2nd            153833 non-null  float64 \n",
      " 27  status_2nd                153833 non-null  float64 \n",
      " 28  arabic_2nd                153561 non-null  float32 \n",
      " 29  first_foreign_lang_2nd    153481 non-null  float32 \n",
      " 30  second_foreign_lang_2nd   153048 non-null  float32 \n",
      " 31  pure_mathematics_2nd      17051 non-null   float32 \n",
      " 32  history_2nd               72787 non-null   float32 \n",
      " 33  geography_2nd             72796 non-null   float32 \n",
      " 34  philosophy_2nd            72841 non-null   float32 \n",
      " 35  psychology_2nd            72836 non-null   float32 \n",
      " 36  chemistry_2nd             80510 non-null   float32 \n",
      " 37  biology_2nd               63585 non-null   float32 \n",
      " 38  geology_2nd               63628 non-null   float32 \n",
      " 39  applied_math_2nd          17107 non-null   float32 \n",
      " 40  physics_2nd               80430 non-null   float32 \n",
      " 41  total_2nd                 153833 non-null  float32 \n",
      " 42  religion_2nd              120938 non-null  float32 \n",
      " 43  altarbiat_alwatania_2nd   120966 non-null  float32 \n",
      " 44  economics_statistics_2nd  153833 non-null  object  \n",
      " 45  _merge                    683286 non-null  category\n",
      "dtypes: category(3), float32(33), float64(4), object(6)\n",
      "memory usage: 145.3+ MB\n"
     ]
    }
   ],
   "source": [
    "df.info()"
   ]
  },
  {
   "cell_type": "code",
   "execution_count": 52,
   "id": "407c297b",
   "metadata": {
    "execution": {
     "iopub.execute_input": "2022-12-01T14:47:24.981726Z",
     "iopub.status.busy": "2022-12-01T14:47:24.980952Z",
     "iopub.status.idle": "2022-12-01T14:47:24.987598Z",
     "shell.execute_reply": "2022-12-01T14:47:24.986608Z"
    },
    "papermill": {
     "duration": 0.03643,
     "end_time": "2022-12-01T14:47:24.990524",
     "exception": false,
     "start_time": "2022-12-01T14:47:24.954094",
     "status": "completed"
    },
    "tags": []
   },
   "outputs": [],
   "source": [
    "df.rename(columns = {'school_name_arabic':'school_name', 'government_Arabic':'city',\"administration\":'subCity','altarbiat_alwatania':'national_education',\"altarbiat_alwatania_2nd\":'national_education_2nd'}, inplace = True)\n"
   ]
  },
  {
   "cell_type": "markdown",
   "id": "4f9dfa18",
   "metadata": {
    "papermill": {
     "duration": 0.02576,
     "end_time": "2022-12-01T14:47:25.043109",
     "exception": false,
     "start_time": "2022-12-01T14:47:25.017349",
     "status": "completed"
    },
    "tags": []
   },
   "source": []
  },
  {
   "cell_type": "markdown",
   "id": "45620fde",
   "metadata": {
    "execution": {
     "iopub.execute_input": "2022-12-01T12:49:24.885770Z",
     "iopub.status.busy": "2022-12-01T12:49:24.885168Z",
     "iopub.status.idle": "2022-12-01T12:49:24.943954Z",
     "shell.execute_reply": "2022-12-01T12:49:24.942175Z",
     "shell.execute_reply.started": "2022-12-01T12:49:24.885730Z"
    },
    "papermill": {
     "duration": 0.028009,
     "end_time": "2022-12-01T14:47:25.098049",
     "exception": false,
     "start_time": "2022-12-01T14:47:25.070040",
     "status": "completed"
    },
    "tags": []
   },
   "source": [
    "# How many branches We have and each branch number of student ?"
   ]
  },
  {
   "cell_type": "code",
   "execution_count": 53,
   "id": "627486d3",
   "metadata": {
    "execution": {
     "iopub.execute_input": "2022-12-01T14:47:25.152627Z",
     "iopub.status.busy": "2022-12-01T14:47:25.151906Z",
     "iopub.status.idle": "2022-12-01T14:47:26.407211Z",
     "shell.execute_reply": "2022-12-01T14:47:26.405938Z"
    },
    "papermill": {
     "duration": 1.285741,
     "end_time": "2022-12-01T14:47:26.410493",
     "exception": false,
     "start_time": "2022-12-01T14:47:25.124752",
     "status": "completed"
    },
    "tags": []
   },
   "outputs": [
    {
     "data": {
      "image/png": "[encoded data removed]",
      "text/plain": [
       "<Figure size 1200x800 with 1 Axes>"
      ]
     },
     "metadata": {},
     "output_type": "display_data"
    }
   ],
   "source": [
    "plt.figure(figsize=(12,8),dpi=100)\n",
    "sns.countplot(data =df,x = 'city',hue ='branch')\n",
    "plt.xticks(rotation=90)\n",
    "plt.show()"
   ]
  },
  {
   "cell_type": "markdown",
   "id": "5f686eee",
   "metadata": {
    "execution": {
     "iopub.status.busy": "2022-12-01T14:39:35.354328Z",
     "iopub.status.idle": "2022-12-01T14:39:35.354732Z",
     "shell.execute_reply": "2022-12-01T14:39:35.354545Z",
     "shell.execute_reply.started": "2022-12-01T14:39:35.354527Z"
    },
    "papermill": {
     "duration": 0.02623,
     "end_time": "2022-12-01T14:47:26.463882",
     "exception": false,
     "start_time": "2022-12-01T14:47:26.437652",
     "status": "completed"
    },
    "tags": []
   },
   "source": [
    "#city_name = []\n",
    "for i in df['city']:\n",
    "    reshaped_text = arabic_reshaper.reshape(i)\n",
    "    #bidi_text = get_display(reshaped_text)\n",
    "    city_name.append(get_display(reshaped_text))\n",
    "df['citym'] = city_name\n",
    "plt.figure(figsize=(12,8),dpi=100)\n",
    "sns.countplot(data =df,x = 'citym',hue ='branch')\n",
    "plt.xticks(rotation=90)\n",
    "plt.show()"
   ]
  }
 ],
 "metadata": {
  "kernelspec": {
   "display_name": "Python 3",
   "language": "python",
   "name": "python3"
  },
  "language_info": {
   "codemirror_mode": {
    "name": "ipython",
    "version": 3
   },
   "file_extension": ".py",
   "mimetype": "text/x-python",
   "name": "python",
   "nbconvert_exporter": "python",
   "pygments_lexer": "ipython3",
   "version": "3.7.12"
  },
  "papermill": {
   "default_parameters": {},
   "duration": 333.079089,
   "end_time": "2022-12-01T14:47:28.117441",
   "environment_variables": {},
   "exception": null,
   "input_path": "__notebook__.ipynb",
   "output_path": "__notebook__.ipynb",
   "parameters": {},
   "start_time": "2022-12-01T14:41:55.038352",
   "version": "2.3.4"
  }
 },
 "nbformat": 4,
 "nbformat_minor": 5
}
