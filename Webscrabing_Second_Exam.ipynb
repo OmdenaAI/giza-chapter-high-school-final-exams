{
  "cells": [
    {
      "cell_type": "code",
      "execution_count": null,
      "metadata": {
        "id": "n-nAnqEyCmU6"
      },
      "outputs": [],
      "source": [
        "import pandas as pd\n",
        "import pandas as pd\n",
        "import requests \n",
        "import csv \n",
        "from itertools import zip_longest\n",
        "from bs4 import BeautifulSoup\n",
        "import asyncio\n",
        "import aiohttp\n",
        "import time\n",
        "import gc\n",
        "import attr\n",
        "from tqdm import tqdm"
      ]
    },
    {
      "cell_type": "code",
      "execution_count": null,
      "metadata": {
        "id": "ySGaIlLsCy_v"
      },
      "outputs": [],
      "source": [
        "my_list=[]\n",
        "for seats in range (621553,621570):\n",
        "  response=requests.get(f'https://shbabbek.com/natega/{seats}')\n",
        "  try:\n",
        "\n",
        "   if response.status_code ==200:\n",
        "     my_list.append(response)     \n",
        "    \n",
        "  except:\n",
        "    break"
      ]
    },
    {
      "cell_type": "code",
      "execution_count": null,
      "metadata": {
        "colab": {
          "base_uri": "https://localhost:8080/"
        },
        "id": "th6TnUm1DhNF",
        "outputId": "adfaac27-3987-4a37-ee82-2c063095b17f"
      },
      "outputs": [
        {
          "data": {
            "text/plain": [
              "[<Response [200]>,\n",
              " <Response [200]>,\n",
              " <Response [200]>,\n",
              " <Response [200]>,\n",
              " <Response [200]>,\n",
              " <Response [200]>,\n",
              " <Response [200]>,\n",
              " <Response [200]>,\n",
              " <Response [200]>,\n",
              " <Response [200]>,\n",
              " <Response [200]>,\n",
              " <Response [200]>,\n",
              " <Response [200]>,\n",
              " <Response [200]>,\n",
              " <Response [200]>,\n",
              " <Response [200]>,\n",
              " <Response [200]>]"
            ]
          },
          "execution_count": 3,
          "metadata": {},
          "output_type": "execute_result"
        }
      ],
      "source": [
        "my_list"
      ]
    },
    {
      "cell_type": "code",
      "execution_count": null,
      "metadata": {
        "id": "q4I18P9TEAso"
      },
      "outputs": [],
      "source": [
        "source=response.content\n"
      ]
    },
    {
      "cell_type": "code",
      "execution_count": null,
      "metadata": {
        "id": "1nLUTyLDF5aY"
      },
      "outputs": [],
      "source": [
        "soup=BeautifulSoup(source,\"lxml\")"
      ]
    },
    {
      "cell_type": "markdown",
      "metadata": {
        "id": "5Xp0rH0VK3_O"
      },
      "source": [
        "Data We need\n"
      ]
    },
    {
      "cell_type": "code",
      "execution_count": null,
      "metadata": {
        "colab": {
          "base_uri": "https://localhost:8080/"
        },
        "id": "3CiNFOfZLoot",
        "outputId": "4b2a924b-a1be-4f81-fe36-b099e53efc87"
      },
      "outputs": [
        {
          "name": "stdout",
          "output_type": "stream",
          "text": [
            "621569\n"
          ]
        }
      ],
      "source": [
        "seat_no=soup.find_all(\"td\")[18].get_text().strip()\n",
        "print(seat_no)"
      ]
    },
    {
      "cell_type": "code",
      "execution_count": null,
      "metadata": {
        "colab": {
          "base_uri": "https://localhost:8080/"
        },
        "id": "mH-H3pJ9Lole",
        "outputId": "076039d7-9991-4455-a6bf-20055da4d16c"
      },
      "outputs": [
        {
          "name": "stdout",
          "output_type": "stream",
          "text": [
            "هاجر محمد محمد ألاجه\n"
          ]
        }
      ],
      "source": [
        "name=soup.find_all(\"td\")[20].get_text().strip()\n",
        "print(name)"
      ]
    },
    {
      "cell_type": "code",
      "execution_count": null,
      "metadata": {
        "colab": {
          "base_uri": "https://localhost:8080/"
        },
        "id": "ZLmF5iZXdN_S",
        "outputId": "52c45745-d60b-4655-ce63-f31df8674336"
      },
      "outputs": [
        {
          "name": "stdout",
          "output_type": "stream",
          "text": [
            "السادات الثانوية بنات بسمنود\n"
          ]
        }
      ],
      "source": [
        "sc_name=soup.find_all(\"td\")[22].get_text().strip()\n",
        "print(sc_name)"
      ]
    },
    {
      "cell_type": "code",
      "execution_count": null,
      "metadata": {
        "colab": {
          "base_uri": "https://localhost:8080/"
        },
        "id": "fQA_-DT5d-bq",
        "outputId": "6b94f4cf-d3df-472e-da48-ea1775dc5716"
      },
      "outputs": [
        {
          "name": "stdout",
          "output_type": "stream",
          "text": [
            "سمنود\n"
          ]
        }
      ],
      "source": [
        "depart_name=soup.find_all(\"td\")[24].get_text().strip()\n",
        "print(depart_name)"
      ]
    },
    {
      "cell_type": "code",
      "execution_count": null,
      "metadata": {
        "colab": {
          "base_uri": "https://localhost:8080/"
        },
        "id": "oDzyPJ9yeCJe",
        "outputId": "e7757e2b-9e06-40e4-a1aa-1419ff3b6ed1"
      },
      "outputs": [
        {
          "name": "stdout",
          "output_type": "stream",
          "text": [
            "أدبي\n"
          ]
        }
      ],
      "source": [
        "division=soup.find_all(\"td\")[26].get_text().strip()\n",
        "print(division)"
      ]
    },
    {
      "cell_type": "code",
      "execution_count": null,
      "metadata": {
        "colab": {
          "base_uri": "https://localhost:8080/"
        },
        "id": "vD6pAEukeDea",
        "outputId": "2deec036-191d-4b81-afd6-6ece66a609b4"
      },
      "outputs": [
        {
          "name": "stdout",
          "output_type": "stream",
          "text": [
            "316\n"
          ]
        }
      ],
      "source": [
        "total_no=soup.find_all(\"td\")[28].get_text().strip()\n",
        "print(total_no)"
      ]
    },
    {
      "cell_type": "code",
      "execution_count": null,
      "metadata": {
        "colab": {
          "base_uri": "https://localhost:8080/"
        },
        "id": "Rkd1vsFneV72",
        "outputId": "00da8632-d03b-4724-e7e5-935aaa160c59"
      },
      "outputs": [
        {
          "name": "stdout",
          "output_type": "stream",
          "text": [
            "77.07%\n"
          ]
        }
      ],
      "source": [
        "\n",
        "percentage=soup.find_all(\"td\")[30].get_text().strip()\n",
        "print(percentage)"
      ]
    },
    {
      "cell_type": "code",
      "execution_count": null,
      "metadata": {
        "colab": {
          "base_uri": "https://localhost:8080/"
        },
        "id": "bpvT-GaAeWwT",
        "outputId": "f59a39ba-18b4-470c-f76a-4508433ff533"
      },
      "outputs": [
        {
          "name": "stdout",
          "output_type": "stream",
          "text": [
            "ناجح\n"
          ]
        }
      ],
      "source": [
        "student_state=soup.find_all(\"td\")[34].get_text().strip()\n",
        "print(student_state)"
      ]
    },
    {
      "cell_type": "code",
      "execution_count": null,
      "metadata": {
        "colab": {
          "base_uri": "https://localhost:8080/"
        },
        "id": "CPX20J4VfZKC",
        "outputId": "2df4fcf6-83b1-4a42-ccde-b4071d813b76"
      },
      "outputs": [
        {
          "name": "stdout",
          "output_type": "stream",
          "text": [
            "63\n"
          ]
        }
      ],
      "source": [
        "arabic=soup.find_all(\"td\")[36].get_text().strip()\n",
        "print(arabic)"
      ]
    },
    {
      "cell_type": "code",
      "execution_count": null,
      "metadata": {
        "colab": {
          "base_uri": "https://localhost:8080/"
        },
        "id": "LXO_T2twfZGp",
        "outputId": "b689bfbd-bd56-43d5-d5aa-19d847d90271"
      },
      "outputs": [
        {
          "name": "stdout",
          "output_type": "stream",
          "text": [
            "35\n"
          ]
        }
      ],
      "source": [
        "english=soup.find_all(\"td\")[38].get_text().strip()\n",
        "print(english)"
      ]
    },
    {
      "cell_type": "code",
      "execution_count": null,
      "metadata": {
        "colab": {
          "base_uri": "https://localhost:8080/"
        },
        "id": "tv8Y8km4fY7b",
        "outputId": "308e04ff-2aa0-4c6f-cde2-54777c5df76a"
      },
      "outputs": [
        {
          "name": "stdout",
          "output_type": "stream",
          "text": [
            "37\n"
          ]
        }
      ],
      "source": [
        "third_lang=soup.find_all(\"td\")[40].get_text().strip()\n",
        "print(third_lang)"
      ]
    },
    {
      "cell_type": "code",
      "execution_count": null,
      "metadata": {
        "colab": {
          "base_uri": "https://localhost:8080/"
        },
        "id": "t27KT4LJfYtk",
        "outputId": "124e334e-54e1-4e39-f46a-96064ef700e5"
      },
      "outputs": [
        {
          "name": "stdout",
          "output_type": "stream",
          "text": [
            "غير مقرر\n"
          ]
        }
      ],
      "source": [
        "pure_math=soup.find_all(\"td\")[42].get_text().strip()\n",
        "print(pure_math)"
      ]
    },
    {
      "cell_type": "code",
      "execution_count": null,
      "metadata": {
        "colab": {
          "base_uri": "https://localhost:8080/"
        },
        "id": "tNouVH6nfSG2",
        "outputId": "9688b675-537d-4b08-9bdc-e1cded7f74b4"
      },
      "outputs": [
        {
          "name": "stdout",
          "output_type": "stream",
          "text": [
            "48\n"
          ]
        }
      ],
      "source": [
        "history=soup.find_all(\"td\")[44].get_text().strip()\n",
        "print(history)"
      ]
    },
    {
      "cell_type": "code",
      "execution_count": null,
      "metadata": {
        "colab": {
          "base_uri": "https://localhost:8080/"
        },
        "id": "-141_IRlkcZU",
        "outputId": "8f822804-ec8b-4b38-9d8d-49d0d6ab8dbb"
      },
      "outputs": [
        {
          "name": "stdout",
          "output_type": "stream",
          "text": [
            "41\n"
          ]
        }
      ],
      "source": [
        "geography=soup.find_all(\"td\")[46].get_text().strip()\n",
        "print(geography)"
      ]
    },
    {
      "cell_type": "code",
      "execution_count": null,
      "metadata": {
        "colab": {
          "base_uri": "https://localhost:8080/"
        },
        "id": "-a9rhHcbkcVy",
        "outputId": "ed25f09a-c972-4082-d827-2a11c54323ad"
      },
      "outputs": [
        {
          "name": "stdout",
          "output_type": "stream",
          "text": [
            "51\n"
          ]
        }
      ],
      "source": [
        "phelosophy=soup.find_all(\"td\")[48].get_text().strip()\n",
        "print(phelosophy)"
      ]
    },
    {
      "cell_type": "code",
      "execution_count": null,
      "metadata": {
        "colab": {
          "base_uri": "https://localhost:8080/"
        },
        "id": "0H0wR-eKkcS9",
        "outputId": "0c9703f2-6be0-4377-de8d-e71fd907759f"
      },
      "outputs": [
        {
          "name": "stdout",
          "output_type": "stream",
          "text": [
            "41\n"
          ]
        }
      ],
      "source": [
        "psycology=soup.find_all(\"td\")[50].get_text().strip()\n",
        "print(psycology)"
      ]
    },
    {
      "cell_type": "code",
      "execution_count": null,
      "metadata": {
        "colab": {
          "base_uri": "https://localhost:8080/"
        },
        "id": "9qMoGDUrkcPs",
        "outputId": "5ca628b7-05b4-47a7-f8e7-4a322d50f68d"
      },
      "outputs": [
        {
          "name": "stdout",
          "output_type": "stream",
          "text": [
            "غير مقرر\n"
          ]
        }
      ],
      "source": [
        "chemstry=soup.find_all(\"td\")[52].get_text().strip()\n",
        "print(chemstry)"
      ]
    },
    {
      "cell_type": "code",
      "execution_count": null,
      "metadata": {
        "colab": {
          "base_uri": "https://localhost:8080/"
        },
        "id": "bBKWgLv4kcMi",
        "outputId": "9ee1d87b-324f-4a25-b94b-d49ac15c85eb"
      },
      "outputs": [
        {
          "name": "stdout",
          "output_type": "stream",
          "text": [
            "غير مقرر\n"
          ]
        }
      ],
      "source": [
        "biology=soup.find_all(\"td\")[54].get_text().strip()\n",
        "print(biology)"
      ]
    },
    {
      "cell_type": "code",
      "execution_count": null,
      "metadata": {
        "colab": {
          "base_uri": "https://localhost:8080/"
        },
        "id": "boWI7-VikcG8",
        "outputId": "e9aff4ec-7db6-4fc7-8476-f3754e425368"
      },
      "outputs": [
        {
          "name": "stdout",
          "output_type": "stream",
          "text": [
            "غير مقرر\n"
          ]
        }
      ],
      "source": [
        "geoloogy=soup.find_all(\"td\")[56].get_text().strip()\n",
        "print(geoloogy)"
      ]
    },
    {
      "cell_type": "code",
      "execution_count": null,
      "metadata": {
        "colab": {
          "base_uri": "https://localhost:8080/"
        },
        "id": "VxbhslhMkb8A",
        "outputId": "157af1a4-4f09-4b0a-8929-12ee567cda82"
      },
      "outputs": [
        {
          "name": "stdout",
          "output_type": "stream",
          "text": [
            "غير مقرر\n"
          ]
        }
      ],
      "source": [
        "applied_math=soup.find_all(\"td\")[58].get_text().strip()\n",
        "print(applied_math)"
      ]
    },
    {
      "cell_type": "code",
      "execution_count": null,
      "metadata": {
        "colab": {
          "base_uri": "https://localhost:8080/"
        },
        "id": "gy848WiblKy8",
        "outputId": "a2e82919-b64b-4b41-d98a-64e76e7b4254"
      },
      "outputs": [
        {
          "name": "stdout",
          "output_type": "stream",
          "text": [
            "غير مقرر\n"
          ]
        }
      ],
      "source": [
        "physics=soup.find_all(\"td\")[60].get_text().strip()\n",
        "print(physics)"
      ]
    },
    {
      "cell_type": "code",
      "execution_count": null,
      "metadata": {
        "colab": {
          "base_uri": "https://localhost:8080/"
        },
        "id": "_kaK8LtxR-8f",
        "outputId": "2f1a3d0c-897f-47fd-e7b1-8cecce9abb60"
      },
      "outputs": [
        {
          "name": "stdout",
          "output_type": "stream",
          "text": [
            "['621569', 'هاجر محمد محمد ألاجه', 'سمنود', 'أدبي', '316', '77.07%', 'ناجح']\n"
          ]
        }
      ],
      "source": [
        "info=[]\n",
        "\n",
        "info.append(seat_no)\n",
        "info.append(name)\n",
        "info.append(depart_name)\n",
        "info.append(division)\n",
        "info.append(total_no)\n",
        "info.append(percentage)\n",
        "info.append(student_state)\n",
        "print(info)"
      ]
    },
    {
      "cell_type": "code",
      "execution_count": null,
      "metadata": {
        "id": "-eT44n-zIhe2"
      },
      "outputs": [],
      "source": [
        "def extraction(response):\n",
        "    soup = BeautifulSoup(response, 'lxml')\n",
        "    result = {}\n",
        "    result[\"seat_no\"]=(soup.find_all(\"td\")[18].get_text().strip())# to know data type use ->print (type (soup.find_all(\"td\")[21].get_text()))\n",
        "    result[\"name\"]=soup.find_all(\"td\")[20].get_text().strip()\n",
        "    result[\"total_marks\"]=(soup.find_all(\"td\")[28].get_text().strip())\n",
        "    result[\"percentage\"]=(soup.find_all(\"td\")[30].get_text().strip())#cant convert string to float\n",
        "    result[\"sc_name\"]=soup.find_all(\"td\")[22].get_text().strip()\n",
        "    result[\"edu_administration\"]=soup.find_all(\"td\")[24].get_text().strip()\n",
        "    #check pass or fill\n",
        "    result[\"passed\"]=1 if(soup.find_all(\"td\")[34].get_text().split()[0]==\"ناجح\") else[0]\n",
        "    #select division\n",
        "    result[\"select_division\"]=soup.find_all(\"td\")[26].get_text().strip()\n",
        "    #get the result of the fixed subjects\n",
        "    result[\"arabic\"]=(soup.find_all(\"td\")[36].get_text().strip())\n",
        "    result[\"english\"]=(soup.find_all(\"td\")[38].get_text().strip())\n",
        "    result[\"third_lang\"]=(soup.find_all(\"td\")[40].get_text().strip())\n",
        "    #extracte each division\n",
        "    if result[\"select_division\"][0]==\"أدبى\":\n",
        "      result[\"history\"]=(soup.find_all(\"td\")[44].get_text().strip())\n",
        "      result[\"geograpgy\"]=(soup.find_all(\"td\")[46].get_text().strip())\n",
        "      result[\"philosophy\"]=(soup.find_all(\"td\")[48].get_text().strip())\n",
        "      result[\"psychology\"]=(soup.find_all(\"td\")[50].get_text().strip())\n",
        "    elif result[\"select_division\"][0]==\"علمى علوم\":\n",
        "        result[\"chemistry\"]=(soup.find_all(\"td\")[52].get_text().strip())\n",
        "        result[\"biology\"]=(soup.find_all(\"td\")[54].get_text().strip())\n",
        "        result[\"geology\"]=(soup.find_all(\"td\")[56].get_text().strip())\n",
        "        result[\"physics\"]=(soup.find_all(\"td\")[60].get_text().strip())\n",
        "    elif result[\"select_division\"][0]==\"علمى رياضة\":\n",
        "      result[\"chemistry\"]=(soup.find_all(\"td\")[52].get_text().strip())\n",
        "      result[\"physics\"]=(soup.find_all(\"td\")[60].get_text().strip())\n",
        "      result[\"pure_math\"]=(soup.find_all(\"td\")[42].get_text().strip())\n",
        "      result[\"applied_math\"]=(soup.find_all(\"td\")[58].get_text().strip())\n",
        "    #abstract addition subjects\n",
        "    try:\n",
        "      result[\"relegion\"]=(soup.find_all(\"td\")[69].get_text().strip())\n",
        "      result[\"nat_edu\"]=(soup.find_all(\"td\")[71].get_text().strip())\n",
        "      result[\"stat_eco\"]=(soup.find_all(\"td\")[73].get_text().strip())\n",
        "    except:\n",
        "      result['religion'] = pd.NA\n",
        "      result['nat_edu'] = pd.NA \n",
        "      result['stat_eco'] = pd.NA \n",
        "    return result"
      ]
    },
    {
      "cell_type": "code",
      "execution_count": null,
      "metadata": {
        "id": "Q6f-BBBgMMls"
      },
      "outputs": [],
      "source": [
        "final = pd.DataFrame()\n",
        "for i in my_list[1:]:\n",
        "  sourse =i.content\n",
        "  result = extraction(sourse)\n",
        "  final = final.append(result,ignore_index=True)"
      ]
    },
    {
      "cell_type": "code",
      "execution_count": null,
      "metadata": {
        "colab": {
          "base_uri": "https://localhost:8080/",
          "height": 873
        },
        "id": "hBFbx1tPMPqq",
        "outputId": "578bbe9f-401f-4a09-ad8a-86e054f8e626"
      },
      "outputs": [
        {
          "data": {
            "text/html": [
              "\n",
              "  <div id=\"df-2bba350d-31b9-41ba-af46-837e0bfee83a\">\n",
              "    <div class=\"colab-df-container\">\n",
              "      <div>\n",
              "<style scoped>\n",
              "    .dataframe tbody tr th:only-of-type {\n",
              "        vertical-align: middle;\n",
              "    }\n",
              "\n",
              "    .dataframe tbody tr th {\n",
              "        vertical-align: top;\n",
              "    }\n",
              "\n",
              "    .dataframe thead th {\n",
              "        text-align: right;\n",
              "    }\n",
              "</style>\n",
              "<table border=\"1\" class=\"dataframe\">\n",
              "  <thead>\n",
              "    <tr style=\"text-align: right;\">\n",
              "      <th></th>\n",
              "      <th>seat_no</th>\n",
              "      <th>name</th>\n",
              "      <th>total_marks</th>\n",
              "      <th>percentage</th>\n",
              "      <th>sc_name</th>\n",
              "      <th>edu_administration</th>\n",
              "      <th>passed</th>\n",
              "      <th>select_division</th>\n",
              "      <th>arabic</th>\n",
              "      <th>english</th>\n",
              "      <th>third_lang</th>\n",
              "      <th>religion</th>\n",
              "      <th>nat_edu</th>\n",
              "      <th>stat_eco</th>\n",
              "      <th>relegion</th>\n",
              "    </tr>\n",
              "  </thead>\n",
              "  <tbody>\n",
              "    <tr>\n",
              "      <th>0</th>\n",
              "      <td>621554</td>\n",
              "      <td>ميرام محمد جابر سمكه</td>\n",
              "      <td>269</td>\n",
              "      <td>65.61%</td>\n",
              "      <td>السادات الثانوية بنات بسمنود</td>\n",
              "      <td>سمنود</td>\n",
              "      <td>1.0</td>\n",
              "      <td>أدبي</td>\n",
              "      <td>52</td>\n",
              "      <td>29</td>\n",
              "      <td>37</td>\n",
              "      <td>&lt;NA&gt;</td>\n",
              "      <td>&lt;NA&gt;</td>\n",
              "      <td>&lt;NA&gt;</td>\n",
              "      <td>NaN</td>\n",
              "    </tr>\n",
              "    <tr>\n",
              "      <th>1</th>\n",
              "      <td>كان من الممكن ان يكون ترتيبك 340 على الجمهورية...</td>\n",
              "      <td>رقم الجلوس</td>\n",
              "      <td>الشعبة</td>\n",
              "      <td>المجموع</td>\n",
              "      <td>الإسم</td>\n",
              "      <td>المدرسة</td>\n",
              "      <td>[0]</td>\n",
              "      <td>الإدارة</td>\n",
              "      <td>حالة الطالب</td>\n",
              "      <td>اللغة العربية</td>\n",
              "      <td>اللغة الأجنبية الأولى</td>\n",
              "      <td>&lt;NA&gt;</td>\n",
              "      <td>&lt;NA&gt;</td>\n",
              "      <td>&lt;NA&gt;</td>\n",
              "      <td>17</td>\n",
              "    </tr>\n",
              "    <tr>\n",
              "      <th>2</th>\n",
              "      <td>621556</td>\n",
              "      <td>نجلاء محمد الغريب السلامونى</td>\n",
              "      <td>293</td>\n",
              "      <td>71.46%</td>\n",
              "      <td>السادات الثانوية بنات بسمنود</td>\n",
              "      <td>سمنود</td>\n",
              "      <td>1</td>\n",
              "      <td>أدبي</td>\n",
              "      <td>61</td>\n",
              "      <td>36</td>\n",
              "      <td>39</td>\n",
              "      <td>&lt;NA&gt;</td>\n",
              "      <td>&lt;NA&gt;</td>\n",
              "      <td>&lt;NA&gt;</td>\n",
              "      <td>NaN</td>\n",
              "    </tr>\n",
              "    <tr>\n",
              "      <th>3</th>\n",
              "      <td>621557</td>\n",
              "      <td>ندى محمد زكى عبد القادر كرات</td>\n",
              "      <td>319</td>\n",
              "      <td>77.8%</td>\n",
              "      <td>السادات الثانوية بنات بسمنود</td>\n",
              "      <td>سمنود</td>\n",
              "      <td>1</td>\n",
              "      <td>أدبي</td>\n",
              "      <td>60</td>\n",
              "      <td>43</td>\n",
              "      <td>39</td>\n",
              "      <td>&lt;NA&gt;</td>\n",
              "      <td>&lt;NA&gt;</td>\n",
              "      <td>&lt;NA&gt;</td>\n",
              "      <td>NaN</td>\n",
              "    </tr>\n",
              "    <tr>\n",
              "      <th>4</th>\n",
              "      <td>621558</td>\n",
              "      <td>ندى مصطفى كمال زغلول</td>\n",
              "      <td>248</td>\n",
              "      <td>60.49%</td>\n",
              "      <td>السادات الثانوية بنات بسمنود</td>\n",
              "      <td>سمنود</td>\n",
              "      <td>1</td>\n",
              "      <td>أدبي</td>\n",
              "      <td>52</td>\n",
              "      <td>25</td>\n",
              "      <td>38</td>\n",
              "      <td>&lt;NA&gt;</td>\n",
              "      <td>&lt;NA&gt;</td>\n",
              "      <td>&lt;NA&gt;</td>\n",
              "      <td>NaN</td>\n",
              "    </tr>\n",
              "    <tr>\n",
              "      <th>5</th>\n",
              "      <td>كان من الممكن ان يكون ترتيبك 356 على الجمهورية...</td>\n",
              "      <td>رقم الجلوس</td>\n",
              "      <td>الشعبة</td>\n",
              "      <td>المجموع</td>\n",
              "      <td>الإسم</td>\n",
              "      <td>المدرسة</td>\n",
              "      <td>[0]</td>\n",
              "      <td>الإدارة</td>\n",
              "      <td>حالة الطالب</td>\n",
              "      <td>اللغة العربية</td>\n",
              "      <td>اللغة الأجنبية الأولى</td>\n",
              "      <td>&lt;NA&gt;</td>\n",
              "      <td>&lt;NA&gt;</td>\n",
              "      <td>&lt;NA&gt;</td>\n",
              "      <td>17</td>\n",
              "    </tr>\n",
              "    <tr>\n",
              "      <th>6</th>\n",
              "      <td>621560</td>\n",
              "      <td>نغم احمد صلاح احمد هيبه</td>\n",
              "      <td>272</td>\n",
              "      <td>66.34%</td>\n",
              "      <td>السادات الثانوية بنات بسمنود</td>\n",
              "      <td>سمنود</td>\n",
              "      <td>1</td>\n",
              "      <td>أدبي</td>\n",
              "      <td>51</td>\n",
              "      <td>34</td>\n",
              "      <td>36</td>\n",
              "      <td>&lt;NA&gt;</td>\n",
              "      <td>&lt;NA&gt;</td>\n",
              "      <td>&lt;NA&gt;</td>\n",
              "      <td>NaN</td>\n",
              "    </tr>\n",
              "    <tr>\n",
              "      <th>7</th>\n",
              "      <td>كان من الممكن ان يكون ترتيبك 360 على الجمهورية...</td>\n",
              "      <td>رقم الجلوس</td>\n",
              "      <td>الشعبة</td>\n",
              "      <td>المجموع</td>\n",
              "      <td>الإسم</td>\n",
              "      <td>المدرسة</td>\n",
              "      <td>[0]</td>\n",
              "      <td>الإدارة</td>\n",
              "      <td>حالة الطالب</td>\n",
              "      <td>اللغة العربية</td>\n",
              "      <td>اللغة الأجنبية الأولى</td>\n",
              "      <td>&lt;NA&gt;</td>\n",
              "      <td>&lt;NA&gt;</td>\n",
              "      <td>&lt;NA&gt;</td>\n",
              "      <td>21</td>\n",
              "    </tr>\n",
              "    <tr>\n",
              "      <th>8</th>\n",
              "      <td>كان من الممكن ان يكون ترتيبك 304 على الجمهورية...</td>\n",
              "      <td>رقم الجلوس</td>\n",
              "      <td>الشعبة</td>\n",
              "      <td>المجموع</td>\n",
              "      <td>الإسم</td>\n",
              "      <td>المدرسة</td>\n",
              "      <td>[0]</td>\n",
              "      <td>الإدارة</td>\n",
              "      <td>حالة الطالب</td>\n",
              "      <td>اللغة العربية</td>\n",
              "      <td>اللغة الأجنبية الأولى</td>\n",
              "      <td>&lt;NA&gt;</td>\n",
              "      <td>&lt;NA&gt;</td>\n",
              "      <td>&lt;NA&gt;</td>\n",
              "      <td>18</td>\n",
              "    </tr>\n",
              "    <tr>\n",
              "      <th>9</th>\n",
              "      <td>621563</td>\n",
              "      <td>نور اشرف حامد عماره</td>\n",
              "      <td>240</td>\n",
              "      <td>58.54%</td>\n",
              "      <td>السادات الثانوية بنات بسمنود</td>\n",
              "      <td>سمنود</td>\n",
              "      <td>1</td>\n",
              "      <td>أدبي</td>\n",
              "      <td>42</td>\n",
              "      <td>31</td>\n",
              "      <td>35</td>\n",
              "      <td>&lt;NA&gt;</td>\n",
              "      <td>&lt;NA&gt;</td>\n",
              "      <td>&lt;NA&gt;</td>\n",
              "      <td>NaN</td>\n",
              "    </tr>\n",
              "    <tr>\n",
              "      <th>10</th>\n",
              "      <td>621564</td>\n",
              "      <td>نوران عادل زيدان أبوهيف</td>\n",
              "      <td>332</td>\n",
              "      <td>80.98%</td>\n",
              "      <td>السادات الثانوية بنات بسمنود</td>\n",
              "      <td>سمنود</td>\n",
              "      <td>1</td>\n",
              "      <td>أدبي</td>\n",
              "      <td>60</td>\n",
              "      <td>42</td>\n",
              "      <td>38</td>\n",
              "      <td>&lt;NA&gt;</td>\n",
              "      <td>&lt;NA&gt;</td>\n",
              "      <td>&lt;NA&gt;</td>\n",
              "      <td>NaN</td>\n",
              "    </tr>\n",
              "    <tr>\n",
              "      <th>11</th>\n",
              "      <td>621565</td>\n",
              "      <td>نورهان ابراهيم رجب حجر</td>\n",
              "      <td>292</td>\n",
              "      <td>71.22%</td>\n",
              "      <td>السادات الثانوية بنات بسمنود</td>\n",
              "      <td>سمنود</td>\n",
              "      <td>1</td>\n",
              "      <td>أدبي</td>\n",
              "      <td>58</td>\n",
              "      <td>34</td>\n",
              "      <td>35</td>\n",
              "      <td>&lt;NA&gt;</td>\n",
              "      <td>&lt;NA&gt;</td>\n",
              "      <td>&lt;NA&gt;</td>\n",
              "      <td>NaN</td>\n",
              "    </tr>\n",
              "    <tr>\n",
              "      <th>12</th>\n",
              "      <td>621566</td>\n",
              "      <td>نورهان محمد ابراهيم القليوبى</td>\n",
              "      <td>263</td>\n",
              "      <td>64.15%</td>\n",
              "      <td>السادات الثانوية بنات بسمنود</td>\n",
              "      <td>سمنود</td>\n",
              "      <td>1</td>\n",
              "      <td>أدبي</td>\n",
              "      <td>50</td>\n",
              "      <td>35</td>\n",
              "      <td>33</td>\n",
              "      <td>&lt;NA&gt;</td>\n",
              "      <td>&lt;NA&gt;</td>\n",
              "      <td>&lt;NA&gt;</td>\n",
              "      <td>NaN</td>\n",
              "    </tr>\n",
              "    <tr>\n",
              "      <th>13</th>\n",
              "      <td>كان من الممكن ان يكون ترتيبك 326 على الجمهورية...</td>\n",
              "      <td>رقم الجلوس</td>\n",
              "      <td>الشعبة</td>\n",
              "      <td>المجموع</td>\n",
              "      <td>الإسم</td>\n",
              "      <td>المدرسة</td>\n",
              "      <td>[0]</td>\n",
              "      <td>الإدارة</td>\n",
              "      <td>حالة الطالب</td>\n",
              "      <td>اللغة العربية</td>\n",
              "      <td>اللغة الأجنبية الأولى</td>\n",
              "      <td>&lt;NA&gt;</td>\n",
              "      <td>&lt;NA&gt;</td>\n",
              "      <td>&lt;NA&gt;</td>\n",
              "      <td>18</td>\n",
              "    </tr>\n",
              "    <tr>\n",
              "      <th>14</th>\n",
              "      <td>621568</td>\n",
              "      <td>هاجر السيد ربيع سلوت</td>\n",
              "      <td>264</td>\n",
              "      <td>64.39%</td>\n",
              "      <td>السادات الثانوية بنات بسمنود</td>\n",
              "      <td>سمنود</td>\n",
              "      <td>1</td>\n",
              "      <td>أدبي</td>\n",
              "      <td>51</td>\n",
              "      <td>34</td>\n",
              "      <td>35</td>\n",
              "      <td>&lt;NA&gt;</td>\n",
              "      <td>&lt;NA&gt;</td>\n",
              "      <td>&lt;NA&gt;</td>\n",
              "      <td>NaN</td>\n",
              "    </tr>\n",
              "    <tr>\n",
              "      <th>15</th>\n",
              "      <td>621569</td>\n",
              "      <td>هاجر محمد محمد ألاجه</td>\n",
              "      <td>316</td>\n",
              "      <td>77.07%</td>\n",
              "      <td>السادات الثانوية بنات بسمنود</td>\n",
              "      <td>سمنود</td>\n",
              "      <td>1</td>\n",
              "      <td>أدبي</td>\n",
              "      <td>63</td>\n",
              "      <td>35</td>\n",
              "      <td>37</td>\n",
              "      <td>&lt;NA&gt;</td>\n",
              "      <td>&lt;NA&gt;</td>\n",
              "      <td>&lt;NA&gt;</td>\n",
              "      <td>NaN</td>\n",
              "    </tr>\n",
              "  </tbody>\n",
              "</table>\n",
              "</div>\n",
              "      <button class=\"colab-df-convert\" onclick=\"convertToInteractive('df-2bba350d-31b9-41ba-af46-837e0bfee83a')\"\n",
              "              title=\"Convert this dataframe to an interactive table.\"\n",
              "              style=\"display:none;\">\n",
              "        \n",
              "  <svg xmlns=\"http://www.w3.org/2000/svg\" height=\"24px\"viewBox=\"0 0 24 24\"\n",
              "       width=\"24px\">\n",
              "    <path d=\"M0 0h24v24H0V0z\" fill=\"none\"/>\n",
              "    <path d=\"M18.56 5.44l.94 2.06.94-2.06 2.06-.94-2.06-.94-.94-2.06-.94 2.06-2.06.94zm-11 1L8.5 8.5l.94-2.06 2.06-.94-2.06-.94L8.5 2.5l-.94 2.06-2.06.94zm10 10l.94 2.06.94-2.06 2.06-.94-2.06-.94-.94-2.06-.94 2.06-2.06.94z\"/><path d=\"M17.41 7.96l-1.37-1.37c-.4-.4-.92-.59-1.43-.59-.52 0-1.04.2-1.43.59L10.3 9.45l-7.72 7.72c-.78.78-.78 2.05 0 2.83L4 21.41c.39.39.9.59 1.41.59.51 0 1.02-.2 1.41-.59l7.78-7.78 2.81-2.81c.8-.78.8-2.07 0-2.86zM5.41 20L4 18.59l7.72-7.72 1.47 1.35L5.41 20z\"/>\n",
              "  </svg>\n",
              "      </button>\n",
              "      \n",
              "  <style>\n",
              "    .colab-df-container {\n",
              "      display:flex;\n",
              "      flex-wrap:wrap;\n",
              "      gap: 12px;\n",
              "    }\n",
              "\n",
              "    .colab-df-convert {\n",
              "      background-color: #E8F0FE;\n",
              "      border: none;\n",
              "      border-radius: 50%;\n",
              "      cursor: pointer;\n",
              "      display: none;\n",
              "      fill: #1967D2;\n",
              "      height: 32px;\n",
              "      padding: 0 0 0 0;\n",
              "      width: 32px;\n",
              "    }\n",
              "\n",
              "    .colab-df-convert:hover {\n",
              "      background-color: #E2EBFA;\n",
              "      box-shadow: 0px 1px 2px rgba(60, 64, 67, 0.3), 0px 1px 3px 1px rgba(60, 64, 67, 0.15);\n",
              "      fill: #174EA6;\n",
              "    }\n",
              "\n",
              "    [theme=dark] .colab-df-convert {\n",
              "      background-color: #3B4455;\n",
              "      fill: #D2E3FC;\n",
              "    }\n",
              "\n",
              "    [theme=dark] .colab-df-convert:hover {\n",
              "      background-color: #434B5C;\n",
              "      box-shadow: 0px 1px 3px 1px rgba(0, 0, 0, 0.15);\n",
              "      filter: drop-shadow(0px 1px 2px rgba(0, 0, 0, 0.3));\n",
              "      fill: #FFFFFF;\n",
              "    }\n",
              "  </style>\n",
              "\n",
              "      <script>\n",
              "        const buttonEl =\n",
              "          document.querySelector('#df-2bba350d-31b9-41ba-af46-837e0bfee83a button.colab-df-convert');\n",
              "        buttonEl.style.display =\n",
              "          google.colab.kernel.accessAllowed ? 'block' : 'none';\n",
              "\n",
              "        async function convertToInteractive(key) {\n",
              "          const element = document.querySelector('#df-2bba350d-31b9-41ba-af46-837e0bfee83a');\n",
              "          const dataTable =\n",
              "            await google.colab.kernel.invokeFunction('convertToInteractive',\n",
              "                                                     [key], {});\n",
              "          if (!dataTable) return;\n",
              "\n",
              "          const docLinkHtml = 'Like what you see? Visit the ' +\n",
              "            '<a target=\"_blank\" href=https://colab.research.google.com/notebooks/data_table.ipynb>data table notebook</a>'\n",
              "            + ' to learn more about interactive tables.';\n",
              "          element.innerHTML = '';\n",
              "          dataTable['output_type'] = 'display_data';\n",
              "          await google.colab.output.renderOutput(dataTable, element);\n",
              "          const docLink = document.createElement('div');\n",
              "          docLink.innerHTML = docLinkHtml;\n",
              "          element.appendChild(docLink);\n",
              "        }\n",
              "      </script>\n",
              "    </div>\n",
              "  </div>\n",
              "  "
            ],
            "text/plain": [
              "                                              seat_no  \\\n",
              "0                                              621554   \n",
              "1   كان من الممكن ان يكون ترتيبك 340 على الجمهورية...   \n",
              "2                                              621556   \n",
              "3                                              621557   \n",
              "4                                              621558   \n",
              "5   كان من الممكن ان يكون ترتيبك 356 على الجمهورية...   \n",
              "6                                              621560   \n",
              "7   كان من الممكن ان يكون ترتيبك 360 على الجمهورية...   \n",
              "8   كان من الممكن ان يكون ترتيبك 304 على الجمهورية...   \n",
              "9                                              621563   \n",
              "10                                             621564   \n",
              "11                                             621565   \n",
              "12                                             621566   \n",
              "13  كان من الممكن ان يكون ترتيبك 326 على الجمهورية...   \n",
              "14                                             621568   \n",
              "15                                             621569   \n",
              "\n",
              "                            name total_marks percentage  \\\n",
              "0           ميرام محمد جابر سمكه         269     65.61%   \n",
              "1                     رقم الجلوس      الشعبة    المجموع   \n",
              "2    نجلاء محمد الغريب السلامونى         293     71.46%   \n",
              "3   ندى محمد زكى عبد القادر كرات         319      77.8%   \n",
              "4           ندى مصطفى كمال زغلول         248     60.49%   \n",
              "5                     رقم الجلوس      الشعبة    المجموع   \n",
              "6        نغم احمد صلاح احمد هيبه         272     66.34%   \n",
              "7                     رقم الجلوس      الشعبة    المجموع   \n",
              "8                     رقم الجلوس      الشعبة    المجموع   \n",
              "9            نور اشرف حامد عماره         240     58.54%   \n",
              "10       نوران عادل زيدان أبوهيف         332     80.98%   \n",
              "11        نورهان ابراهيم رجب حجر         292     71.22%   \n",
              "12  نورهان محمد ابراهيم القليوبى         263     64.15%   \n",
              "13                    رقم الجلوس      الشعبة    المجموع   \n",
              "14          هاجر السيد ربيع سلوت         264     64.39%   \n",
              "15          هاجر محمد محمد ألاجه         316     77.07%   \n",
              "\n",
              "                         sc_name edu_administration passed select_division  \\\n",
              "0   السادات الثانوية بنات بسمنود              سمنود    1.0            أدبي   \n",
              "1                          الإسم            المدرسة    [0]         الإدارة   \n",
              "2   السادات الثانوية بنات بسمنود              سمنود      1            أدبي   \n",
              "3   السادات الثانوية بنات بسمنود              سمنود      1            أدبي   \n",
              "4   السادات الثانوية بنات بسمنود              سمنود      1            أدبي   \n",
              "5                          الإسم            المدرسة    [0]         الإدارة   \n",
              "6   السادات الثانوية بنات بسمنود              سمنود      1            أدبي   \n",
              "7                          الإسم            المدرسة    [0]         الإدارة   \n",
              "8                          الإسم            المدرسة    [0]         الإدارة   \n",
              "9   السادات الثانوية بنات بسمنود              سمنود      1            أدبي   \n",
              "10  السادات الثانوية بنات بسمنود              سمنود      1            أدبي   \n",
              "11  السادات الثانوية بنات بسمنود              سمنود      1            أدبي   \n",
              "12  السادات الثانوية بنات بسمنود              سمنود      1            أدبي   \n",
              "13                         الإسم            المدرسة    [0]         الإدارة   \n",
              "14  السادات الثانوية بنات بسمنود              سمنود      1            أدبي   \n",
              "15  السادات الثانوية بنات بسمنود              سمنود      1            أدبي   \n",
              "\n",
              "         arabic        english             third_lang religion nat_edu  \\\n",
              "0            52             29                     37     <NA>    <NA>   \n",
              "1   حالة الطالب  اللغة العربية  اللغة الأجنبية الأولى     <NA>    <NA>   \n",
              "2            61             36                     39     <NA>    <NA>   \n",
              "3            60             43                     39     <NA>    <NA>   \n",
              "4            52             25                     38     <NA>    <NA>   \n",
              "5   حالة الطالب  اللغة العربية  اللغة الأجنبية الأولى     <NA>    <NA>   \n",
              "6            51             34                     36     <NA>    <NA>   \n",
              "7   حالة الطالب  اللغة العربية  اللغة الأجنبية الأولى     <NA>    <NA>   \n",
              "8   حالة الطالب  اللغة العربية  اللغة الأجنبية الأولى     <NA>    <NA>   \n",
              "9            42             31                     35     <NA>    <NA>   \n",
              "10           60             42                     38     <NA>    <NA>   \n",
              "11           58             34                     35     <NA>    <NA>   \n",
              "12           50             35                     33     <NA>    <NA>   \n",
              "13  حالة الطالب  اللغة العربية  اللغة الأجنبية الأولى     <NA>    <NA>   \n",
              "14           51             34                     35     <NA>    <NA>   \n",
              "15           63             35                     37     <NA>    <NA>   \n",
              "\n",
              "   stat_eco relegion  \n",
              "0      <NA>      NaN  \n",
              "1      <NA>       17  \n",
              "2      <NA>      NaN  \n",
              "3      <NA>      NaN  \n",
              "4      <NA>      NaN  \n",
              "5      <NA>       17  \n",
              "6      <NA>      NaN  \n",
              "7      <NA>       21  \n",
              "8      <NA>       18  \n",
              "9      <NA>      NaN  \n",
              "10     <NA>      NaN  \n",
              "11     <NA>      NaN  \n",
              "12     <NA>      NaN  \n",
              "13     <NA>       18  \n",
              "14     <NA>      NaN  \n",
              "15     <NA>      NaN  "
            ]
          },
          "execution_count": 30,
          "metadata": {},
          "output_type": "execute_result"
        }
      ],
      "source": [
        "final"
      ]
    },
    {
      "cell_type": "code",
      "execution_count": null,
      "metadata": {
        "id": "pmkytPhEMWnx"
      },
      "outputs": [],
      "source": [
        "final.to_csv('Second_Exam_Result.csv',index=False)"
      ]
    },
    {
      "cell_type": "code",
      "execution_count": null,
      "metadata": {
        "id": "D4BDUpBUOuV1"
      },
      "outputs": [],
      "source": [
        "data=[]"
      ]
    },
    {
      "cell_type": "code",
      "execution_count": null,
      "metadata": {
        "id": "wQkYwiJsOeeC"
      },
      "outputs": [],
      "source": [
        "for i in range(len(range(621553,621570))):\n",
        "  data.append(extraction(my_list[i].content))\n"
      ]
    },
    {
      "cell_type": "code",
      "execution_count": null,
      "metadata": {
        "colab": {
          "base_uri": "https://localhost:8080/"
        },
        "id": "gQzVHJXuPMD_",
        "outputId": "0a4f7bd5-0241-41ad-d233-6951ab3c5aee"
      },
      "outputs": [
        {
          "data": {
            "text/plain": [
              "[{'seat_no': '621553',\n",
              "  'name': 'ميار السعيد البكرى ابوهيف',\n",
              "  'total_marks': '280',\n",
              "  'percentage': '68.29%',\n",
              "  'sc_name': 'السادات الثانوية بنات بسمنود',\n",
              "  'edu_administration': 'سمنود',\n",
              "  'passed': 1,\n",
              "  'select_division': 'أدبي',\n",
              "  'arabic': '53',\n",
              "  'english': '29',\n",
              "  'third_lang': '39',\n",
              "  'religion': <NA>,\n",
              "  'nat_edu': <NA>,\n",
              "  'stat_eco': <NA>},\n",
              " {'seat_no': '621554',\n",
              "  'name': 'ميرام محمد جابر سمكه',\n",
              "  'total_marks': '269',\n",
              "  'percentage': '65.61%',\n",
              "  'sc_name': 'السادات الثانوية بنات بسمنود',\n",
              "  'edu_administration': 'سمنود',\n",
              "  'passed': 1,\n",
              "  'select_division': 'أدبي',\n",
              "  'arabic': '52',\n",
              "  'english': '29',\n",
              "  'third_lang': '37',\n",
              "  'religion': <NA>,\n",
              "  'nat_edu': <NA>,\n",
              "  'stat_eco': <NA>},\n",
              " {'seat_no': 'كان من الممكن ان يكون ترتيبك 340 على الجمهورية اذا حذفنا كل المكررين',\n",
              "  'name': 'رقم الجلوس',\n",
              "  'total_marks': 'الشعبة',\n",
              "  'percentage': 'المجموع',\n",
              "  'sc_name': 'الإسم',\n",
              "  'edu_administration': 'المدرسة',\n",
              "  'passed': [0],\n",
              "  'select_division': 'الإدارة',\n",
              "  'arabic': 'حالة الطالب',\n",
              "  'english': 'اللغة العربية',\n",
              "  'third_lang': 'اللغة الأجنبية الأولى',\n",
              "  'relegion': '17',\n",
              "  'nat_edu': <NA>,\n",
              "  'religion': <NA>,\n",
              "  'stat_eco': <NA>},\n",
              " {'seat_no': '621556',\n",
              "  'name': 'نجلاء محمد الغريب السلامونى',\n",
              "  'total_marks': '293',\n",
              "  'percentage': '71.46%',\n",
              "  'sc_name': 'السادات الثانوية بنات بسمنود',\n",
              "  'edu_administration': 'سمنود',\n",
              "  'passed': 1,\n",
              "  'select_division': 'أدبي',\n",
              "  'arabic': '61',\n",
              "  'english': '36',\n",
              "  'third_lang': '39',\n",
              "  'religion': <NA>,\n",
              "  'nat_edu': <NA>,\n",
              "  'stat_eco': <NA>},\n",
              " {'seat_no': '621557',\n",
              "  'name': 'ندى محمد زكى عبد القادر كرات',\n",
              "  'total_marks': '319',\n",
              "  'percentage': '77.8%',\n",
              "  'sc_name': 'السادات الثانوية بنات بسمنود',\n",
              "  'edu_administration': 'سمنود',\n",
              "  'passed': 1,\n",
              "  'select_division': 'أدبي',\n",
              "  'arabic': '60',\n",
              "  'english': '43',\n",
              "  'third_lang': '39',\n",
              "  'religion': <NA>,\n",
              "  'nat_edu': <NA>,\n",
              "  'stat_eco': <NA>},\n",
              " {'seat_no': '621558',\n",
              "  'name': 'ندى مصطفى كمال زغلول',\n",
              "  'total_marks': '248',\n",
              "  'percentage': '60.49%',\n",
              "  'sc_name': 'السادات الثانوية بنات بسمنود',\n",
              "  'edu_administration': 'سمنود',\n",
              "  'passed': 1,\n",
              "  'select_division': 'أدبي',\n",
              "  'arabic': '52',\n",
              "  'english': '25',\n",
              "  'third_lang': '38',\n",
              "  'religion': <NA>,\n",
              "  'nat_edu': <NA>,\n",
              "  'stat_eco': <NA>},\n",
              " {'seat_no': 'كان من الممكن ان يكون ترتيبك 356 على الجمهورية اذا حذفنا كل المكررين',\n",
              "  'name': 'رقم الجلوس',\n",
              "  'total_marks': 'الشعبة',\n",
              "  'percentage': 'المجموع',\n",
              "  'sc_name': 'الإسم',\n",
              "  'edu_administration': 'المدرسة',\n",
              "  'passed': [0],\n",
              "  'select_division': 'الإدارة',\n",
              "  'arabic': 'حالة الطالب',\n",
              "  'english': 'اللغة العربية',\n",
              "  'third_lang': 'اللغة الأجنبية الأولى',\n",
              "  'relegion': '17',\n",
              "  'nat_edu': <NA>,\n",
              "  'religion': <NA>,\n",
              "  'stat_eco': <NA>},\n",
              " {'seat_no': '621560',\n",
              "  'name': 'نغم احمد صلاح احمد هيبه',\n",
              "  'total_marks': '272',\n",
              "  'percentage': '66.34%',\n",
              "  'sc_name': 'السادات الثانوية بنات بسمنود',\n",
              "  'edu_administration': 'سمنود',\n",
              "  'passed': 1,\n",
              "  'select_division': 'أدبي',\n",
              "  'arabic': '51',\n",
              "  'english': '34',\n",
              "  'third_lang': '36',\n",
              "  'religion': <NA>,\n",
              "  'nat_edu': <NA>,\n",
              "  'stat_eco': <NA>},\n",
              " {'seat_no': 'كان من الممكن ان يكون ترتيبك 360 على الجمهورية اذا حذفنا كل المكررين',\n",
              "  'name': 'رقم الجلوس',\n",
              "  'total_marks': 'الشعبة',\n",
              "  'percentage': 'المجموع',\n",
              "  'sc_name': 'الإسم',\n",
              "  'edu_administration': 'المدرسة',\n",
              "  'passed': [0],\n",
              "  'select_division': 'الإدارة',\n",
              "  'arabic': 'حالة الطالب',\n",
              "  'english': 'اللغة العربية',\n",
              "  'third_lang': 'اللغة الأجنبية الأولى',\n",
              "  'relegion': '21',\n",
              "  'nat_edu': <NA>,\n",
              "  'religion': <NA>,\n",
              "  'stat_eco': <NA>},\n",
              " {'seat_no': 'كان من الممكن ان يكون ترتيبك 304 على الجمهورية اذا حذفنا كل المكررين',\n",
              "  'name': 'رقم الجلوس',\n",
              "  'total_marks': 'الشعبة',\n",
              "  'percentage': 'المجموع',\n",
              "  'sc_name': 'الإسم',\n",
              "  'edu_administration': 'المدرسة',\n",
              "  'passed': [0],\n",
              "  'select_division': 'الإدارة',\n",
              "  'arabic': 'حالة الطالب',\n",
              "  'english': 'اللغة العربية',\n",
              "  'third_lang': 'اللغة الأجنبية الأولى',\n",
              "  'relegion': '18',\n",
              "  'nat_edu': <NA>,\n",
              "  'religion': <NA>,\n",
              "  'stat_eco': <NA>},\n",
              " {'seat_no': '621563',\n",
              "  'name': 'نور اشرف حامد عماره',\n",
              "  'total_marks': '240',\n",
              "  'percentage': '58.54%',\n",
              "  'sc_name': 'السادات الثانوية بنات بسمنود',\n",
              "  'edu_administration': 'سمنود',\n",
              "  'passed': 1,\n",
              "  'select_division': 'أدبي',\n",
              "  'arabic': '42',\n",
              "  'english': '31',\n",
              "  'third_lang': '35',\n",
              "  'religion': <NA>,\n",
              "  'nat_edu': <NA>,\n",
              "  'stat_eco': <NA>},\n",
              " {'seat_no': '621564',\n",
              "  'name': 'نوران عادل زيدان أبوهيف',\n",
              "  'total_marks': '332',\n",
              "  'percentage': '80.98%',\n",
              "  'sc_name': 'السادات الثانوية بنات بسمنود',\n",
              "  'edu_administration': 'سمنود',\n",
              "  'passed': 1,\n",
              "  'select_division': 'أدبي',\n",
              "  'arabic': '60',\n",
              "  'english': '42',\n",
              "  'third_lang': '38',\n",
              "  'religion': <NA>,\n",
              "  'nat_edu': <NA>,\n",
              "  'stat_eco': <NA>},\n",
              " {'seat_no': '621565',\n",
              "  'name': 'نورهان ابراهيم رجب حجر',\n",
              "  'total_marks': '292',\n",
              "  'percentage': '71.22%',\n",
              "  'sc_name': 'السادات الثانوية بنات بسمنود',\n",
              "  'edu_administration': 'سمنود',\n",
              "  'passed': 1,\n",
              "  'select_division': 'أدبي',\n",
              "  'arabic': '58',\n",
              "  'english': '34',\n",
              "  'third_lang': '35',\n",
              "  'religion': <NA>,\n",
              "  'nat_edu': <NA>,\n",
              "  'stat_eco': <NA>},\n",
              " {'seat_no': '621566',\n",
              "  'name': 'نورهان محمد ابراهيم القليوبى',\n",
              "  'total_marks': '263',\n",
              "  'percentage': '64.15%',\n",
              "  'sc_name': 'السادات الثانوية بنات بسمنود',\n",
              "  'edu_administration': 'سمنود',\n",
              "  'passed': 1,\n",
              "  'select_division': 'أدبي',\n",
              "  'arabic': '50',\n",
              "  'english': '35',\n",
              "  'third_lang': '33',\n",
              "  'religion': <NA>,\n",
              "  'nat_edu': <NA>,\n",
              "  'stat_eco': <NA>},\n",
              " {'seat_no': 'كان من الممكن ان يكون ترتيبك 326 على الجمهورية اذا حذفنا كل المكررين',\n",
              "  'name': 'رقم الجلوس',\n",
              "  'total_marks': 'الشعبة',\n",
              "  'percentage': 'المجموع',\n",
              "  'sc_name': 'الإسم',\n",
              "  'edu_administration': 'المدرسة',\n",
              "  'passed': [0],\n",
              "  'select_division': 'الإدارة',\n",
              "  'arabic': 'حالة الطالب',\n",
              "  'english': 'اللغة العربية',\n",
              "  'third_lang': 'اللغة الأجنبية الأولى',\n",
              "  'relegion': '18',\n",
              "  'nat_edu': <NA>,\n",
              "  'religion': <NA>,\n",
              "  'stat_eco': <NA>},\n",
              " {'seat_no': '621568',\n",
              "  'name': 'هاجر السيد ربيع سلوت',\n",
              "  'total_marks': '264',\n",
              "  'percentage': '64.39%',\n",
              "  'sc_name': 'السادات الثانوية بنات بسمنود',\n",
              "  'edu_administration': 'سمنود',\n",
              "  'passed': 1,\n",
              "  'select_division': 'أدبي',\n",
              "  'arabic': '51',\n",
              "  'english': '34',\n",
              "  'third_lang': '35',\n",
              "  'religion': <NA>,\n",
              "  'nat_edu': <NA>,\n",
              "  'stat_eco': <NA>},\n",
              " {'seat_no': '621569',\n",
              "  'name': 'هاجر محمد محمد ألاجه',\n",
              "  'total_marks': '316',\n",
              "  'percentage': '77.07%',\n",
              "  'sc_name': 'السادات الثانوية بنات بسمنود',\n",
              "  'edu_administration': 'سمنود',\n",
              "  'passed': 1,\n",
              "  'select_division': 'أدبي',\n",
              "  'arabic': '63',\n",
              "  'english': '35',\n",
              "  'third_lang': '37',\n",
              "  'religion': <NA>,\n",
              "  'nat_edu': <NA>,\n",
              "  'stat_eco': <NA>}]"
            ]
          },
          "execution_count": 35,
          "metadata": {},
          "output_type": "execute_result"
        }
      ],
      "source": [
        "data"
      ]
    },
    {
      "cell_type": "code",
      "execution_count": null,
      "metadata": {
        "id": "oIbCgB5tRC1o"
      },
      "outputs": [],
      "source": [
        "data=pd.DataFrame()"
      ]
    },
    {
      "cell_type": "code",
      "execution_count": null,
      "metadata": {
        "id": "eFZg3MNvQ2VJ"
      },
      "outputs": [],
      "source": [
        "data.to_csv('Second_Exam_Result.csv',index=False)"
      ]
    },
    {
      "cell_type": "code",
      "execution_count": null,
      "metadata": {
        "id": "od7tFhsSRKNI"
      },
      "outputs": [],
      "source": []
    }
  ],
  "metadata": {
    "colab": {
      "provenance": []
    },
    "kernelspec": {
      "display_name": "Python 3",
      "language": "python",
      "name": "python3"
    },
    "language_info": {
      "name": "python",
      "version": "3.11.1 (tags/v3.11.1:a7a450f, Dec  6 2022, 19:58:39) [MSC v.1934 64 bit (AMD64)]"
    },
    "vscode": {
      "interpreter": {
        "hash": "ea196479a5385923632da45525d7188e610e0eb2dc56d25f3c56871880664297"
      }
    }
  },
  "nbformat": 4,
  "nbformat_minor": 0
}
