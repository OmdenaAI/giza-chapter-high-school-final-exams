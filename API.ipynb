{
  "cells": [
    {
      "cell_type": "code",
      "execution_count": null,
      "metadata": {
        "id": "OGGICVpn0wbe"
      },
      "outputs": [],
      "source": [
        "url=\"https://api.exchangeratesapi.io/latest\""
      ]
    },
    {
      "cell_type": "markdown",
      "metadata": {
        "id": "7-Puauhy1Jbi"
      },
      "source": [
        "the code of request "
      ]
    },
    {
      "cell_type": "code",
      "execution_count": null,
      "metadata": {
        "id": "4F7yrG9O00yd"
      },
      "outputs": [],
      "source": [
        "import requests"
      ]
    },
    {
      "cell_type": "code",
      "execution_count": null,
      "metadata": {
        "id": "vB3G5kmg0_ks"
      },
      "outputs": [],
      "source": [
        "response =requests.get(url)"
      ]
    },
    {
      "cell_type": "markdown",
      "metadata": {
        "id": "ptMIGVl31M5p"
      },
      "source": [
        "investigate responces"
      ]
    },
    {
      "cell_type": "code",
      "execution_count": null,
      "metadata": {
        "colab": {
          "base_uri": "https://localhost:8080/"
        },
        "id": "MEasRGne1PuQ",
        "outputId": "49c5008b-6aac-4d13-a9a2-e3e6a96d0862"
      },
      "outputs": [
        {
          "data": {
            "text/plain": [
              "True"
            ]
          },
          "execution_count": 5,
          "metadata": {},
          "output_type": "execute_result"
        }
      ],
      "source": [
        "response.ok"
      ]
    },
    {
      "cell_type": "code",
      "execution_count": null,
      "metadata": {
        "colab": {
          "base_uri": "https://localhost:8080/"
        },
        "id": "WDUT8F0Z1ehI",
        "outputId": "6215b448-aa3d-4896-9d14-274214520b0c"
      },
      "outputs": [
        {
          "data": {
            "text/plain": [
              "200"
            ]
          },
          "execution_count": 6,
          "metadata": {},
          "output_type": "execute_result"
        }
      ],
      "source": [
        "response.status_code"
      ]
    },
    {
      "cell_type": "markdown",
      "metadata": {
        "id": "Zz_b0_5Y1pvP"
      },
      "source": [
        "to check what is the data contain"
      ]
    },
    {
      "cell_type": "code",
      "execution_count": null,
      "metadata": {
        "colab": {
          "base_uri": "https://localhost:8080/",
          "height": 35
        },
        "id": "EYPpAk231tF2",
        "outputId": "ebf38955-a1aa-4c84-e384-cea416d57219"
      },
      "outputs": [
        {
          "data": {
            "application/vnd.google.colaboratory.intrinsic+json": {
              "type": "string"
            },
            "text/plain": [
              "'{\\n  \"success\": false,\\n  \"error\": {\\n    \"code\": 101,\\n    \"type\": \"missing_access_key\",\\n    \"info\": \"You have not supplied an API Access Key. [Required format: access_key=YOUR_ACCESS_KEY]\"\\n  }\\n}\\n'"
            ]
          },
          "execution_count": 7,
          "metadata": {},
          "output_type": "execute_result"
        }
      ],
      "source": [
        "response.text"
      ]
    },
    {
      "cell_type": "code",
      "execution_count": null,
      "metadata": {
        "colab": {
          "base_uri": "https://localhost:8080/"
        },
        "id": "7jlK3AA810zX",
        "outputId": "1b5de247-7065-43a6-dc13-4d4d7d80e52c"
      },
      "outputs": [
        {
          "data": {
            "text/plain": [
              "b'{\\n  \"success\": false,\\n  \"error\": {\\n    \"code\": 101,\\n    \"type\": \"missing_access_key\",\\n    \"info\": \"You have not supplied an API Access Key. [Required format: access_key=YOUR_ACCESS_KEY]\"\\n  }\\n}\\n'"
            ]
          },
          "execution_count": 8,
          "metadata": {},
          "output_type": "execute_result"
        }
      ],
      "source": [
        "response.content"
      ]
    },
    {
      "cell_type": "markdown",
      "metadata": {
        "id": "xW5IMNwv1-4B"
      },
      "source": [
        "The data with josn format ,lits to handel it"
      ]
    },
    {
      "cell_type": "code",
      "execution_count": null,
      "metadata": {
        "colab": {
          "base_uri": "https://localhost:8080/"
        },
        "id": "0l1ZIV-d2mVQ",
        "outputId": "b4bafb82-8fcb-4a85-fe89-8e2236fb7811"
      },
      "outputs": [
        {
          "data": {
            "text/plain": [
              "{'success': False,\n",
              " 'error': {'code': 101,\n",
              "  'type': 'missing_access_key',\n",
              "  'info': 'You have not supplied an API Access Key. [Required format: access_key=YOUR_ACCESS_KEY]'}}"
            ]
          },
          "execution_count": 9,
          "metadata": {},
          "output_type": "execute_result"
        }
      ],
      "source": [
        "response.json()"
      ]
    },
    {
      "cell_type": "code",
      "execution_count": null,
      "metadata": {
        "colab": {
          "base_uri": "https://localhost:8080/"
        },
        "id": "uWptKA_G2vct",
        "outputId": "4d5e4967-9ceb-4ae1-af8c-a3bcd52a5aa7"
      },
      "outputs": [
        {
          "data": {
            "text/plain": [
              "dict"
            ]
          },
          "execution_count": 10,
          "metadata": {},
          "output_type": "execute_result"
        }
      ],
      "source": [
        "type(response.json())"
      ]
    },
    {
      "cell_type": "code",
      "execution_count": null,
      "metadata": {
        "id": "-VrtOztX4WJq"
      },
      "outputs": [],
      "source": [
        "import json"
      ]
    },
    {
      "cell_type": "code",
      "execution_count": null,
      "metadata": {
        "colab": {
          "base_uri": "https://localhost:8080/",
          "height": 35
        },
        "id": "AjTIvsey4Y4N",
        "outputId": "01c77531-0539-43a6-d4d3-2e837dd4e5c0"
      },
      "outputs": [
        {
          "data": {
            "application/vnd.google.colaboratory.intrinsic+json": {
              "type": "string"
            },
            "text/plain": [
              "'{\\n    \"success\": false,\\n    \"error\": {\\n        \"code\": 101,\\n        \"type\": \"missing_access_key\",\\n        \"info\": \"You have not supplied an API Access Key. [Required format: access_key=YOUR_ACCESS_KEY]\"\\n    }\\n}'"
            ]
          },
          "execution_count": 14,
          "metadata": {},
          "output_type": "execute_result"
        }
      ],
      "source": [
        "\n",
        "json.dumps(response.json(), indent=4)"
      ]
    },
    {
      "cell_type": "code",
      "execution_count": null,
      "metadata": {
        "colab": {
          "base_uri": "https://localhost:8080/"
        },
        "id": "te9vUCuV43MA",
        "outputId": "b47cb896-3851-4d7c-8ca6-c8de9368cad5"
      },
      "outputs": [
        {
          "name": "stdout",
          "output_type": "stream",
          "text": [
            "{\n",
            "    \"success\": false,\n",
            "    \"error\": {\n",
            "        \"code\": 101,\n",
            "        \"type\": \"missing_access_key\",\n",
            "        \"info\": \"You have not supplied an API Access Key. [Required format: access_key=YOUR_ACCESS_KEY]\"\n",
            "    }\n",
            "}\n"
          ]
        }
      ],
      "source": [
        "print(json.dumps(response.json(), indent=4))"
      ]
    },
    {
      "cell_type": "code",
      "execution_count": null,
      "metadata": {
        "colab": {
          "base_uri": "https://localhost:8080/"
        },
        "id": "uMRSfD1R5C3u",
        "outputId": "29458885-70ef-4d28-d4a8-8e1ff01f3b80"
      },
      "outputs": [
        {
          "data": {
            "text/plain": [
              "dict_keys(['success', 'error'])"
            ]
          },
          "execution_count": 19,
          "metadata": {},
          "output_type": "execute_result"
        }
      ],
      "source": [
        "response.json().keys()"
      ]
    }
  ],
  "metadata": {
    "colab": {
      "provenance": []
    },
    "kernelspec": {
      "display_name": "Python 3",
      "language": "python",
      "name": "python3"
    },
    "language_info": {
      "name": "python",
      "version": "3.11.1 (tags/v3.11.1:a7a450f, Dec  6 2022, 19:58:39) [MSC v.1934 64 bit (AMD64)]"
    },
    "vscode": {
      "interpreter": {
        "hash": "ea196479a5385923632da45525d7188e610e0eb2dc56d25f3c56871880664297"
      }
    }
  },
  "nbformat": 4,
  "nbformat_minor": 0
}
